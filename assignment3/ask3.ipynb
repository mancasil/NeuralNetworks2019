{
  "nbformat": 4,
  "nbformat_minor": 0,
  "metadata": {
    "colab": {
      "name": "B51_assign_3_final.ipynb",
      "version": "0.3.2",
      "provenance": [],
      "collapsed_sections": []
    },
    "kernelspec": {
      "name": "python2",
      "display_name": "Python 2"
    }
  },
  "cells": [
    {
      "metadata": {
        "id": "VJL68DAUMSk0",
        "colab_type": "text"
      },
      "cell_type": "markdown",
      "source": [
        "## Α. Στοιχεία ομάδας\n",
        "\n",
        "# ΟΜΑΔΑ Β51\n",
        "\n",
        "\n",
        "##  ΜΙΑΜΗΣ ΧΡΗΣΤΟΣ      03113045\n",
        "## ΜΑΝΚΑ ΣΥΛΒΙΑ           03113043\n"
      ]
    },
    {
      "metadata": {
        "id": "sqL5sCBSM5Yw",
        "colab_type": "text"
      },
      "cell_type": "markdown",
      "source": [
        "### Άσκηση 3: Βελτιστοποίηση συναρτήσεων με Γενετικούς Αλγόριθμους\n",
        "\n",
        "\n",
        "Οι συναρτήσεις που έχουν ανατεθεί στην ομάδα μας είναι η 120 και η 172.\n",
        "** Η 120 είχε ένα λάθος στο δοσμένο paper κι επίσης βάσει του ορισμού της είναι scalable αλλά παρακάτω έχει οριστεί διορθωμένη κι επίσης για δυο μεταβητές για τις ανάγκες της εργασίας. **\n",
        "\n",
        "\n",
        "\n",
        "---\n",
        "\n",
        "\n",
        "\n",
        "**120 : Schwefel 2.4 Function (Non Scalable) **\n",
        "\n",
        "$$ f(x_{1},x_{2}) = (x_{1} - 1)^2 + (x_{1} - x_{1}^2)^2 + (x_{2} - 1)^2 + (x_{2} - x_{2}^2)^2 $$\n",
        "\n",
        "$$0 \\leq x_{1}, x_{2} \\leq 10 $$\n",
        "\n",
        "$$ x^{*} = (1,1), f(x^{*}) = 0 $$\n",
        "\n",
        "**172 : Xin-She Yang Function 4 (Scalable) **\n",
        "\n",
        "$$f(x_{1}, x_{2}, ... , x_{n}) = \\bigg(\\sum_{i=1}^{n}\\sin^2(x_{i}) - e^{-\\sum_{i=1}^{n}x_{i}^2}\\bigg)e^{-\\sum_{i=1}^{n}\\sin^2\\sqrt{\\mid x_{i} \\mid}} $$\n",
        "\n",
        "$$-10 \\leq x_{i} \\leq 10 $$\n",
        "\n",
        "$$ x^{*} = (0,0,...,0), f(x^{*}) = -1 $$\n",
        "\n",
        "\n"
      ]
    },
    {
      "metadata": {
        "id": "NW7raKbjWW2c",
        "colab_type": "code",
        "colab": {}
      },
      "cell_type": "code",
      "source": [
        "!pip install --upgrade pip\n",
        "!pip install --upgrade deap\n",
        "!pip install --upgrade numpy"
      ],
      "execution_count": 0,
      "outputs": []
    },
    {
      "metadata": {
        "id": "MFbrbcoEMbdy",
        "colab_type": "code",
        "colab": {}
      },
      "cell_type": "code",
      "source": [
        "from deap import base, creator\n",
        "from deap import tools\n",
        "import random\n",
        "import time\n",
        "from math import *\n",
        "from deap import algorithms\n",
        "import numpy as np\n",
        "import pandas as pd\n",
        "from tabulate import tabulate\n",
        "from mpl_toolkits.mplot3d import Axes3D\n",
        "import matplotlib.pyplot as plt"
      ],
      "execution_count": 0,
      "outputs": []
    },
    {
      "metadata": {
        "id": "5BIax8kWYnTj",
        "colab_type": "text"
      },
      "cell_type": "markdown",
      "source": [
        "## Μέρος 1. Βελτιστοποίηση μη κλιμακούμενης συνάρτησης\n",
        "\n"
      ]
    },
    {
      "metadata": {
        "id": "wAE5weRYZfRY",
        "colab_type": "text"
      },
      "cell_type": "markdown",
      "source": [
        "### Εύρεση βέλτιστου συνδυασμού τελεστών - στρατηγικής"
      ]
    },
    {
      "metadata": {
        "id": "CIl8NtjlZnls",
        "colab_type": "text"
      },
      "cell_type": "markdown",
      "source": [
        "#### Ορισμός Βασικών Συναρτήσεων"
      ]
    },
    {
      "metadata": {
        "id": "zqwjo7VRa-l7",
        "colab_type": "text"
      },
      "cell_type": "markdown",
      "source": [
        "Για καλύτερη εποπτεία παραθέτουμε την non scalable συνάρτηση\n",
        "\n",
        "**120 : Schwefel 2.4 Function (Non Scalable) **\n",
        "\n",
        "$$ f(x_{1},x_{2}) = (x_{1} - 1)^2 + (x_{1} - x_{1}^2)^2 + (x_{2} - 1)^2 + (x_{2} - x_{2}^2)^2 $$\n",
        "\n",
        "\n"
      ]
    },
    {
      "metadata": {
        "id": "hvg3rmNxM5KK",
        "colab_type": "code",
        "colab": {}
      },
      "cell_type": "code",
      "source": [
        "def evalSchwefelFun(ind): #ind should be a list of two elements because Schwefel function is defined on two variables\n",
        "  sum = 0;\n",
        "  for x in ind:\n",
        "    sum = sum + pow(x-1,2) + pow(x-pow(x,2),2);\n",
        "  return (sum,)"
      ],
      "execution_count": 0,
      "outputs": []
    },
    {
      "metadata": {
        "id": "293jQ0Sq_CVD",
        "colab_type": "code",
        "outputId": "1013e5a3-4074-4284-fb8f-1621c50af674",
        "colab": {
          "base_uri": "https://localhost:8080/",
          "height": 330
        }
      },
      "cell_type": "code",
      "source": [
        "fig = plt.figure()\n",
        "ax = fig.add_subplot(111, projection='3d')\n",
        "ax.view_init(30, -110)\n",
        "x = y = np.arange(0, 10.0, 0.05)\n",
        "X, Y = np.meshgrid(x, y)\n",
        "zs = np.array([evalSchwefelFun([x,y]) for x,y in zip(np.ravel(X), np.ravel(Y))])\n",
        "Z = zs.reshape(X.shape)\n",
        "\n",
        "ax.plot_surface(X, Y, Z, rstride=1, cstride=1, cmap='inferno', edgecolor='none')\n",
        "\n",
        "ax.set_xlabel('X')\n",
        "ax.set_ylabel('Y')\n",
        "ax.set_zlabel('Z')\n",
        "\n",
        "plt.show()"
      ],
      "execution_count": 0,
      "outputs": [
        {
          "output_type": "display_data",
          "data": {
            "image/png": "[encoded data removed]",
            "text/plain": [
              "<Figure size 576x396 with 1 Axes>"
            ]
          },
          "metadata": {
            "tags": []
          }
        }
      ]
    },
    {
      "metadata": {
        "id": "XUjAucemdBWr",
        "colab_type": "text"
      },
      "cell_type": "markdown",
      "source": [
        "Κάνουμε μερικές δοκιμές"
      ]
    },
    {
      "metadata": {
        "id": "URd-G2q7bm8c",
        "colab_type": "code",
        "outputId": "b88cbe5c-f242-4fcb-8274-cacd7d141ddf",
        "colab": {
          "base_uri": "https://localhost:8080/",
          "height": 85
        }
      },
      "cell_type": "code",
      "source": [
        "print evalSchwefelFun([2,0])\n",
        "print evalSchwefelFun([0,2])\n",
        "print evalSchwefelFun([0,0])\n",
        "print evalSchwefelFun([10,10])\n"
      ],
      "execution_count": 0,
      "outputs": [
        {
          "output_type": "stream",
          "text": [
            "(6.0,)\n",
            "(6.0,)\n",
            "(2.0,)\n",
            "(16362.0,)\n"
          ],
          "name": "stdout"
        }
      ]
    },
    {
      "metadata": {
        "id": "xk07UAaBdmIs",
        "colab_type": "text"
      },
      "cell_type": "markdown",
      "source": [
        "$$ x^{*} = (1,1), f(x^{*}) = 0 $$"
      ]
    },
    {
      "metadata": {
        "id": "9qO7Q-BKdnAr",
        "colab_type": "code",
        "outputId": "5079d204-ca50-47a1-fc4a-1b392775d88f",
        "colab": {
          "base_uri": "https://localhost:8080/",
          "height": 34
        }
      },
      "cell_type": "code",
      "source": [
        "print evalSchwefelFun([1,1])"
      ],
      "execution_count": 0,
      "outputs": [
        {
          "output_type": "stream",
          "text": [
            "(0.0,)\n"
          ],
          "name": "stdout"
        }
      ]
    },
    {
      "metadata": {
        "id": "swolabuzdiTU",
        "colab_type": "text"
      },
      "cell_type": "markdown",
      "source": [
        "$$0 \\leq x_{1}, x_{2} \\leq 10 $$\n",
        "\n",
        "Βάσει του πεδίου ορισμού της συνάρτησης ορίζουμε την εφικτότητα και την απόσταση που θα χρησιμοποιηθούν για το penalty function.\n",
        "\n",
        "**Προφανώς δεν μπορούμε να γνωρίζουμε εκ των προτέρων μια σωστή συνάρτηση απόστασης κι ενός Δ (χρησιμοποιείται αργότερα) παρά μόνο αν μελετήσουμε διαισθητικά τη συνάρτησή μας ώστε να την φράξουμε πάνω κάτω και να είμαστε σίγουροι ότι το penalty της fitness function θα είναι μεγαλύτερο από το άνω φράγμα της συνάρτησης (οπωσδήποτε μεγαλύτερο από το κάτω φράγμα). **\n",
        "\n",
        "Η συνάρτησή μας μπορεί να οριστεί σε όλο το R αλλά αυτό δεν πρέπει να παίξει ρόλο καθώς θα μπορούσαμε να έχουμε μια συνάρτηση που ορίζεται αυστηρώς στο πεδίο ορισμού της. Μελετώντας τη συνάρτησή μας μπορούμε εύκολα να την φράξουμε από πάνω εντός του πεδίου ορισμού της με τριγωνικές ανισότητες, αλλά θα αποφύγουμε όλες αυτές τις διαδικάσίες κι απλά θα χρησιμοποιήσουμε μια νόρμα ως distance που παρουσιάζεται στο documentation και ως Δ αργότερα απλά θα χρησιμοποιήσουμε κάποιον \"μεγάλο\" αριθμό."
      ]
    },
    {
      "metadata": {
        "id": "8iLMqtUcdhnU",
        "colab_type": "code",
        "colab": {}
      },
      "cell_type": "code",
      "source": [
        "MIN_BOUND = 0\n",
        "MAX_BOUND = 10\n",
        "\n",
        "def feasibleSchwefelFun( indiv ):\n",
        "    return all(x >= MIN_BOUND and x <= MAX_BOUND for x in indiv)\n",
        "\n",
        "def distanceSchwefelFun( indiv ) :\n",
        "    dist = 0.0\n",
        "    for x in indiv :\n",
        "        penalty = 0\n",
        "        if ( x < MIN_BOUND) : \n",
        "          penalty = 0 - x\n",
        "        if ( x > MAX_BOUND) : \n",
        "          penalty = x - 10\n",
        "        dist = dist + penalty\n",
        "    return dist"
      ],
      "execution_count": 0,
      "outputs": []
    },
    {
      "metadata": {
        "id": "0Zg1xgWnsuwd",
        "colab_type": "text"
      },
      "cell_type": "markdown",
      "source": [
        "#### Γενετικοί τελεστές\n",
        "\n",
        "Αρχικά θα δοκιμάσουμε δύο διαφορετικούς τελεστές διασταύρωσης και δύο διαφορετικούς τελεστές μετάλλαξης με δύο διαφορετικές τιμές υπερ-παραμέτρων για τον καθένα (μία χαμηλή-low και μία υψηλή-high). Θα δοκιμάσουμε επίσης δύο τιμές υπερ-παραμέτρων για τον τελεστή επιλογής selTournament. Έχουμε δηλαδή συνολικά 32 συνδυασμούς τελεστών. Οι επιλογές φαίνονται στην παρακάτω εικόνα:\n",
        "\n",
        "![alt text](https://i.ibb.co/yQ16Ks5/Selections.png)\n",
        "\n",
        "\n",
        "\n",
        "---\n",
        "\n"
      ]
    },
    {
      "metadata": {
        "id": "S2YZ_6ccu51s",
        "colab_type": "text"
      },
      "cell_type": "markdown",
      "source": [
        "Όλοι οι συνδυασμοί που προκύπτουν **για μια συγκεκριμένη στρατηγική** φαίνονται στον παρακάτω πίνακα. Οι στρατηγικές μας είναι τρεις eaSimple, M+L και M,L επομένως **θα έχουμε συνολικά 32*3 = 96 συνδυασμούς τελεστών-στρατηγικής για τη βελτιστοποίηση**.\n",
        "\n",
        "\n",
        "---\n",
        "\n",
        "\n",
        "\n",
        "\n",
        "| No | Crossover  | Cx Hyperparameter   | Mutation   | Mut Hyperparameter  | selTournament Hyperparameter   |\n",
        "|------|------|------|------|------|------|\n",
        "|   01  | cxUniform| Low| mutGaussian| Low| Low|\n",
        "|   02  | cxUniform| Low| mutGaussian| Low| High|\n",
        "|   03  | cxUniform| Low| mutGaussian| High| Low|\n",
        "|   04  | cxUniform| Low| mutGaussian| High| High|\n",
        "|   05  | cxUniform|High| mutGaussian| Low| Low|\n",
        "|   06  | cxUniform|High| mutGaussian| Low| High|\n",
        "|   07  | cxUniform| High| mutGaussian| High| Low|\n",
        "|   08  | cxUniform|High| mutGaussian| High| High|\n",
        "|   09  | cxUniform| Low| mutShuffleIndexes| Low| Low|\n",
        "|   10  | cxUniform| Low| mutShuffleIndexes| Low| High|\n",
        "|  11  | cxUniform| Low|mutShuffleIndexes| High| Low|\n",
        "|   12  | cxUniform| Low| mutShuffleIndexes| High| High|\n",
        "|  13  | cxUniform|High| mutShuffleIndexes| Low| Low|\n",
        "|   14  | cxUniform|High| mutShuffleIndexes| Low| High|\n",
        "|   15  | cxUniform| High| mutShuffleIndexes| High| Low|\n",
        "|   16  | cxUniform|High| mutShuffleIndexes| High| High|\n",
        "|   17  | cxBlend| Low| mutGaussian| Low| Low|\n",
        "|   18  |cxBlend| Low| mutGaussian| Low| High|\n",
        "|   19 | cxBlend| Low| mutGaussian| High| Low|\n",
        "|  20 | cxBlend| Low| mutGaussian| High| High|\n",
        "|   21  | cxBlend|High| mutGaussian| Low| Low|\n",
        "|   22 | cxBlend|High| mutGaussian| Low| High|\n",
        "|  23  | cxBlend| High| mutGaussian| High| Low|\n",
        "|   24  | cxBlend|High| mutGaussian| High| High|\n",
        "|   25  | cxBlend| Low| mutShuffleIndexes| Low| Low|\n",
        "|   26  | cxBlend| Low| mutShuffleIndexes| Low| High|\n",
        "|  27  | cxBlend| Low|mutShuffleIndexes| High| Low|\n",
        "|   28  | cxBlend| Low| mutShuffleIndexes| High| High|\n",
        "|  29 | cxBlend|High| mutShuffleIndexes| Low| Low|\n",
        "|   30  | cxBlend|High| mutShuffleIndexes| Low| High|\n",
        "|   31  | cxBlend| High| mutShuffleIndexes| High| Low|\n",
        "|   32  | cxBlend|High| mutShuffleIndexes| High| High|"
      ]
    },
    {
      "metadata": {
        "id": "vmWQ2hJAxtvt",
        "colab_type": "text"
      },
      "cell_type": "markdown",
      "source": [
        "Παρακάτω ορίζουμε μια συνάρτηση η οποία για έναν δοσμένο συνδυασμό (από τους προαναφερθέντες) θα επιστρέφει τα σχετικά κριτήρια που ορίζονται στην εκφώνηση της άσκησης γι' αυτόν τον συνδυασμό και τα οποία εν συνεχεία θα χρησιμοποιηθούν για τις συνολικές μας μετρήσεις."
      ]
    },
    {
      "metadata": {
        "id": "NlecDGWEUZLH",
        "colab_type": "code",
        "colab": {}
      },
      "cell_type": "code",
      "source": [
        "# Αρχικοποιούμε έναν creator\n",
        "creator.create(\"FitnessMin\", base.Fitness, weights=(-1.0,)) # Το αρνητικό πρόσημο σημαίνει την ελαχιστοποίηση της συνάρτησης και το ότι τα weights είναι ένας αριθμός σημαίνει ότι ελαχιστοποιούμε ένα κριτήριο μόνο.\n",
        "creator.create(\"Individual\", list, fitness=creator.FitnessMin)"
      ],
      "execution_count": 0,
      "outputs": []
    },
    {
      "metadata": {
        "id": "AMkoE6gFdvVV",
        "colab_type": "code",
        "colab": {}
      },
      "cell_type": "code",
      "source": [
        "def metrics_of_a_combination(fun_obj, select_mate, select_mutate, mate_hyperparameter, mutate_hyperparameter, select_hyperparameter, strategy, POPSIZE, MAX_GENS, CXPB, MUTPB):\n",
        "\n",
        "  # Explanation of the arguments\n",
        "  \n",
        "  \n",
        "  # fun_obj                  --> Contains the function to be minimized, domain, dimensionality, feasible, distance, delta penatly and target\n",
        "  \n",
        "  func_to_minimize = fun_obj[0]\n",
        "  domain = fun_obj[1]\n",
        "  dimensionality = fun_obj[2]\n",
        "  feasible = fun_obj[3]\n",
        "  distance = fun_obj[4]\n",
        "  delta_penalty = fun_obj[5]\n",
        "  target = fun_obj[6]\n",
        "  \n",
        "\n",
        "  # func_to_minimize        --> The function we want to minimize\n",
        "  # domain                  --> The domain of the variables of the function\n",
        "  # dimensionality          --> The number of the variables of the function\n",
        "  \n",
        "  # select_mate             --> 0 for cxUniform and 1 for cxBlend\n",
        "  # select_mutate           --> 0 for mutGaussian and 1 for mutShuffleIndexes\n",
        "  # mate_hyperparameter     --> indpb parameter for cxUniform and alpha parameter for cxBlend\n",
        "  # mutate_hyperparapeter   --> indpb parameter for mutate operators\n",
        "  # select_hyperparameter   --> tournsize parameter for selTournament operator\n",
        "  # strategy                --> 0 for eaSimple, 1 for M + L and 2 for M,L\n",
        "  # target                  --> goal + delta\n",
        "\n",
        "  # CONSTANTS\n",
        "\n",
        "  # POPSIZE    --> The size of the population\n",
        "  # MAX_GENS   --> The number of the generations\n",
        "  # CXPB       --> Crossover probability\n",
        "  # MUTPB      --> Mutation probability\n",
        "\n",
        "\n",
        "\n",
        "  V = False # Change it to true if you want to print the logs\n",
        "\n",
        "\n",
        "  toolbox = base.Toolbox()\n",
        "  toolbox.register(\"attr_real\", random.uniform, domain[0], domain[1]) \n",
        "  toolbox.register(\"individual\", tools.initRepeat, creator.Individual, toolbox.attr_real, dimensionality)  #όσες και οι διαστάσεις της συνάρτησης\n",
        "  toolbox.register(\"population\", tools.initRepeat, list, toolbox.individual) \n",
        "\n",
        "  toolbox.register( \"evaluate\", func_to_minimize) \n",
        "  toolbox.decorate( \"evaluate\", tools.DeltaPenalty (feasible, delta_penalty, distance))\n",
        "\n",
        "  population = toolbox.population(n=POPSIZE)\n",
        "  hof = tools.HallOfFame(1)\n",
        "  stats = tools.Statistics(lambda ind: ind.fitness.values)\n",
        "  stats.register(\"avg\", np.mean)\n",
        "  stats.register(\"min\", np.min)\n",
        "  stats.register(\"max\", np.max)\n",
        "\n",
        "  if (select_mate == 0):\n",
        "    toolbox.register(\"mate\", tools.cxUniform, indpb = mate_hyperparameter)\n",
        "  else:\n",
        "    toolbox.register(\"mate\", tools.cxBlend, alpha = mate_hyperparameter)\n",
        "\n",
        "  if( select_mutate == 0):\n",
        "    toolbox.register(\"mutate\", tools.mutGaussian, mu = (domain[1]-domain[0])/2, sigma=1.0, indpb = mutate_hyperparameter ) # We use Δ as mean for the guassian mutation\n",
        "  else:\n",
        "    toolbox.register(\"mutate\", tools.mutShuffleIndexes, indpb = mutate_hyperparameter )\n",
        "\n",
        "\n",
        "  toolbox.register(\"select\", tools.selTournament, tournsize =  select_hyperparameter )\n",
        "\n",
        "  timer = time.time()\n",
        "\n",
        "  if(strategy == 0): \n",
        "    new_population, logbook = algorithms.eaSimple(population, toolbox, cxpb=CXPB, mutpb=MUTPB, ngen=MAX_GENS, stats=stats, halloffame=hof, verbose=V)\n",
        "  elif(strategy == 1):\n",
        "    new_population, logbook =  algorithms.eaMuPlusLambda(population, toolbox, mu = POPSIZE, lambda_= 3*POPSIZE/2, cxpb=CXPB, mutpb=MUTPB, ngen=MAX_GENS, stats=stats, halloffame=hof, verbose=V)\n",
        "  elif(strategy == 2):\n",
        "    new_population, logbook = algorithms.eaMuCommaLambda(population, toolbox, mu = POPSIZE, lambda_= 3*POPSIZE/2, cxpb=CXPB, mutpb=MUTPB, ngen=MAX_GENS, stats=stats, halloffame=hof, verbose=V)\n",
        "\n",
        "  timer = time.time() - timer\n",
        "\n",
        "  success = int(func_to_minimize(hof[0])[0] <= target)\n",
        "\n",
        "  tot_evals =  0\n",
        "  min_first_gen = 0\n",
        "  min_first_val = 0\n",
        "  for j in range(MAX_GENS-1, -1, -1):\n",
        "    tot_evals += logbook[j]['nevals']\n",
        "    if( logbook[j]['min'] <= target ):\n",
        "      min_first_gen = j+1\n",
        "      min_first_val = logbook[j]['min']\n",
        "  \n",
        "  min_evals = 0\n",
        "  for j in range(0,min_first_gen,1):\n",
        "    min_evals += logbook[j]['nevals']\n",
        "\n",
        "  return func_to_minimize(hof[0])[0],  success, tot_evals, min_first_gen, min_first_val, min_evals, timer"
      ],
      "execution_count": 0,
      "outputs": []
    },
    {
      "metadata": {
        "id": "xgfhY6RejJFH",
        "colab_type": "code",
        "colab": {}
      },
      "cell_type": "code",
      "source": [
        "def all_operator_strategies_combos(fun_obj, mate_list, mutate_list, select_hyperparams, POPSIZE, MAX_GENS, CXPB, MUTPB ):\n",
        "\n",
        "  ## Μετρικές απόδοσης\n",
        "  min_val = []       # Η ελάχιστη τιμή που πέτυχε ο ΓΑ στο συγκεκριμένο γύρο\n",
        "  tot_evals = []     # Οι συνολικές αποτιμήσεις του συγκεκριμένου γύρου\n",
        "  time_of_round = [] # Ο χρόνος εκτέλεσης τou γύρou. \n",
        "\n",
        "\n",
        "  success = []       # 1 αν ο ΓΑ βρήκε τιμή μικρότερη του GOAL+DELTA.\n",
        "  min_first_gen = [] # Η γενιά στην οποία ο ΓΑ πέτυχε να πέσει κάτω από GOAL+DELTA\n",
        "  min_first_val = [] # Η τιμή που πέτυχε ο ΓΑ στην πρώτη γενιά που κατάφερε να πέσει κάτω απο GOAL+DELTA\n",
        "  min_evals = []     # Οι συνολικές αποτιμήσεις που χρειάστηκαν για να πάρουμε την πρώτη τιμή κάτω από GOAL + DELTA\n",
        "\n",
        "  rnd = 0\n",
        "  \n",
        "  for strategy in [0,1,2]: # 0 for eaSimple, 1 for M+L and 2 for M,L\n",
        "      \n",
        "    for select_mate in [0,1]:  # 0 for cxUniform 1 for cxBlend\n",
        "      mate_hyperparams = mate_list[select_mate]\n",
        "\n",
        "      for select_mutate in [0,1]: # 0 for mutGaussian 1 for mutShuffleIndexes\n",
        "        mutate_hyperparams = mutate_list[select_mutate]\n",
        "\n",
        "        for cx_hp in mate_hyperparams:\n",
        "          for mut_hp in mutate_hyperparams:\n",
        "            for sel_hp in select_hyperparams:\n",
        "\n",
        "              res, succ, ev, mfg, mfv, me, t =   metrics_of_a_combination(fun_obj, select_mate, select_mutate, cx_hp, mut_hp, sel_hp, strategy, POPSIZE, MAX_GENS, CXPB, MUTPB)\n",
        "\n",
        "              min_val.append(res)\n",
        "              success.append(succ)\n",
        "              tot_evals.append(ev)         \n",
        "              min_first_gen.append(mfg)\n",
        "              min_first_val.append(mfv)\n",
        "              min_evals.append(me)\n",
        "              time_of_round.append(t)\n",
        "              \n",
        "              rnd += 1\n",
        "              \n",
        "\n",
        "  return min_val,tot_evals,time_of_round,success,min_first_gen,min_first_val,min_evals\n"
      ],
      "execution_count": 0,
      "outputs": []
    },
    {
      "metadata": {
        "id": "lj9k-iA7XvPi",
        "colab_type": "text"
      },
      "cell_type": "markdown",
      "source": [
        "#### Βελτιστοποίηση των τελεστών στρατηγικών\n",
        "\n",
        "Στο παρακάτω block κώδικα θα καλέσουμε την παραπάνω συνάρτηση (η οποία υπολογίζει τα κριτήρια απόδοσης μια φορά για όλους τους συνδυασμούς) MAX_ROUNDS φορές ώστε να βρούμε πιο ακριβή αποτελέσματα υπολογίζοντας τους μέσους όρους των κριτηρίων αξιολόγησης."
      ]
    },
    {
      "metadata": {
        "id": "GIFSt0FmaY7O",
        "colab_type": "code",
        "colab": {}
      },
      "cell_type": "code",
      "source": [
        "def get_metrics(MAX_ROUNDS, fun_obj, mate_list, mutate_list, select_hyperparams, POPSIZE, MAX_GENS, CXPB, MUTPB ):\n",
        "  \n",
        "  \n",
        "  # Αρχικοποιούμε όλες τις μετρικές με 96 μηδενικά, όσοι δηλαδή και οι συνδυασμοί\n",
        "  sum_min_val = np.array([0.0]*96)\n",
        "  sum_tot_evals = np.array([0.0]*96)\n",
        "  sum_time_of_round = np.array([0.0]*96)\n",
        "  sum_success = np.array([0.0]*96)\n",
        "  sum_min_first_gen = np.array([0.0]*96)\n",
        "  sum_min_first_val = np.array([0.0]*96)\n",
        "  sum_min_evals = np.array([0.0]*96)\n",
        "\n",
        "    \n",
        "  for r in range(0,MAX_ROUNDS,1):\n",
        "    \n",
        "    \n",
        "    r0, r1, r2, r3, r4, r5, r6 = all_operator_strategies_combos(fun_obj, mate_list, mutate_list, select_hyperparams, POPSIZE, MAX_GENS, CXPB, MUTPB )\n",
        "    \n",
        "    print 'Round ' + str(r+1) + ' Completed.'\n",
        "    \n",
        "    sum_min_val += np.array(r0)\n",
        "    sum_tot_evals += np.array(r1)\n",
        "    sum_time_of_round += np.array(r2)\n",
        "    sum_success += np.array(r3)\n",
        "    sum_min_first_gen += np.array(r4)\n",
        "    sum_min_first_val += np.array(r5)\n",
        "    sum_min_evals += np.array(r6)\n",
        "    \n",
        "  \n",
        "  avg_min_val =       [i/MAX_ROUNDS for i in sum_min_val]       # ο μέσος όρος της ελάχιστης τιμής που πέτυχε για όλους τους γύρους.\n",
        "  avg_tot_evals =     [i/MAX_ROUNDS for i in sum_tot_evals]     # o μέσος όρος των συνολικών αποτιμήσεων (άθροιση όλων των γενεών) που έκανε για όλους τους γύρους.\n",
        "  avg_time_of_round = [i/MAX_ROUNDS for i in sum_time_of_round] # ο μέσος χρόνος εκτέλεσης των γύρων.\n",
        "\n",
        "  avg_min_first_gen = np.array([0.0]*96)  # o μέσος όρος των γενεών που χρειάστηκε ο αλγόριθμος για να πέσει κάτω από GOAL + DELTA, για τους γύρους με επιτυχία. \n",
        "                                          # Ουσιαστικά μας ενδιαφέρει η πρώτη γενιά που πετυχαίνει τιμή κάτω από GOAL + DELTA. Σε περίπτωση που δεν πετυχαίνει \n",
        "                                          # αυτό το στόχο καμία γενιά, θέτουμε ‘None’ σε αυτή την ποσότητα.\n",
        "  avg_min_first_val = np.array([0.0]*96)  # ο μέσος όρος των ελαχίστων των πρώτων επιτυχημένων γενεών για τους γύρους με επιτυχία. Θέτουμε ‘None’ σε περίπτωση αποτυχίας.\n",
        "  avg_min_evals = np.array([0.0]*96)      # ο μέσος όρος αποτιμήσεων που χρειάστηκαν για να πάρουμε την πρώτη τιμή κάτω από GOAL + DELTA. Θέτουμε ‘None’ σε περίπτωση αποτυχίας.\n",
        "\n",
        "  \n",
        "  for i in range(0,96,1): # Για τις παρακάτω μετρικές, επειδή μπορεί να μην έχουμε βρει κάποιο αποτέλεσμα, χρησιμοποιούμε τον αριθμό των επιτυχιών για τον υπολογισμό του μέσου όρου ή τη χρήση της τιμής 'None'\n",
        "    if (sum_success[i]==0):\n",
        "      avg_min_first_gen[i] = None\n",
        "      avg_min_first_val[i] = None\n",
        "      avg_min_evals[i] = None\n",
        "    else:\n",
        "      avg_min_first_gen[i] = sum_min_first_gen[i]/sum_success[i]\n",
        "      avg_min_first_val[i] = sum_min_first_val[i]/sum_success[i]\n",
        "      avg_min_evals[i]     = sum_min_evals[i]/sum_success[i]\n",
        "                   \n",
        "          \n",
        "  return sum_success, avg_min_first_val, avg_min_evals, avg_min_first_gen, avg_tot_evals, avg_min_val, avg_time_of_round"
      ],
      "execution_count": 0,
      "outputs": []
    },
    {
      "metadata": {
        "id": "R1tIFUS4d4oe",
        "colab_type": "code",
        "outputId": "038f78d7-3082-4d9c-b934-a3596ba294f8",
        "colab": {
          "base_uri": "https://localhost:8080/",
          "height": 187
        }
      },
      "cell_type": "code",
      "source": [
        "cxUniformLow = 0.1\n",
        "cxUniformHigh = 0.4\n",
        "cxBlendLow = 0.15\n",
        "cxBlendHigh = 0.45\n",
        "\n",
        "mate_list = [[cxUniformLow,cxUniformHigh],[cxBlendLow,cxBlendHigh]]\n",
        "\n",
        "mutGaussianLow = 0.08\n",
        "mutGaussianHigh = 0.25\n",
        "mutShuffleIndexesLow = 0.06\n",
        "mutShuffleIndexesHigh = 0.3\n",
        "\n",
        "mutate_list = [[mutGaussianLow,mutGaussianHigh],[mutShuffleIndexesLow,mutShuffleIndexesHigh]]\n",
        "\n",
        "selectionLow = 4\n",
        "selectionHigh = 15\n",
        "\n",
        "select_hyperparams = [selectionLow, selectionHigh]\n",
        "\n",
        "\n",
        "POPSIZE = 80\n",
        "MAX_GENS = 50\n",
        "CXPB = 0.8\n",
        "MUTPB = 0.05\n",
        "\n",
        "MAX_ROUNDS = 10\n",
        "\n",
        "goal = 0\n",
        "delta = 0.00005\n",
        "target = goal + delta\n",
        "\n",
        "\n",
        "fun_obj = []\n",
        "fun_obj.append(evalSchwefelFun) \n",
        "fun_obj.append([0,10]) \n",
        "fun_obj.append(2)\n",
        "fun_obj.append(feasibleSchwefelFun) \n",
        "fun_obj.append(distanceSchwefelFun) \n",
        "fun_obj.append(100) \n",
        "fun_obj.append(target) \n",
        "\n",
        "\n",
        "matrix_of_metrics = get_metrics(MAX_ROUNDS, fun_obj, mate_list, mutate_list, select_hyperparams, POPSIZE, MAX_GENS, CXPB, MUTPB )\n",
        "\n"
      ],
      "execution_count": 0,
      "outputs": [
        {
          "output_type": "stream",
          "text": [
            "Round 1 Completed.\n",
            "Round 2 Completed.\n",
            "Round 3 Completed.\n",
            "Round 4 Completed.\n",
            "Round 5 Completed.\n",
            "Round 6 Completed.\n",
            "Round 7 Completed.\n",
            "Round 8 Completed.\n",
            "Round 9 Completed.\n",
            "Round 10 Completed.\n"
          ],
          "name": "stdout"
        }
      ]
    },
    {
      "metadata": {
        "id": "ov0RYlyRqzX4",
        "colab_type": "text"
      },
      "cell_type": "markdown",
      "source": [
        "#### Εκτύπωση υπερπαραμέτρων και απόδοσης (σχετικής και απόλυτης)"
      ]
    },
    {
      "metadata": {
        "id": "L9QpjVOimtBS",
        "colab_type": "text"
      },
      "cell_type": "markdown",
      "source": [
        "Στη συνέχεια εκτυπώνουμε για όλους τους συνδυασμούς τα σχετικά και απόλυτα κριτήρια. ** Ταξινομούμε με κύρια στήλη  την avg.min καθώς επί της ουσίας αυτό είναι το πιο σημαντικό και απόλυτο κριτήριο της επίδοσης του αλγόριθμου. Ως δευτερεύουσα στήλη για ταξινόμηση (δηλαδή να ταξινομήσουμε περαιτέρω όσα δείγματα έχουν ίδιο avg.min) θα μπορούσαμε να διαλέξουμε στήλη ανάλογα με το τι μας ενδιαφέρει περισσότερο πχ τον αριθμό των evaluations s.avg.gens ή το χρόνο εκτέλεσης. Στο συγκεκριμένο πίνακα αποφασίσαμε να ταξινομήσουμε με δεύτερο κριτήριο το s.avg.evals καθώς μας ενδιαφέρουν οι περιπτώσεις που χρησιμοποιήθηκαν λιγότερες μέσες αποτιμήσεις για να πέσουμε κάτω από το GOAL + DELTA **"
      ]
    },
    {
      "metadata": {
        "id": "PVbsBlPSkV_p",
        "colab_type": "code",
        "outputId": "108c9f67-9f27-41f2-d839-1a79860bd093",
        "colab": {
          "base_uri": "https://localhost:8080/",
          "height": 1717
        }
      },
      "cell_type": "code",
      "source": [
        "strategy_names = []\n",
        "crossover = []\n",
        "mutation = []\n",
        "selection = []\n",
        "\n",
        "for s in ['eaSimple ' + str(POPSIZE) + ' ' + str(CXPB) + ' ' + str(MUTPB) , 'eaMuPlusLambda ' + str(POPSIZE) + ' ' + str(3*POPSIZE/2) + ' ' + str(CXPB) + ' ' + str(MUTPB), 'eaMuCommaLambda ' + str(POPSIZE) + ' ' + str(3*POPSIZE/2) + ' ' + str(CXPB) + ' ' + str(MUTPB) ]:\n",
        "  for cx in ['cxUniform', 'cxBlend']:\n",
        "    for mut in ['mutGaussian', 'mutShuffleIndexes' ]:\n",
        "      for cx_hp in ['Low', 'High']:\n",
        "        for mut_hp in ['Low', 'High']:\n",
        "          for sel_hp in ['Low', 'High']:\n",
        "            strategy_names.append(s)\n",
        "            crossover.append(cx + cx_hp)\n",
        "            mutation.append(mut + mut_hp)\n",
        "            selection.append('Selection' + sel_hp)\n",
        "            \n",
        "\n",
        "                                                                                                           \n",
        "data = {'Strategy': strategy_names,'Crossover': crossover,'Mutation': mutation,'Selection': selection,'Successes': matrix_of_metrics[0],'s.avg.min': matrix_of_metrics[1],'s.avg.evals': matrix_of_metrics[2],'s.avg.gens': matrix_of_metrics[3],'avg.evals': matrix_of_metrics[4],'avg.min': matrix_of_metrics[5],'avg.time': matrix_of_metrics[6]}\n",
        "\n",
        "df = pd.DataFrame(data)\n",
        "columnsTitles = ['Strategy', 'Crossover', 'Mutation' , 'Selection', 'Successes', 's.avg.min','s.avg.evals' ,'s.avg.gens' , 'avg.evals', 'avg.min', 'avg.time']\n",
        "df = df.reindex(columns=columnsTitles)\n",
        "final_df = df.sort_values(by=['avg.min', 's.avg.evals'])\n",
        "print(tabulate(final_df, headers='keys', tablefmt='psql', showindex=\"never\"))\n",
        "\n"
      ],
      "execution_count": 0,
      "outputs": [
        {
          "output_type": "stream",
          "text": [
            "+---------------------------------+---------------+-----------------------+---------------+-------------+---------------+---------------+--------------+-------------+-------------+------------+\n",
            "| Strategy                        | Crossover     | Mutation              | Selection     |   Successes |     s.avg.min |   s.avg.evals |   s.avg.gens |   avg.evals |     avg.min |   avg.time |\n",
            "|---------------------------------+---------------+-----------------------+---------------+-------------+---------------+---------------+--------------+-------------+-------------+------------|\n",
            "| eaMuPlusLambda 80 120 0.8 0.05  | cxBlendHigh   | mutShuffleIndexesHigh | SelectionHigh |          10 |   1.65433e-05 |       735.2   |      7.4     |      5077.1 | 0           |   0.45701  |\n",
            "| eaMuCommaLambda 80 120 0.8 0.05 | cxBlendHigh   | mutGaussianLow        | SelectionLow  |          10 |   2.70281e-05 |       937.3   |      9.3     |      5088.3 | 1.78036e-28 |   0.401678 |\n",
            "| eaSimple 80 0.8 0.05            | cxBlendHigh   | mutShuffleIndexesLow  | SelectionLow  |          10 |   2.99616e-05 |       611.8   |      9.3     |      3259.4 | 3.7537e-28  |   0.171318 |\n",
            "| eaSimple 80 0.8 0.05            | cxBlendHigh   | mutShuffleIndexesHigh | SelectionLow  |          10 |   2.00458e-05 |       641     |      9.6     |      3272.2 | 8.87964e-28 |   0.171695 |\n",
            "| eaMuCommaLambda 80 120 0.8 0.05 | cxBlendHigh   | mutShuffleIndexesLow  | SelectionLow  |          10 |   2.67459e-05 |      1072.4   |     10.7     |      5087.6 | 9.50799e-28 |   0.397544 |\n",
            "| eaMuCommaLambda 80 120 0.8 0.05 | cxBlendHigh   | mutShuffleIndexesHigh | SelectionLow  |          10 |   2.50434e-05 |      1060.6   |     10.6     |      5080.6 | 9.3612e-27  |   0.398633 |\n",
            "| eaMuPlusLambda 80 120 0.8 0.05  | cxBlendLow    | mutShuffleIndexesHigh | SelectionLow  |          10 |   1.82632e-05 |      1142.2   |     11.4     |      5073.2 | 1.45649e-26 |   0.402925 |\n",
            "| eaSimple 80 0.8 0.05            | cxBlendHigh   | mutGaussianLow        | SelectionLow  |          10 |   1.27025e-05 |       630.4   |      9.5     |      3259.9 | 1.47845e-26 |   0.172554 |\n",
            "| eaMuCommaLambda 80 120 0.8 0.05 | cxBlendHigh   | mutGaussianHigh       | SelectionLow  |          10 |   2.46757e-05 |      1083.6   |     10.9     |      5076.5 | 8.25524e-26 |   0.403618 |\n",
            "| eaSimple 80 0.8 0.05            | cxBlendHigh   | mutGaussianHigh       | SelectionLow  |          10 |   3.07159e-05 |       654.4   |      9.9     |      3246   | 1.40325e-25 |   0.173969 |\n",
            "| eaMuPlusLambda 80 120 0.8 0.05  | cxBlendHigh   | mutGaussianHigh       | SelectionLow  |          10 |   2.59407e-05 |      1043.8   |     10.4     |      5070   | 2.16704e-25 |   0.39849  |\n",
            "| eaMuPlusLambda 80 120 0.8 0.05  | cxBlendHigh   | mutShuffleIndexesHigh | SelectionLow  |          10 |   9.75254e-06 |      1059.3   |     10.6     |      5073.8 | 4.46447e-25 |   0.398589 |\n",
            "| eaMuPlusLambda 80 120 0.8 0.05  | cxBlendHigh   | mutShuffleIndexesLow  | SelectionLow  |          10 |   1.65638e-05 |      1128.1   |     11.3     |      5073.8 | 2.6769e-24  |   0.396179 |\n",
            "| eaMuCommaLambda 80 120 0.8 0.05 | cxBlendHigh   | mutGaussianLow        | SelectionHigh |          10 |   1.50515e-05 |       721.5   |      7.3     |      5074.1 | 5.76915e-24 |   0.459771 |\n",
            "| eaMuCommaLambda 80 120 0.8 0.05 | cxBlendLow    | mutShuffleIndexesLow  | SelectionLow  |          10 |   1.35753e-05 |      1198.6   |     11.9     |      5085.7 | 2.95242e-23 |   0.393479 |\n",
            "| eaMuCommaLambda 80 120 0.8 0.05 | cxBlendHigh   | mutShuffleIndexesHigh | SelectionHigh |          10 |   2.31202e-05 |       669.9   |      6.8     |      5071.3 | 3.12282e-23 |   0.451849 |\n",
            "| eaMuCommaLambda 80 120 0.8 0.05 | cxBlendHigh   | mutShuffleIndexesLow  | SelectionHigh |          10 |   1.88776e-05 |       803.9   |      8.1     |      5076.5 | 1.52849e-16 |   0.452721 |\n",
            "| eaMuPlusLambda 80 120 0.8 0.05  | cxBlendLow    | mutShuffleIndexesLow  | SelectionLow  |          10 |   2.50352e-05 |      1189.4   |     11.9     |      5071.2 | 8.71221e-15 |   0.392083 |\n",
            "| eaMuCommaLambda 80 120 0.8 0.05 | cxBlendLow    | mutShuffleIndexesHigh | SelectionHigh |          10 |   1.68356e-05 |       699.7   |      7.1     |      5084   | 8.38641e-14 |   0.4523   |\n",
            "| eaSimple 80 0.8 0.05            | cxBlendHigh   | mutShuffleIndexesLow  | SelectionHigh |          10 |   2.54975e-05 |       648.7   |      9.8     |      3253.7 | 1.80556e-13 |   0.228893 |\n",
            "| eaMuPlusLambda 80 120 0.8 0.05  | cxBlendHigh   | mutShuffleIndexesLow  | SelectionHigh |          10 |   1.61479e-05 |       743.8   |      7.5     |      5083.2 | 3.74201e-12 |   0.455739 |\n",
            "| eaSimple 80 0.8 0.05            | cxBlendHigh   | mutShuffleIndexesHigh | SelectionHigh |          10 |   2.34809e-05 |       408.2   |      6.2     |      3261.9 | 2.13285e-09 |   0.229065 |\n",
            "| eaSimple 80 0.8 0.05            | cxBlendLow    | mutShuffleIndexesLow  | SelectionLow  |          10 |   1.47436e-05 |       837.6   |     12.7     |      3249.1 | 1.8173e-07  |   0.171037 |\n",
            "| eaMuCommaLambda 80 120 0.8 0.05 | cxBlendLow    | mutGaussianLow        | SelectionLow  |          10 |   1.71066e-05 |       978.1   |      9.8     |      5083.9 | 7.94976e-07 |   0.39776  |\n",
            "| eaSimple 80 0.8 0.05            | cxBlendLow    | mutShuffleIndexesHigh | SelectionHigh |          10 |   2.59065e-05 |       583.7   |      8.8     |      3248.8 | 4.78663e-06 |   0.227956 |\n",
            "| eaMuPlusLambda 80 120 0.8 0.05  | cxBlendLow    | mutShuffleIndexesLow  | SelectionHigh |           9 |   1.08696e-05 |      1008.44  |     10.1111  |      5080.9 | 9.40236e-06 |   0.450425 |\n",
            "| eaMuPlusLambda 80 120 0.8 0.05  | cxBlendHigh   | mutGaussianLow        | SelectionHigh |           9 |   1.83389e-05 |       732.444 |      7.44444 |      5078.4 | 1.95359e-05 |   0.457255 |\n",
            "| eaMuCommaLambda 80 120 0.8 0.05 | cxBlendLow    | mutShuffleIndexesHigh | SelectionLow  |           9 |   1.72824e-05 |      1148.67  |     11.4444  |      5079.4 | 2.01078e-05 |   0.394623 |\n",
            "| eaMuPlusLambda 80 120 0.8 0.05  | cxBlendLow    | mutGaussianLow        | SelectionHigh |           8 |   1.74486e-05 |       677.125 |      6.875   |      5067.6 | 2.90872e-05 |   0.455589 |\n",
            "| eaSimple 80 0.8 0.05            | cxBlendLow    | mutGaussianHigh       | SelectionHigh |           9 |   1.43945e-05 |       386.778 |      5.66667 |      3246.8 | 6.597e-05   |   0.229643 |\n",
            "| eaMuPlusLambda 80 120 0.8 0.05  | cxBlendHigh   | mutGaussianHigh       | SelectionHigh |           9 |   1.57959e-05 |       745     |      7.55556 |      5072.5 | 0.00012228  |   0.455475 |\n",
            "| eaMuCommaLambda 80 120 0.8 0.05 | cxBlendLow    | mutShuffleIndexesLow  | SelectionHigh |           9 |   1.41842e-05 |       707.889 |      7.11111 |      5099.5 | 0.00048831  |   0.453493 |\n",
            "| eaSimple 80 0.8 0.05            | cxBlendLow    | mutGaussianLow        | SelectionHigh |           8 |   1.75909e-05 |       357     |      5.25    |      3244.2 | 0.000811319 |   0.229844 |\n",
            "| eaMuCommaLambda 80 120 0.8 0.05 | cxBlendHigh   | mutGaussianHigh       | SelectionHigh |           8 |   1.28661e-05 |       665     |      6.75    |      5081.5 | 0.000879831 |   0.456418 |\n",
            "| eaMuPlusLambda 80 120 0.8 0.05  | cxBlendHigh   | mutGaussianLow        | SelectionLow  |           9 |   2.50642e-05 |      1052.22  |     10.5556  |      5078.3 | 0.00193642  |   0.398577 |\n",
            "| eaSimple 80 0.8 0.05            | cxBlendLow    | mutShuffleIndexesHigh | SelectionLow  |           8 |   2.34454e-05 |       621.375 |      9.375   |      3242.2 | 0.00237632  |   0.170409 |\n",
            "| eaMuPlusLambda 80 120 0.8 0.05  | cxBlendLow    | mutGaussianHigh       | SelectionLow  |           9 |   2.10967e-05 |      1067.44  |     10.6667  |      5090.4 | 0.00240911  |   0.398762 |\n",
            "| eaMuPlusLambda 80 120 0.8 0.05  | cxBlendLow    | mutGaussianLow        | SelectionLow  |           8 |   1.45155e-05 |       997.375 |     10       |      5083.8 | 0.00260297  |   0.399304 |\n",
            "| eaMuPlusLambda 80 120 0.8 0.05  | cxBlendLow    | mutShuffleIndexesHigh | SelectionHigh |           8 |   2.33258e-05 |       756     |      7.625   |      5074   | 0.00548278  |   0.452725 |\n",
            "| eaMuPlusLambda 80 120 0.8 0.05  | cxBlendLow    | mutGaussianHigh       | SelectionHigh |           8 |   2.40779e-05 |       651.375 |      6.625   |      5077.7 | 0.00601664  |   0.456905 |\n",
            "| eaSimple 80 0.8 0.05            | cxUniformHigh | mutShuffleIndexesHigh | SelectionLow  |           1 |   2.03214e-06 |       742     |     11       |      3261.7 | 0.0067691   |   0.163833 |\n",
            "| eaSimple 80 0.8 0.05            | cxBlendHigh   | mutGaussianLow        | SelectionHigh |           6 |   1.51352e-05 |       403.167 |      6       |      3258.3 | 0.0141888   |   0.230396 |\n",
            "| eaSimple 80 0.8 0.05            | cxBlendLow    | mutGaussianLow        | SelectionLow  |           9 |   2.22164e-05 |       589     |      8.77778 |      3269.5 | 0.0177756   |   0.171862 |\n",
            "| eaSimple 80 0.8 0.05            | cxUniformLow  | mutShuffleIndexesHigh | SelectionLow  |           0 | nan           |       nan     |    nan       |      3250   | 0.031891    |   0.163785 |\n",
            "| eaSimple 80 0.8 0.05            | cxUniformHigh | mutShuffleIndexesLow  | SelectionLow  |           0 | nan           |       nan     |    nan       |      3261.5 | 0.0327688   |   0.165251 |\n",
            "| eaMuCommaLambda 80 120 0.8 0.05 | cxUniformHigh | mutShuffleIndexesHigh | SelectionLow  |           0 | nan           |       nan     |    nan       |      5076.5 | 0.0336558   |   0.376367 |\n",
            "| eaMuPlusLambda 80 120 0.8 0.05  | cxUniformHigh | mutShuffleIndexesLow  | SelectionLow  |           0 | nan           |       nan     |    nan       |      5066.8 | 0.0394266   |   0.37958  |\n",
            "| eaMuPlusLambda 80 120 0.8 0.05  | cxUniformLow  | mutShuffleIndexesLow  | SelectionHigh |           0 | nan           |       nan     |    nan       |      5074.8 | 0.0433888   |   0.434377 |\n",
            "| eaMuCommaLambda 80 120 0.8 0.05 | cxBlendLow    | mutGaussianLow        | SelectionHigh |           7 |   1.57723e-05 |       691.429 |      7       |      5084.5 | 0.0441332   |   0.455525 |\n",
            "| eaMuPlusLambda 80 120 0.8 0.05  | cxUniformHigh | mutShuffleIndexesHigh | SelectionLow  |           0 | nan           |       nan     |    nan       |      5080   | 0.0461801   |   0.379582 |\n",
            "| eaSimple 80 0.8 0.05            | cxBlendLow    | mutGaussianHigh       | SelectionLow  |           9 |   2.18961e-05 |       538.333 |      8       |      3266.4 | 0.0467212   |   0.173215 |\n",
            "| eaSimple 80 0.8 0.05            | cxUniformLow  | mutShuffleIndexesLow  | SelectionLow  |           0 | nan           |       nan     |    nan       |      3261.7 | 0.0569817   |   0.164305 |\n",
            "| eaSimple 80 0.8 0.05            | cxUniformLow  | mutShuffleIndexesHigh | SelectionHigh |           0 | nan           |       nan     |    nan       |      3246.8 | 0.0640336   |   0.219441 |\n",
            "| eaMuPlusLambda 80 120 0.8 0.05  | cxUniformHigh | mutGaussianHigh       | SelectionLow  |           0 | nan           |       nan     |    nan       |      5071.1 | 0.0660206   |   0.387117 |\n",
            "| eaMuCommaLambda 80 120 0.8 0.05 | cxUniformHigh | mutShuffleIndexesLow  | SelectionHigh |           1 |   2.05487e-07 |       903     |      9       |      5066.7 | 0.0671324   |   0.432171 |\n",
            "| eaSimple 80 0.8 0.05            | cxUniformLow  | mutGaussianHigh       | SelectionLow  |           0 | nan           |       nan     |    nan       |      3267   | 0.0717639   |   0.169196 |\n",
            "| eaMuCommaLambda 80 120 0.8 0.05 | cxBlendLow    | mutGaussianHigh       | SelectionHigh |           1 |   2.01096e-06 |       587     |      6       |      5061.1 | 0.071836    |   0.453321 |\n",
            "| eaSimple 80 0.8 0.05            | cxUniformHigh | mutShuffleIndexesLow  | SelectionHigh |           0 | nan           |       nan     |    nan       |      3254.7 | 0.0724971   |   0.221002 |\n",
            "| eaSimple 80 0.8 0.05            | cxBlendLow    | mutShuffleIndexesLow  | SelectionHigh |           7 |   2.33011e-05 |       994.714 |     15.1429  |      3232.8 | 0.073832    |   0.228015 |\n",
            "| eaMuCommaLambda 80 120 0.8 0.05 | cxUniformHigh | mutShuffleIndexesLow  | SelectionLow  |           0 | nan           |       nan     |    nan       |      5080   | 0.0740579   |   0.378187 |\n",
            "| eaMuCommaLambda 80 120 0.8 0.05 | cxUniformHigh | mutShuffleIndexesHigh | SelectionHigh |           0 | nan           |       nan     |    nan       |      5071.7 | 0.0755667   |   0.436259 |\n",
            "| eaMuCommaLambda 80 120 0.8 0.05 | cxBlendLow    | mutGaussianHigh       | SelectionLow  |           3 |   3.36207e-05 |       854.333 |      8.66667 |      5058.9 | 0.0774734   |   0.398049 |\n",
            "| eaMuPlusLambda 80 120 0.8 0.05  | cxUniformHigh | mutShuffleIndexesHigh | SelectionHigh |           0 | nan           |       nan     |    nan       |      5079.5 | 0.0805301   |   0.434455 |\n",
            "| eaMuCommaLambda 80 120 0.8 0.05 | cxUniformLow  | mutShuffleIndexesLow  | SelectionLow  |           0 | nan           |       nan     |    nan       |      5070.5 | 0.0826909   |   0.37754  |\n",
            "| eaMuPlusLambda 80 120 0.8 0.05  | cxUniformLow  | mutShuffleIndexesLow  | SelectionLow  |           1 |   1.35254e-05 |      2013     |     20       |      5088.3 | 0.0905561   |   0.377346 |\n",
            "| eaMuPlusLambda 80 120 0.8 0.05  | cxUniformLow  | mutShuffleIndexesHigh | SelectionLow  |           0 | nan           |       nan     |    nan       |      5067   | 0.0970607   |   0.378814 |\n",
            "| eaSimple 80 0.8 0.05            | cxUniformHigh | mutShuffleIndexesHigh | SelectionHigh |           0 | nan           |       nan     |    nan       |      3234.8 | 0.109383    |   0.219778 |\n",
            "| eaMuPlusLambda 80 120 0.8 0.05  | cxUniformHigh | mutGaussianHigh       | SelectionHigh |           0 | nan           |       nan     |    nan       |      5075.5 | 0.109504    |   0.445115 |\n",
            "| eaSimple 80 0.8 0.05            | cxBlendHigh   | mutGaussianHigh       | SelectionHigh |           7 |   2.48486e-05 |       422.714 |      6.28571 |      3252.9 | 0.110064    |   0.23176  |\n",
            "| eaMuCommaLambda 80 120 0.8 0.05 | cxUniformLow  | mutShuffleIndexesHigh | SelectionLow  |           0 | nan           |       nan     |    nan       |      5095.6 | 0.116611    |   0.375722 |\n",
            "| eaMuPlusLambda 80 120 0.8 0.05  | cxUniformHigh | mutGaussianLow        | SelectionHigh |           0 | nan           |       nan     |    nan       |      5076   | 0.120288    |   0.445047 |\n",
            "| eaSimple 80 0.8 0.05            | cxUniformHigh | mutGaussianLow        | SelectionLow  |           0 | nan           |       nan     |    nan       |      3261.3 | 0.128871    |   0.167427 |\n",
            "| eaMuPlusLambda 80 120 0.8 0.05  | cxUniformHigh | mutGaussianLow        | SelectionLow  |           0 | nan           |       nan     |    nan       |      5078.8 | 0.129133    |   0.386813 |\n",
            "| eaSimple 80 0.8 0.05            | cxUniformLow  | mutShuffleIndexesLow  | SelectionHigh |           0 | nan           |       nan     |    nan       |      3255.5 | 0.138489    |   0.219884 |\n",
            "| eaSimple 80 0.8 0.05            | cxUniformLow  | mutGaussianLow        | SelectionLow  |           0 | nan           |       nan     |    nan       |      3258.6 | 0.143935    |   0.167974 |\n",
            "| eaMuPlusLambda 80 120 0.8 0.05  | cxUniformHigh | mutShuffleIndexesLow  | SelectionHigh |           0 | nan           |       nan     |    nan       |      5072   | 0.163529    |   0.436566 |\n",
            "| eaMuPlusLambda 80 120 0.8 0.05  | cxUniformLow  | mutGaussianHigh       | SelectionLow  |           0 | nan           |       nan     |    nan       |      5088.3 | 0.164907    |   0.387438 |\n",
            "| eaMuCommaLambda 80 120 0.8 0.05 | cxUniformLow  | mutGaussianLow        | SelectionLow  |           0 | nan           |       nan     |    nan       |      5079.1 | 0.165497    |   0.386478 |\n",
            "| eaMuCommaLambda 80 120 0.8 0.05 | cxUniformHigh | mutGaussianLow        | SelectionLow  |           0 | nan           |       nan     |    nan       |      5082.7 | 0.17726     |   0.396956 |\n",
            "| eaMuPlusLambda 80 120 0.8 0.05  | cxUniformLow  | mutGaussianLow        | SelectionLow  |           0 | nan           |       nan     |    nan       |      5091.6 | 0.205565    |   0.385049 |\n",
            "| eaSimple 80 0.8 0.05            | cxUniformHigh | mutGaussianHigh       | SelectionLow  |           0 | nan           |       nan     |    nan       |      3258.3 | 0.219228    |   0.168238 |\n",
            "| eaMuCommaLambda 80 120 0.8 0.05 | cxUniformLow  | mutGaussianHigh       | SelectionLow  |           0 | nan           |       nan     |    nan       |      5090.3 | 0.244887    |   0.386059 |\n",
            "| eaMuCommaLambda 80 120 0.8 0.05 | cxUniformHigh | mutGaussianLow        | SelectionHigh |           0 | nan           |       nan     |    nan       |      5074.3 | 0.250426    |   0.443903 |\n",
            "| eaSimple 80 0.8 0.05            | cxUniformHigh | mutGaussianHigh       | SelectionHigh |           0 | nan           |       nan     |    nan       |      3254.1 | 0.252715    |   0.224091 |\n",
            "| eaMuCommaLambda 80 120 0.8 0.05 | cxUniformLow  | mutGaussianHigh       | SelectionHigh |           0 | nan           |       nan     |    nan       |      5078.1 | 0.270673    |   0.445806 |\n",
            "| eaMuCommaLambda 80 120 0.8 0.05 | cxUniformLow  | mutShuffleIndexesHigh | SelectionHigh |           1 |   4.92285e-05 |       386     |      4       |      5069.9 | 0.2748      |   0.429897 |\n",
            "| eaMuCommaLambda 80 120 0.8 0.05 | cxUniformHigh | mutGaussianHigh       | SelectionLow  |           0 | nan           |       nan     |    nan       |      5077.6 | 0.317007    |   0.386969 |\n",
            "| eaMuCommaLambda 80 120 0.8 0.05 | cxUniformLow  | mutGaussianLow        | SelectionHigh |           0 | nan           |       nan     |    nan       |      5067.3 | 0.37437     |   0.4421   |\n",
            "| eaSimple 80 0.8 0.05            | cxUniformHigh | mutGaussianLow        | SelectionHigh |           0 | nan           |       nan     |    nan       |      3266.3 | 0.375287    |   0.225276 |\n",
            "| eaMuPlusLambda 80 120 0.8 0.05  | cxUniformLow  | mutGaussianHigh       | SelectionHigh |           0 | nan           |       nan     |    nan       |      5096.6 | 0.483639    |   0.443508 |\n",
            "| eaMuCommaLambda 80 120 0.8 0.05 | cxUniformHigh | mutGaussianHigh       | SelectionHigh |           0 | nan           |       nan     |    nan       |      5084.7 | 0.575276    |   0.444536 |\n",
            "| eaMuCommaLambda 80 120 0.8 0.05 | cxUniformLow  | mutShuffleIndexesLow  | SelectionHigh |           0 | nan           |       nan     |    nan       |      5084.4 | 0.600437    |   0.433158 |\n",
            "| eaSimple 80 0.8 0.05            | cxUniformLow  | mutGaussianLow        | SelectionHigh |           0 | nan           |       nan     |    nan       |      3240.1 | 0.601059    |   0.22755  |\n",
            "| eaMuPlusLambda 80 120 0.8 0.05  | cxUniformLow  | mutGaussianLow        | SelectionHigh |           0 | nan           |       nan     |    nan       |      5063.3 | 0.715831    |   0.440222 |\n",
            "| eaSimple 80 0.8 0.05            | cxUniformLow  | mutGaussianHigh       | SelectionHigh |           0 | nan           |       nan     |    nan       |      3245.8 | 0.732216    |   0.22391  |\n",
            "| eaMuPlusLambda 80 120 0.8 0.05  | cxUniformLow  | mutShuffleIndexesHigh | SelectionHigh |           0 | nan           |       nan     |    nan       |      5077.4 | 0.906513    |   0.433146 |\n",
            "+---------------------------------+---------------+-----------------------+---------------+-------------+---------------+---------------+--------------+-------------+-------------+------------+\n"
          ],
          "name": "stdout"
        }
      ]
    },
    {
      "metadata": {
        "id": "AxP7aaZCws3l",
        "colab_type": "text"
      },
      "cell_type": "markdown",
      "source": [
        "#### Τελική αναζήτηση και σχολιασμός\n",
        "\n",
        "Όσον αφορά το DELTA ακολουθήσαμε τις οδηγίες της εκφώνησης, δηλαδή, ξεκινώντας από τιμή 0.1 σταδιακά τη μειώναμε σε τάξη μεγέθους έως ότου οι καλύτεροι συνδυασμοί να έχουν ποσοστό επιτυχιών κοντά στη μονάδα και οι χειρότεροι στο μηδέν. Καταλήξαμε στην τιμή delta = 0.00005 η οποία καταφέρνει ικανοποιητικά να διαχωρίσει τους συνδυασμούς σε πολύ καλούς και πολύ κακούς.\n",
        "\n",
        "Παρακάτω παρουσιάζουμε ένα γράφημα όπου φαίνεται το πλήθος των συνδυασμών συναρτήσει των ποσοστών επιτυχίας."
      ]
    },
    {
      "metadata": {
        "id": "jPWsrCITwsga",
        "colab_type": "code",
        "outputId": "db1669b6-2c32-4c6a-b45b-ad299a44ef9d",
        "colab": {
          "base_uri": "https://localhost:8080/",
          "height": 361
        }
      },
      "cell_type": "code",
      "source": [
        "succ_percent = [i / float(MAX_ROUNDS) for i in matrix_of_metrics[0]]\n",
        "percents = [i / float(MAX_ROUNDS) for i in range(0,MAX_ROUNDS+1)]\n",
        "freq = []\n",
        "for p in percents:\n",
        "  freq.append(succ_percent.count(p))\n",
        "\n",
        "import matplotlib.pyplot as plt\n",
        "plt.plot(percents, freq, 'bs')\n",
        "plt.axis([0, 1, min(freq), max(freq)])\n",
        "plt.xlabel('Success Percent')\n",
        "plt.ylabel('# Instances')\n",
        "plt.show()\n",
        "\n"
      ],
      "execution_count": 0,
      "outputs": [
        {
          "output_type": "display_data",
          "data": {
            "image/png": "[encoded data removed]",
            "text/plain": [
              "<Figure size 576x396 with 1 Axes>"
            ]
          },
          "metadata": {
            "tags": []
          }
        }
      ]
    },
    {
      "metadata": {
        "id": "KTorqQJ210QI",
        "colab_type": "text"
      },
      "cell_type": "markdown",
      "source": [
        "Τώρα σχετικά με τους καλύτερους συνδυασμούς παρατηρούμε τα εξής:\n",
        "\n",
        "\n",
        "*   Όλες οι στρατηγικές eaSimple, M+L και M, L έδωσαν καλούς συνδυασμούς και πέτυχαν μάλιστα πλήρως τον στόχο\n",
        "*   Οι στρατηγικές M,L χρειάζονται όπως και είναι λογικό περισσότερο χρόνο και evaluations ο οποίος συμπίπτει με το lambda factor. Δηλαδή θέσαμε lambda = 3/2 * POPSIZE και τα evals είναι μιάμιση φορά μεγαλύτερα από τη στρατηγική eaSimple.\n",
        "*   Για την επιλογή του Crossover ο operator cxBlend απέδωσε ισοπεδωτικά καλύτερα από τον cxUniform και η πιο κατάλληλη υπερ παράμετρος ήταν η High.\n",
        "*   Για την επιλογή του Mutation ο operator ShuffleIndexes υπερτερεί του Gaussian και η τιμή της υπερ παραμέτρου δεν έπαιξε τόσο ρόλο, δηλαδή δίνει καλά αποτελέσματα και για Low και για High.\n",
        "*   Τέλος για την υπερ παράμετρο του selTournament operator η Low επικράτησε οριακά της High.\n",
        "\n",
        "\n",
        "\n",
        "** Θεωρώντας ως δεύτερο βασικό κριτήριο το s.avg.evals δηλαδή ουσιαστικά το πόσο γρήγορα συγκλίνει ο αλγόριθμος κατά μέσο όρο έχουμε τους δυο καλύτερους συνδυασμούς που φαίνονται στον παρακάτω πίνακα. **\n",
        "\n",
        "\n",
        "\n",
        "\n"
      ]
    },
    {
      "metadata": {
        "id": "GFSXHj8G6oq9",
        "colab_type": "code",
        "outputId": "9aa0eea9-5673-485a-d71d-7e000dc23af1",
        "colab": {
          "base_uri": "https://localhost:8080/",
          "height": 119
        }
      },
      "cell_type": "code",
      "source": [
        "print(tabulate(final_df.head(2), headers='keys', tablefmt='psql', showindex=\"never\"))"
      ],
      "execution_count": 0,
      "outputs": [
        {
          "output_type": "stream",
          "text": [
            "+---------------------------------+-------------+-----------------------+---------------+-------------+-------------+---------------+--------------+-------------+-------------+------------+\n",
            "| Strategy                        | Crossover   | Mutation              | Selection     |   Successes |   s.avg.min |   s.avg.evals |   s.avg.gens |   avg.evals |     avg.min |   avg.time |\n",
            "|---------------------------------+-------------+-----------------------+---------------+-------------+-------------+---------------+--------------+-------------+-------------+------------|\n",
            "| eaMuPlusLambda 80 120 0.8 0.05  | cxBlendHigh | mutShuffleIndexesHigh | SelectionHigh |          10 | 1.65433e-05 |         735.2 |          7.4 |      5077.1 | 0           |   0.45701  |\n",
            "| eaMuCommaLambda 80 120 0.8 0.05 | cxBlendHigh | mutGaussianLow        | SelectionLow  |          10 | 2.70281e-05 |         937.3 |          9.3 |      5088.3 | 1.78036e-28 |   0.401678 |\n",
            "+---------------------------------+-------------+-----------------------+---------------+-------------+-------------+---------------+--------------+-------------+-------------+------------+\n"
          ],
          "name": "stdout"
        }
      ]
    },
    {
      "metadata": {
        "id": "xBSa8nJU49k8",
        "colab_type": "text"
      },
      "cell_type": "markdown",
      "source": [
        "Για την τελική βελτιστοποίηση λοιπόν θα κρατήσουμε τον συνδυασμό:\n",
        "\n",
        "\n",
        "\n",
        "*   eaMuPlusLambda\n",
        "*   cxBlendHigh\n",
        "*   mutShuffleIndexesHigh\n",
        "*   SelectionHigh\n",
        "\n"
      ]
    },
    {
      "metadata": {
        "id": "kdXRip_e7oxp",
        "colab_type": "text"
      },
      "cell_type": "markdown",
      "source": [
        "### Τελική βελτιστοποίηση"
      ]
    },
    {
      "metadata": {
        "id": "uB66QGvN7rMw",
        "colab_type": "text"
      },
      "cell_type": "markdown",
      "source": [
        "#### Βελτιστοποίηση πιθανοτήτων διασταύρωσης και μετάλλαξης\n",
        "\n",
        "Για τον καλύτερο συνδυασμό τελεστών-στρατηγικής (eaMuPlusLambda, cxBlendHigh, mutShuffleIndexesHigh, SelectionHigh) και σταθερό αριθμό γύρων MAX_ROUNDS = 15, πληθυσμού POPSIZE = 50 και γενεών MAX_GENS = 60, θα κάνουμε grid search στις πιθανότητες των τελεστών διασταύρωσης CXPB και μετάλλαξης MUTPB στο διάστημα [0.05 0.9] ώστε να βρoύμε το βέλτιστο συνδυασμό τους. \n",
        "\n",
        "(Μειώνουμε το population και τα gens για να κάνουμε γρηγορότερη αναζήτηση)\n",
        "\n",
        "Επειδή θα δοκιμάσουμε σταδιακά πιο μικρά διαστήματα περιοχών τιμών θα ορίσουμε μια συνάρτηση την οποία θα επαναχρησιμοποιήσουμε στις περιοχές που πήραμε καλά αποτελέσματα για να πετύχουμε πιο γρήγορα καλή ακρίβεια."
      ]
    },
    {
      "metadata": {
        "id": "hHunQ0Thzhdt",
        "colab_type": "text"
      },
      "cell_type": "markdown",
      "source": [
        "Αρχικοποιούμε τα ορίσματά μας ώστε να χρησιμοποιήσουμε της συνάρτηση metrics_of_a_combination για τον συνδυασμό τελεστών-στρατηγικής που μας ενδιαφέρει."
      ]
    },
    {
      "metadata": {
        "id": "CgHLVh7O8xiG",
        "colab_type": "code",
        "colab": {}
      },
      "cell_type": "code",
      "source": [
        "def grid_search(fun_obj, CX_LIMITS, MUT_LIMITS, MAX_ROUNDS, combo, POPSIZE, MAX_GENS):\n",
        "  \n",
        "  #Σε αυτές τησ μεταβλητές θα κρατήσουμε τον καλύτερο συνδυασμό\n",
        "  best_sum_success = -1\n",
        "  best_avg_min_first_val = 1000000\n",
        "  best_avg_min_evals = 1000000\n",
        "  best_avg_min_first_gen = 1000000\n",
        "  best_avg_tot_evals = 1000000\n",
        "  best_avg_min_val = 1000000\n",
        "  best_avg_time_of_round = 1000000\n",
        "  \n",
        "  best_cxpb = -1\n",
        "  best_mutpb = -1\n",
        "   \n",
        "  for cxpb in np.linspace(*CX_LIMITS):\n",
        "\n",
        "    for mutpb in np.linspace(*MUT_LIMITS):\n",
        "\n",
        "      if (cxpb + mutpb <= 1):\n",
        "        \n",
        "        # Αρχικοποιούμε όλες τις μετρικές για έναν συνδυασμό cxpb και mutpb\n",
        "        sum_min_val = 0\n",
        "        sum_tot_evals = 0\n",
        "        sum_time_of_round = 0\n",
        "        sum_success = 0\n",
        "        sum_min_first_gen = 0\n",
        "        sum_min_first_val = 0\n",
        "        sum_min_evals = 0    \n",
        "        \n",
        "        for r in range(0, MAX_ROUNDS, 1):\n",
        "          \n",
        "          r0, r1, r2, r3, r4, r5, r6 = metrics_of_a_combination(fun_obj, combo[0], combo[1], combo[2], combo[3], combo[4], combo[5], POPSIZE, MAX_GENS, cxpb, mutpb)\n",
        "          \n",
        "          sum_min_val += r0\n",
        "          sum_tot_evals += r2\n",
        "          sum_time_of_round += r6\n",
        "          sum_success += r1\n",
        "          sum_min_first_gen += r3\n",
        "          sum_min_first_val += r4\n",
        "          sum_min_evals += r5\n",
        "          \n",
        "        #print 'cxpb: ' + str(cxpb) + ', mutpb: ' + str(mutpb) + ' best succ :' + str(best_sum_success) + ' succ: ' + str(sum_success)\n",
        "        \n",
        "        avg_min_val =       sum_min_val/float(MAX_ROUNDS)\n",
        "        avg_tot_evals =     sum_tot_evals/float(MAX_ROUNDS)\n",
        "        avg_time_of_round = sum_time_of_round/float(MAX_ROUNDS)\n",
        "\n",
        "        if (sum_success == 0):\n",
        "          avg_min_first_gen = None\n",
        "          avg_min_first_val = None\n",
        "          avg_min_evals = None\n",
        "        else:\n",
        "          avg_min_first_gen = sum_min_first_gen/float(sum_success)\n",
        "          avg_min_first_val = sum_min_first_val/float(sum_success)\n",
        "          avg_min_evals    = sum_min_evals/float(sum_success)\n",
        "          \n",
        "          \n",
        "        if (sum_success >= best_sum_success):\n",
        "          \n",
        "          #print 'ok1'\n",
        "          if (avg_min_val <= best_avg_min_val or sum_success > best_sum_success ):\n",
        "            if (avg_min_evals < best_avg_min_evals or sum_success > best_sum_success or avg_min_val < best_avg_min_val):\n",
        "              \n",
        "              #print 'ok2'\n",
        "              best_sum_success = sum_success\n",
        "              best_avg_min_first_val = avg_min_first_val\n",
        "              best_avg_min_evals = avg_min_evals\n",
        "              best_avg_min_first_gen = avg_min_first_gen\n",
        "              best_avg_tot_evals = avg_tot_evals\n",
        "              best_avg_min_val = avg_min_val\n",
        "              best_avg_time_of_round = avg_time_of_round\n",
        "\n",
        "              best_cxpb = cxpb\n",
        "              best_mutpb = mutpb\n",
        "          \n",
        "  return best_sum_success, best_avg_min_first_val, best_avg_min_evals, best_avg_min_first_gen, best_avg_tot_evals, best_avg_min_val, best_avg_time_of_round, best_cxpb, best_mutpb\n",
        "  "
      ],
      "execution_count": 0,
      "outputs": []
    },
    {
      "metadata": {
        "id": "Ac1c3myUCRrB",
        "colab_type": "code",
        "colab": {}
      },
      "cell_type": "code",
      "source": [
        "POPSIZE = 80\n",
        "MAX_GENS = 60\n",
        "\n",
        "MAX_ROUNDS = 10\n",
        "\n",
        "goal = 0\n",
        "delta = 0.00005\n",
        "target = goal + delta\n",
        "\n",
        "\n",
        "fun_obj = []\n",
        "fun_obj.append(evalSchwefelFun) \n",
        "fun_obj.append([0,10]) \n",
        "fun_obj.append(2)\n",
        "fun_obj.append(feasibleSchwefelFun) \n",
        "fun_obj.append(distanceSchwefelFun) \n",
        "fun_obj.append(100) \n",
        "fun_obj.append(target) \n",
        "\n",
        "\n",
        "combo = [1,1,0.45,0.3,15,1]"
      ],
      "execution_count": 0,
      "outputs": []
    },
    {
      "metadata": {
        "id": "yZ_xaqMQTp7u",
        "colab_type": "text"
      },
      "cell_type": "markdown",
      "source": [
        "**Ξεκινάμε λοιπόν με αρχικό διάστημα το (0.05, 0.9) χωρίζοντας σε 5 διαστήματα  και στη συνέχεια μικραίνουμε τα διαστήματα βάσει των τιμών CXPB και ΜUTPB που βρίσκουμε**"
      ]
    },
    {
      "metadata": {
        "id": "UaLk1cN9TkDT",
        "colab_type": "code",
        "outputId": "d30737fe-d0e9-455a-e46b-7b566d27c7c5",
        "colab": {
          "base_uri": "https://localhost:8080/",
          "height": 1105
        }
      },
      "cell_type": "code",
      "source": [
        "CX_LIMITS = (0.05, 0.9, 5)\n",
        "MUT_LIMITS = (0.05, 0.9, 5)\n",
        "\n",
        "for i in range (0,4,1):\n",
        "  \n",
        "  print 'Searching CXPB in [ ' + str(CX_LIMITS[0]) + ', ' + str(CX_LIMITS[1]) + ' ] Interval ...'\n",
        "  print 'Searching MUTPB in [ ' + str(MUT_LIMITS[0]) + ', ' + str(MUT_LIMITS[1]) + ' ] Interval ...'\n",
        "  gs = grid_search(fun_obj, CX_LIMITS, MUT_LIMITS, MAX_ROUNDS, combo, POPSIZE, MAX_GENS)\n",
        "  \n",
        "  CXPB = gs[7]\n",
        "  MUTPB = gs[8]\n",
        "  \n",
        "  print '\\n'\n",
        "  print 'Best CXPB : ' + str(CXPB) + ', Best MUTPB : ' + str(MUTPB)\n",
        "  print '\\n'\n",
        "  print 'Successes : ' + str(gs[0])\n",
        "  print 's.avg.min : ' + str(gs[1])\n",
        "  print 's.avg.evals : ' + str(gs[2])\n",
        "  print 's.avg.gens : ' + str(gs[3])\n",
        "  print 'avg.evals : ' + str(gs[4])\n",
        "  print 'avg.min : ' + str(gs[5])\n",
        "  print 'avg.time : ' + str(gs[6])\n",
        "  print '\\n----------------------------'\n",
        "  \n",
        "  CX_LIMITS = ((0.05 + CXPB)/2, (0.9 + CXPB)/2, 5)\n",
        "  MUT_LIMITS = ((0.05 + MUTPB)/2, (0.9 + MUTPB)/2, 5)"
      ],
      "execution_count": 0,
      "outputs": [
        {
          "output_type": "stream",
          "text": [
            "Searching CXPB in [ 0.05, 0.9 ] Interval ...\n",
            "Searching MUTPB in [ 0.05, 0.9 ] Interval ...\n",
            "\n",
            "\n",
            "Best CXPB : 0.9, Best MUTPB : 0.05\n",
            "\n",
            "\n",
            "Successes : 10\n",
            "s.avg.min : 1.5853546452074527e-05\n",
            "s.avg.evals : 674.6\n",
            "s.avg.gens : 6.2\n",
            "avg.evals : 6809.3\n",
            "avg.min : 0.0\n",
            "avg.time : 0.585954904556\n",
            "\n",
            "----------------------------\n",
            "Searching CXPB in [ 0.47500000000000003, 0.9 ] Interval ...\n",
            "Searching MUTPB in [ 0.05, 0.47500000000000003 ] Interval ...\n",
            "\n",
            "\n",
            "Best CXPB : 0.58125, Best MUTPB : 0.05\n",
            "\n",
            "\n",
            "Successes : 10\n",
            "s.avg.min : 2.1099086803832296e-05\n",
            "s.avg.evals : 559.9\n",
            "s.avg.gens : 7.4\n",
            "avg.evals : 4537.7\n",
            "avg.min : 0.0\n",
            "avg.time : 0.437747001648\n",
            "\n",
            "----------------------------\n",
            "Searching CXPB in [ 0.31562500000000004, 0.7406250000000001 ] Interval ...\n",
            "Searching MUTPB in [ 0.05, 0.47500000000000003 ] Interval ...\n",
            "\n",
            "\n",
            "Best CXPB : 0.6343750000000001, Best MUTPB : 0.05\n",
            "\n",
            "\n",
            "Successes : 10\n",
            "s.avg.min : 2.0091570144091635e-05\n",
            "s.avg.evals : 687.7\n",
            "s.avg.gens : 8.4\n",
            "avg.evals : 4927.5\n",
            "avg.min : 0.0\n",
            "avg.time : 0.452837514877\n",
            "\n",
            "----------------------------\n",
            "Searching CXPB in [ 0.3421875000000001, 0.7671875000000001 ] Interval ...\n",
            "Searching MUTPB in [ 0.05, 0.47500000000000003 ] Interval ...\n",
            "\n",
            "\n",
            "Best CXPB : 0.7671875000000001, Best MUTPB : 0.05\n",
            "\n",
            "\n",
            "Successes : 10\n",
            "s.avg.min : 1.8109845876344414e-05\n",
            "s.avg.evals : 625.7\n",
            "s.avg.gens : 6.5\n",
            "avg.evals : 5869.4\n",
            "avg.min : 0.0\n",
            "avg.time : 0.522174310684\n",
            "\n",
            "----------------------------\n"
          ],
          "name": "stdout"
        }
      ]
    },
    {
      "metadata": {
        "id": "tRYS_Ktix4wk",
        "colab_type": "text"
      },
      "cell_type": "markdown",
      "source": [
        "Παρατηρούμε ότι όλες οι αναζητήσεις έδωσαν πολύ καλά αποτελέσματα. Θα κρατήσουμε αυτά της τελευταίας αναζήτησης"
      ]
    },
    {
      "metadata": {
        "id": "MeSj0j9asyzF",
        "colab_type": "text"
      },
      "cell_type": "markdown",
      "source": [
        "#### Εύρεση βέλτιστης (ελάχιστης) τιμής της συνάρτησης με τον ΓΑ"
      ]
    },
    {
      "metadata": {
        "id": "djHcWwDSlRH2",
        "colab_type": "code",
        "outputId": "a69c4e1a-d9fd-4a5f-8c69-4a22b21857b7",
        "colab": {
          "base_uri": "https://localhost:8080/",
          "height": 68
        }
      },
      "cell_type": "code",
      "source": [
        "POPSIZE = 200\n",
        "MAX_GENS = 150\n",
        "\n",
        "goal = 0\n",
        "delta = 0.00005\n",
        "target = goal + delta\n",
        "\n",
        "\n",
        "fun_obj = []\n",
        "fun_obj.append(evalSchwefelFun) \n",
        "fun_obj.append([0,10]) \n",
        "fun_obj.append(2)\n",
        "fun_obj.append(feasibleSchwefelFun) \n",
        "fun_obj.append(distanceSchwefelFun) \n",
        "fun_obj.append(100) \n",
        "fun_obj.append(target) \n",
        "\n",
        "\n",
        "CXPB = 0.76\n",
        "MUTPB = 0.05\n",
        "\n",
        "best_value, _, evaluations, _, _, _, total_time  = metrics_of_a_combination(fun_obj, 1, 1, 0.45, 0.3, 15, 2, POPSIZE, MAX_GENS, CXPB, MUTPB)\n",
        "\n",
        "print 'Bέλτιστη τιμή: ' + str(best_value)\n",
        "print 'Συνολικός αριθμός αποτιμήσεων: ' + str(evaluations)\n",
        "print 'Χρόνος εκτέλεσης: ' + str(total_time) + ' secs'"
      ],
      "execution_count": 0,
      "outputs": [
        {
          "output_type": "stream",
          "text": [
            "Bέλτιστη τιμή: 0.0\n",
            "Συνολικός αριθμός αποτιμήσεων: 36439\n",
            "Χρόνος εκτέλεσης: 3.24626612663 secs\n"
          ],
          "name": "stdout"
        }
      ]
    },
    {
      "metadata": {
        "id": "LTXVpLaXyjbc",
        "colab_type": "text"
      },
      "cell_type": "markdown",
      "source": [
        "## Μέρος 2. Μελέτη κλιμακούμενης συνάρτησης"
      ]
    },
    {
      "metadata": {
        "colab_type": "text",
        "id": "ljqYGz_A53kf"
      },
      "cell_type": "markdown",
      "source": [
        "#### Ορισμός Βασικών Συναρτήσεων"
      ]
    },
    {
      "metadata": {
        "id": "iihFCkzU5nqO",
        "colab_type": "text"
      },
      "cell_type": "markdown",
      "source": [
        "Για καλύτερη εποπτεία παραθέτουμε την scalable συνάρτηση\n",
        "\n",
        "**172 : Xin-She Yang Function 4 (Scalable) **\n",
        "\n",
        "$$f(x_{1}, x_{2}, ... , x_{n}) = \\bigg(\\sum_{i=1}^{n}\\sin^2(x_{i}) - e^{-\\sum_{i=1}^{n}x_{i}^2}\\bigg)e^{-\\sum_{i=1}^{n}\\sin^2\\sqrt{\\mid x_{i} \\mid}} $$\n"
      ]
    },
    {
      "metadata": {
        "id": "I2z2RlZh6MP1",
        "colab_type": "code",
        "colab": {}
      },
      "cell_type": "code",
      "source": [
        "def evalXinSheFun(ind):\n",
        "  sum1 = 0;\n",
        "  sum2 = 0;\n",
        "  sum3 = 0;\n",
        "  for x in ind:\n",
        "    sum1 += pow(sin(x),2)\n",
        "    sum2 += pow(x,2)\n",
        "    sum3 += pow(sin(sqrt(abs(x))),2)\n",
        "  return ((sum1 - exp(-sum2))*exp(-sum3) ,)"
      ],
      "execution_count": 0,
      "outputs": []
    },
    {
      "metadata": {
        "id": "FbjhO66qCNmR",
        "colab_type": "text"
      },
      "cell_type": "markdown",
      "source": [
        "### Για D=2"
      ]
    },
    {
      "metadata": {
        "id": "mVvobbXAAH4S",
        "colab_type": "code",
        "outputId": "a851722a-8f21-4b47-8780-fb50ffb66608",
        "colab": {
          "base_uri": "https://localhost:8080/",
          "height": 330
        }
      },
      "cell_type": "code",
      "source": [
        "fig = plt.figure()\n",
        "ax = fig.add_subplot(111, projection='3d')\n",
        "ax.view_init(25, -110)\n",
        "x = y = np.arange(-10.0, 10.0, 0.05)\n",
        "X, Y = np.meshgrid(x, y)\n",
        "zs = np.array([evalXinSheFun([x,y]) for x,y in zip(np.ravel(X), np.ravel(Y))])\n",
        "Z = zs.reshape(X.shape)\n",
        "\n",
        "ax.plot_surface(X, Y, Z, rstride=1, cstride=1, cmap='inferno', edgecolor='none')\n",
        "\n",
        "ax.set_xlabel('X')\n",
        "ax.set_ylabel('Y')\n",
        "ax.set_zlabel('Z')\n",
        "\n",
        "plt.show()"
      ],
      "execution_count": 0,
      "outputs": [
        {
          "output_type": "display_data",
          "data": {
            "image/png": "[encoded data removed]",
            "text/plain": [
              "<Figure size 576x396 with 1 Axes>"
            ]
          },
          "metadata": {
            "tags": []
          }
        }
      ]
    },
    {
      "metadata": {
        "id": "_6Uz_DHQCQ3O",
        "colab_type": "text"
      },
      "cell_type": "markdown",
      "source": [
        "Παρατηρούμε από το γράφημα ότι η συνάρτηση έχει πολλά τοπικά μέγιστα κι ελάχιστα. Το ολικό ελάχιστο είναι το -1 αλλά τα τοπικά ελάχιστα έχουν τιμή κοντά στο ολικό και βρίσκονται παντού στο χώρο του domain κάτι που θα δυσκολέψει αρκετά τον αλγόριθμο."
      ]
    },
    {
      "metadata": {
        "id": "OzaR7KFgBDYt",
        "colab_type": "text"
      },
      "cell_type": "markdown",
      "source": [
        "$$ x^{*} = (0,0,...,0), f(x^{*}) = -1 $$"
      ]
    },
    {
      "metadata": {
        "id": "2lorZf7qBHZP",
        "colab_type": "code",
        "outputId": "f0bbfeda-3dc0-4bb8-fc9a-e749432bcaef",
        "colab": {
          "base_uri": "https://localhost:8080/",
          "height": 68
        }
      },
      "cell_type": "code",
      "source": [
        "print evalXinSheFun([0]*2)\n",
        "print evalXinSheFun([0]*5)\n",
        "print evalXinSheFun([0]*10)"
      ],
      "execution_count": 0,
      "outputs": [
        {
          "output_type": "stream",
          "text": [
            "(-1.0,)\n",
            "(-1.0,)\n",
            "(-1.0,)\n"
          ],
          "name": "stdout"
        }
      ]
    },
    {
      "metadata": {
        "id": "RBVB0E_IBKav",
        "colab_type": "text"
      },
      "cell_type": "markdown",
      "source": [
        "$$-10 \\leq x_{i} \\leq 10 $$"
      ]
    },
    {
      "metadata": {
        "id": "dIq1Ga0gBj29",
        "colab_type": "code",
        "colab": {}
      },
      "cell_type": "code",
      "source": [
        "MIN_BOUND = -10\n",
        "MAX_BOUND = 10\n",
        "\n",
        "def feasibleXinSheFun( indiv ):\n",
        "    return all(x >= MIN_BOUND and x <= MAX_BOUND for x in indiv)\n",
        "\n",
        "def distanceXinSheFun( indiv ) :\n",
        "    dist = 0.0\n",
        "    for x in indiv :\n",
        "        penalty = 0\n",
        "        if ( x < MIN_BOUND) : \n",
        "          penalty = 0 - x\n",
        "        if ( x > MAX_BOUND) : \n",
        "          penalty = x - 10\n",
        "        dist = dist + penalty\n",
        "    return dist"
      ],
      "execution_count": 0,
      "outputs": []
    },
    {
      "metadata": {
        "id": "iWs2jLTYC6Nm",
        "colab_type": "text"
      },
      "cell_type": "markdown",
      "source": [
        "#### Βελτιστοποίηση των τελεστών στρατηγικών\n",
        "\n",
        "Απλά θα χρησιμοποιήσουμε όλες τις ήδη ορισμένες συναρτήσεις του πρώτου μέρους της άσκησης"
      ]
    },
    {
      "metadata": {
        "id": "K_b_td7JB5Vm",
        "colab_type": "code",
        "colab": {}
      },
      "cell_type": "code",
      "source": [
        "# Αρχικοποιούμε έναν creator\n",
        "creator.create(\"FitnessMin\", base.Fitness, weights=(-1.0,)) # Το αρνητικό πρόσημο σημαίνει την ελαχιστοποίηση της συνάρτησης και το ότι τα weights είναι ένας αριθμός σημαίνει ότι ελαχιστοποιούμε ένα κριτήριο μόνο.\n",
        "creator.create(\"Individual\", list, fitness=creator.FitnessMin)"
      ],
      "execution_count": 0,
      "outputs": []
    },
    {
      "metadata": {
        "id": "dqZSYNY3CDKP",
        "colab_type": "code",
        "outputId": "2476af09-823a-493c-a037-f232ef193460",
        "colab": {
          "base_uri": "https://localhost:8080/",
          "height": 187
        }
      },
      "cell_type": "code",
      "source": [
        "cxUniformLow = 0.1\n",
        "cxUniformHigh = 0.4\n",
        "cxBlendLow = 0.15\n",
        "cxBlendHigh = 0.45\n",
        "\n",
        "mate_list = [[cxUniformLow,cxUniformHigh],[cxBlendLow,cxBlendHigh]]\n",
        "\n",
        "mutGaussianLow = 0.08\n",
        "mutGaussianHigh = 0.25\n",
        "mutShuffleIndexesLow = 0.06\n",
        "mutShuffleIndexesHigh = 0.3\n",
        "\n",
        "mutate_list = [[mutGaussianLow,mutGaussianHigh],[mutShuffleIndexesLow,mutShuffleIndexesHigh]]\n",
        "\n",
        "selectionLow = 4\n",
        "selectionHigh = 15\n",
        "\n",
        "select_hyperparams = [selectionLow, selectionHigh]\n",
        "\n",
        "\n",
        "POPSIZE = 80\n",
        "MAX_GENS = 50\n",
        "CXPB = 0.8\n",
        "MUTPB = 0.05\n",
        "\n",
        "MAX_ROUNDS = 10\n",
        "\n",
        "goal = -1\n",
        "delta = 0.0005\n",
        "target = goal + delta\n",
        "\n",
        "\n",
        "fun_obj = []\n",
        "fun_obj.append(evalXinSheFun) \n",
        "fun_obj.append([-10,10]) \n",
        "fun_obj.append(2)\n",
        "fun_obj.append(feasibleXinSheFun) \n",
        "fun_obj.append(distanceXinSheFun) \n",
        "fun_obj.append(10) \n",
        "fun_obj.append(target)\n",
        "\n",
        "\n",
        "matrix_of_metrics = get_metrics(MAX_ROUNDS, fun_obj, mate_list, mutate_list, select_hyperparams, POPSIZE, MAX_GENS, CXPB, MUTPB )\n"
      ],
      "execution_count": 0,
      "outputs": [
        {
          "output_type": "stream",
          "text": [
            "Round 1 Completed.\n",
            "Round 2 Completed.\n",
            "Round 3 Completed.\n",
            "Round 4 Completed.\n",
            "Round 5 Completed.\n",
            "Round 6 Completed.\n",
            "Round 7 Completed.\n",
            "Round 8 Completed.\n",
            "Round 9 Completed.\n",
            "Round 10 Completed.\n"
          ],
          "name": "stdout"
        }
      ]
    },
    {
      "metadata": {
        "id": "7gT_PvYlDiE3",
        "colab_type": "code",
        "outputId": "1f030ce8-b9e7-43a4-d64a-e77f2091ee13",
        "colab": {
          "base_uri": "https://localhost:8080/",
          "height": 1717
        }
      },
      "cell_type": "code",
      "source": [
        "strategy_names = []\n",
        "crossover = []\n",
        "mutation = []\n",
        "selection = []\n",
        "\n",
        "for s in ['eaSimple ' + str(POPSIZE) + ' ' + str(CXPB) + ' ' + str(MUTPB) , 'eaMuPlusLambda ' + str(POPSIZE) + ' ' + str(3*POPSIZE/2) + ' ' + str(CXPB) + ' ' + str(MUTPB), 'eaMuCommaLambda ' + str(POPSIZE) + ' ' + str(3*POPSIZE/2) + ' ' + str(CXPB) + ' ' + str(MUTPB) ]:\n",
        "  for cx in ['cxUniform', 'cxBlend']:\n",
        "    for mut in ['mutGaussian', 'mutShuffleIndexes' ]:\n",
        "      for cx_hp in ['Low', 'High']:\n",
        "        for mut_hp in ['Low', 'High']:\n",
        "          for sel_hp in ['Low', 'High']:\n",
        "            strategy_names.append(s)\n",
        "            crossover.append(cx + cx_hp)\n",
        "            mutation.append(mut + mut_hp)\n",
        "            selection.append('Selection' + sel_hp)\n",
        "            \n",
        "\n",
        "                                                                                                           \n",
        "data = {'Strategy': strategy_names,'Crossover': crossover,'Mutation': mutation,'Selection': selection,'Successes': matrix_of_metrics[0],'s.avg.min': matrix_of_metrics[1],'s.avg.evals': matrix_of_metrics[2],'s.avg.gens': matrix_of_metrics[3],'avg.evals': matrix_of_metrics[4],'avg.min': matrix_of_metrics[5],'avg.time': matrix_of_metrics[6]}\n",
        "\n",
        "df = pd.DataFrame(data)\n",
        "columnsTitles = ['Strategy', 'Crossover', 'Mutation' , 'Selection', 'Successes', 's.avg.min','s.avg.evals' ,'s.avg.gens' , 'avg.evals', 'avg.min', 'avg.time']\n",
        "df = df.reindex(columns=columnsTitles)\n",
        "final_df = df.sort_values(by=['avg.min', 's.avg.evals'])\n",
        "print(tabulate(final_df, headers='keys', tablefmt='psql', showindex=\"never\"))\n"
      ],
      "execution_count": 0,
      "outputs": [
        {
          "output_type": "stream",
          "text": [
            "+---------------------------------+---------------+-----------------------+---------------+-------------+-------------+---------------+--------------+-------------+------------+------------+\n",
            "| Strategy                        | Crossover     | Mutation              | Selection     |   Successes |   s.avg.min |   s.avg.evals |   s.avg.gens |   avg.evals |    avg.min |   avg.time |\n",
            "|---------------------------------+---------------+-----------------------+---------------+-------------+-------------+---------------+--------------+-------------+------------+------------|\n",
            "| eaMuCommaLambda 80 120 0.8 0.05 | cxBlendLow    | mutShuffleIndexesLow  | SelectionLow  |          10 |   -0.999768 |      1617.7   |     16       |      5079   | -1         |   0.419287 |\n",
            "| eaMuPlusLambda 80 120 0.8 0.05  | cxBlendLow    | mutShuffleIndexesHigh | SelectionLow  |          10 |   -0.999674 |      1629.2   |     16.2     |      5074.8 | -1         |   0.413872 |\n",
            "| eaMuPlusLambda 80 120 0.8 0.05  | cxBlendHigh   | mutShuffleIndexesLow  | SelectionLow  |          10 |   -0.999753 |      1777.8   |     17.7     |      5059.8 | -1         |   0.414929 |\n",
            "| eaMuPlusLambda 80 120 0.8 0.05  | cxBlendHigh   | mutShuffleIndexesHigh | SelectionLow  |          10 |   -0.999744 |      1767.6   |     17.5     |      5089.2 | -1         |   0.413117 |\n",
            "| eaMuPlusLambda 80 120 0.8 0.05  | cxBlendLow    | mutShuffleIndexesLow  | SelectionHigh |          10 |   -0.999798 |      1338     |     13.3     |      5078.9 | -1         |   0.471531 |\n",
            "| eaMuPlusLambda 80 120 0.8 0.05  | cxBlendLow    | mutShuffleIndexesLow  | SelectionLow  |          10 |   -0.999664 |      1692.2   |     16.8     |      5080.7 | -1         |   0.413952 |\n",
            "| eaMuCommaLambda 80 120 0.8 0.05 | cxBlendLow    | mutShuffleIndexesLow  | SelectionHigh |          10 |   -0.99977  |      1935     |     19.1     |      5090.1 | -0.99998   |   0.478593 |\n",
            "| eaMuPlusLambda 80 120 0.8 0.05  | cxBlendLow    | mutGaussianHigh       | SelectionLow  |           9 |   -0.99969  |      1462.33  |     14.6667  |      5055.8 | -0.999193  |   0.423852 |\n",
            "| eaMuCommaLambda 80 120 0.8 0.05 | cxBlendLow    | mutShuffleIndexesHigh | SelectionHigh |           8 |   -0.999759 |      1094.5   |     11       |      5066   | -0.998357  |   0.480161 |\n",
            "| eaMuPlusLambda 80 120 0.8 0.05  | cxBlendHigh   | mutGaussianHigh       | SelectionLow  |           9 |   -0.999692 |      1621     |     16.1111  |      5082.8 | -0.997925  |   0.419955 |\n",
            "| eaMuCommaLambda 80 120 0.8 0.05 | cxBlendLow    | mutGaussianHigh       | SelectionLow  |           8 |   -0.999688 |      1550     |     15.375   |      5087.3 | -0.996099  |   0.41743  |\n",
            "| eaMuPlusLambda 80 120 0.8 0.05  | cxBlendLow    | mutGaussianHigh       | SelectionHigh |           5 |   -0.999828 |      1046.4   |     10.4     |      5080.9 | -0.983086  |   0.479194 |\n",
            "| eaMuPlusLambda 80 120 0.8 0.05  | cxBlendLow    | mutGaussianLow        | SelectionLow  |           8 |   -0.999697 |      1652     |     16.375   |      5068.1 | -0.972527  |   0.41905  |\n",
            "| eaMuCommaLambda 80 120 0.8 0.05 | cxBlendLow    | mutGaussianLow        | SelectionLow  |           7 |   -0.999736 |      1450.57  |     14.4286  |      5085.9 | -0.967177  |   0.41503  |\n",
            "| eaSimple 80 0.8 0.05            | cxBlendHigh   | mutShuffleIndexesLow  | SelectionLow  |           9 |   -0.999713 |      1099.11  |     16.6667  |      3269.4 | -0.964697  |   0.178925 |\n",
            "| eaMuCommaLambda 80 120 0.8 0.05 | cxBlendHigh   | mutShuffleIndexesHigh | SelectionLow  |           9 |   -0.999585 |      1760.11  |     17.5556  |      5071.4 | -0.955021  |   0.421076 |\n",
            "| eaMuCommaLambda 80 120 0.8 0.05 | cxBlendHigh   | mutGaussianLow        | SelectionLow  |           9 |   -0.999738 |      1677.44  |     16.6667  |      5074.5 | -0.945141  |   0.422969 |\n",
            "| eaMuPlusLambda 80 120 0.8 0.05  | cxBlendHigh   | mutGaussianLow        | SelectionLow  |           9 |   -0.999665 |      1709     |     17       |      5073.2 | -0.944767  |   0.421261 |\n",
            "| eaMuCommaLambda 80 120 0.8 0.05 | cxBlendLow    | mutShuffleIndexesHigh | SelectionLow  |           9 |   -0.999746 |      1706.89  |     16.8889  |      5080.8 | -0.939746  |   0.41987  |\n",
            "| eaMuCommaLambda 80 120 0.8 0.05 | cxBlendHigh   | mutGaussianHigh       | SelectionHigh |           9 |   -0.999782 |       897     |      9       |      5090.8 | -0.927805  |   0.478222 |\n",
            "| eaMuPlusLambda 80 120 0.8 0.05  | cxBlendLow    | mutGaussianLow        | SelectionHigh |           6 |   -0.999825 |       998.167 |     10       |      5083.4 | -0.920151  |   0.478449 |\n",
            "| eaMuPlusLambda 80 120 0.8 0.05  | cxBlendHigh   | mutGaussianLow        | SelectionHigh |           7 |   -0.999641 |      1042.57  |     10.4286  |      5072.7 | -0.904698  |   0.480225 |\n",
            "| eaMuCommaLambda 80 120 0.8 0.05 | cxBlendHigh   | mutShuffleIndexesHigh | SelectionHigh |           9 |   -0.999739 |       987.778 |      9.88889 |      5077.6 | -0.9       |   0.476078 |\n",
            "| eaMuPlusLambda 80 120 0.8 0.05  | cxBlendHigh   | mutShuffleIndexesHigh | SelectionHigh |           9 |   -0.999637 |      1109     |     11.1111  |      5069   | -0.9       |   0.47127  |\n",
            "| eaSimple 80 0.8 0.05            | cxBlendHigh   | mutShuffleIndexesHigh | SelectionLow  |           9 |   -0.999746 |      1046.33  |     16.1111  |      3245.7 | -0.9       |   0.1799   |\n",
            "| eaMuCommaLambda 80 120 0.8 0.05 | cxBlendHigh   | mutShuffleIndexesLow  | SelectionHigh |           9 |   -0.999698 |      1099.11  |     11       |      5069   | -0.9       |   0.477295 |\n",
            "| eaMuPlusLambda 80 120 0.8 0.05  | cxBlendLow    | mutShuffleIndexesHigh | SelectionHigh |           9 |   -0.999746 |      1428.44  |     14.2222  |      5075.4 | -0.9       |   0.477456 |\n",
            "| eaMuCommaLambda 80 120 0.8 0.05 | cxBlendHigh   | mutShuffleIndexesLow  | SelectionLow  |           9 |   -0.999657 |      1756.33  |     17.4444  |      5091.3 | -0.899993  |   0.419512 |\n",
            "| eaMuPlusLambda 80 120 0.8 0.05  | cxBlendHigh   | mutShuffleIndexesLow  | SelectionHigh |           9 |   -0.999753 |      1295.22  |     12.8889  |      5080.3 | -0.899657  |   0.471614 |\n",
            "| eaMuCommaLambda 80 120 0.8 0.05 | cxBlendLow    | mutGaussianHigh       | SelectionHigh |           6 |   -0.999778 |       927.667 |      9.33333 |      5072.5 | -0.898523  |   0.477755 |\n",
            "| eaSimple 80 0.8 0.05            | cxBlendLow    | mutShuffleIndexesHigh | SelectionLow  |           7 |   -0.999791 |      1451.86  |     22.1429  |      3255.3 | -0.896196  |   0.181346 |\n",
            "| eaSimple 80 0.8 0.05            | cxBlendHigh   | mutGaussianLow        | SelectionLow  |           8 |   -0.999735 |      1120.25  |     17.125   |      3255.7 | -0.863006  |   0.182497 |\n",
            "| eaMuCommaLambda 80 120 0.8 0.05 | cxBlendHigh   | mutGaussianHigh       | SelectionLow  |           7 |   -0.999628 |      1870.29  |     18.5714  |      5073.1 | -0.862479  |   0.418027 |\n",
            "| eaSimple 80 0.8 0.05            | cxBlendHigh   | mutGaussianHigh       | SelectionLow  |           8 |   -0.999636 |      1129     |     17.375   |      3244.9 | -0.861823  |   0.18535  |\n",
            "| eaSimple 80 0.8 0.05            | cxBlendLow    | mutGaussianHigh       | SelectionLow  |           3 |   -0.999703 |      1244.33  |     19       |      3247.2 | -0.853352  |   0.182279 |\n",
            "| eaSimple 80 0.8 0.05            | cxBlendLow    | mutShuffleIndexesLow  | SelectionLow  |           8 |   -0.999671 |      1306.25  |     20       |      3248.7 | -0.825687  |   0.181243 |\n",
            "| eaSimple 80 0.8 0.05            | cxBlendLow    | mutShuffleIndexesLow  | SelectionHigh |           8 |   -0.999767 |      1208.5   |     18.25    |      3265   | -0.799962  |   0.240187 |\n",
            "| eaMuPlusLambda 80 120 0.8 0.05  | cxBlendHigh   | mutGaussianHigh       | SelectionHigh |           6 |   -0.999722 |      1026     |     10.3333  |      5082.9 | -0.793428  |   0.478245 |\n",
            "| eaSimple 80 0.8 0.05            | cxBlendLow    | mutGaussianLow        | SelectionLow  |           5 |   -0.999682 |      1075     |     16.2     |      3258.9 | -0.789152  |   0.181691 |\n",
            "| eaSimple 80 0.8 0.05            | cxBlendHigh   | mutGaussianHigh       | SelectionHigh |           4 |   -0.999811 |       609.5   |      9.25    |      3247.1 | -0.780703  |   0.242491 |\n",
            "| eaMuCommaLambda 80 120 0.8 0.05 | cxBlendHigh   | mutGaussianLow        | SelectionHigh |           7 |   -0.99971  |       967.571 |      9.71429 |      5084.7 | -0.774969  |   0.479385 |\n",
            "| eaSimple 80 0.8 0.05            | cxBlendLow    | mutShuffleIndexesHigh | SelectionHigh |           5 |   -0.999729 |      1195.4   |     18.4     |      3239.4 | -0.763413  |   0.23942  |\n",
            "| eaSimple 80 0.8 0.05            | cxBlendHigh   | mutShuffleIndexesHigh | SelectionHigh |           7 |   -0.999783 |       634.429 |      9.71429 |      3256.9 | -0.699835  |   0.243881 |\n",
            "| eaMuPlusLambda 80 120 0.8 0.05  | cxUniformHigh | mutShuffleIndexesHigh | SelectionLow  |           0 |  nan        |       nan     |    nan       |      5100.2 | -0.697881  |   0.398053 |\n",
            "| eaMuCommaLambda 80 120 0.8 0.05 | cxBlendLow    | mutGaussianLow        | SelectionHigh |           5 |   -0.999842 |       928     |      9.4     |      5079.9 | -0.654577  |   0.474719 |\n",
            "| eaMuCommaLambda 80 120 0.8 0.05 | cxUniformHigh | mutShuffleIndexesHigh | SelectionHigh |           0 |  nan        |       nan     |    nan       |      5077.1 | -0.635188  |   0.452117 |\n",
            "| eaSimple 80 0.8 0.05            | cxBlendHigh   | mutShuffleIndexesLow  | SelectionHigh |           6 |   -0.999729 |       926.667 |     14       |      3259.2 | -0.609526  |   0.240989 |\n",
            "| eaSimple 80 0.8 0.05            | cxUniformLow  | mutShuffleIndexesLow  | SelectionHigh |           0 |  nan        |       nan     |    nan       |      3251.4 | -0.543682  |   0.232441 |\n",
            "| eaSimple 80 0.8 0.05            | cxUniformHigh | mutShuffleIndexesLow  | SelectionHigh |           0 |  nan        |       nan     |    nan       |      3259.8 | -0.505477  |   0.232177 |\n",
            "| eaMuCommaLambda 80 120 0.8 0.05 | cxUniformLow  | mutShuffleIndexesHigh | SelectionHigh |           0 |  nan        |       nan     |    nan       |      5081   | -0.501474  |   0.448912 |\n",
            "| eaMuPlusLambda 80 120 0.8 0.05  | cxUniformHigh | mutGaussianLow        | SelectionLow  |           0 |  nan        |       nan     |    nan       |      5085   | -0.478666  |   0.407171 |\n",
            "| eaMuCommaLambda 80 120 0.8 0.05 | cxUniformLow  | mutShuffleIndexesLow  | SelectionHigh |           0 |  nan        |       nan     |    nan       |      5070.1 | -0.474227  |   0.445181 |\n",
            "| eaSimple 80 0.8 0.05            | cxUniformLow  | mutShuffleIndexesLow  | SelectionLow  |           0 |  nan        |       nan     |    nan       |      3262.9 | -0.466833  |   0.173926 |\n",
            "| eaSimple 80 0.8 0.05            | cxBlendHigh   | mutGaussianLow        | SelectionHigh |           3 |   -0.999726 |       575.667 |      8.66667 |      3263.3 | -0.464178  |   0.244381 |\n",
            "| eaMuPlusLambda 80 120 0.8 0.05  | cxUniformHigh | mutShuffleIndexesHigh | SelectionHigh |           0 |  nan        |       nan     |    nan       |      5064.4 | -0.461008  |   0.454948 |\n",
            "| eaMuCommaLambda 80 120 0.8 0.05 | cxUniformHigh | mutShuffleIndexesHigh | SelectionLow  |           0 |  nan        |       nan     |    nan       |      5080.3 | -0.457206  |   0.392876 |\n",
            "| eaMuPlusLambda 80 120 0.8 0.05  | cxUniformLow  | mutShuffleIndexesLow  | SelectionHigh |           0 |  nan        |       nan     |    nan       |      5089.7 | -0.451585  |   0.453351 |\n",
            "| eaMuCommaLambda 80 120 0.8 0.05 | cxUniformLow  | mutShuffleIndexesHigh | SelectionLow  |           0 |  nan        |       nan     |    nan       |      5082.7 | -0.418162  |   0.390077 |\n",
            "| eaMuCommaLambda 80 120 0.8 0.05 | cxUniformHigh | mutGaussianHigh       | SelectionHigh |           0 |  nan        |       nan     |    nan       |      5091.2 | -0.417512  |   0.46076  |\n",
            "| eaSimple 80 0.8 0.05            | cxUniformLow  | mutShuffleIndexesHigh | SelectionHigh |           0 |  nan        |       nan     |    nan       |      3252.5 | -0.414608  |   0.233098 |\n",
            "| eaSimple 80 0.8 0.05            | cxUniformHigh | mutGaussianHigh       | SelectionLow  |           0 |  nan        |       nan     |    nan       |      3253.9 | -0.414525  |   0.178588 |\n",
            "| eaSimple 80 0.8 0.05            | cxBlendLow    | mutGaussianLow        | SelectionHigh |           2 |   -0.999801 |       523     |      8       |      3247.9 | -0.40153   |   0.243557 |\n",
            "| eaSimple 80 0.8 0.05            | cxUniformLow  | mutShuffleIndexesHigh | SelectionLow  |           0 |  nan        |       nan     |    nan       |      3237.4 | -0.396509  |   0.173332 |\n",
            "| eaMuPlusLambda 80 120 0.8 0.05  | cxUniformLow  | mutGaussianLow        | SelectionLow  |           0 |  nan        |       nan     |    nan       |      5072.5 | -0.39144   |   0.404077 |\n",
            "| eaMuCommaLambda 80 120 0.8 0.05 | cxUniformHigh | mutShuffleIndexesLow  | SelectionLow  |           0 |  nan        |       nan     |    nan       |      5077   | -0.389735  |   0.392905 |\n",
            "| eaMuCommaLambda 80 120 0.8 0.05 | cxUniformHigh | mutShuffleIndexesLow  | SelectionHigh |           0 |  nan        |       nan     |    nan       |      5064.6 | -0.379959  |   0.451227 |\n",
            "| eaMuCommaLambda 80 120 0.8 0.05 | cxUniformHigh | mutGaussianHigh       | SelectionLow  |           0 |  nan        |       nan     |    nan       |      5066.6 | -0.370323  |   0.401103 |\n",
            "| eaMuPlusLambda 80 120 0.8 0.05  | cxUniformHigh | mutShuffleIndexesLow  | SelectionHigh |           0 |  nan        |       nan     |    nan       |      5089.1 | -0.363654  |   0.458514 |\n",
            "| eaMuCommaLambda 80 120 0.8 0.05 | cxUniformLow  | mutShuffleIndexesLow  | SelectionLow  |           0 |  nan        |       nan     |    nan       |      5071   | -0.357491  |   0.388865 |\n",
            "| eaSimple 80 0.8 0.05            | cxUniformHigh | mutShuffleIndexesLow  | SelectionLow  |           0 |  nan        |       nan     |    nan       |      3254.8 | -0.356075  |   0.176148 |\n",
            "| eaSimple 80 0.8 0.05            | cxUniformHigh | mutShuffleIndexesHigh | SelectionLow  |           0 |  nan        |       nan     |    nan       |      3242.2 | -0.354261  |   0.172773 |\n",
            "| eaSimple 80 0.8 0.05            | cxBlendLow    | mutGaussianHigh       | SelectionHigh |           1 |   -0.999851 |       669     |     10       |      3245.7 | -0.346678  |   0.242207 |\n",
            "| eaMuPlusLambda 80 120 0.8 0.05  | cxUniformLow  | mutGaussianLow        | SelectionHigh |           0 |  nan        |       nan     |    nan       |      5059.3 | -0.341595  |   0.458669 |\n",
            "| eaMuPlusLambda 80 120 0.8 0.05  | cxUniformHigh | mutGaussianHigh       | SelectionHigh |           0 |  nan        |       nan     |    nan       |      5077.1 | -0.340014  |   0.469253 |\n",
            "| eaSimple 80 0.8 0.05            | cxUniformHigh | mutGaussianLow        | SelectionLow  |           0 |  nan        |       nan     |    nan       |      3246.6 | -0.307734  |   0.178345 |\n",
            "| eaMuPlusLambda 80 120 0.8 0.05  | cxUniformHigh | mutGaussianHigh       | SelectionLow  |           0 |  nan        |       nan     |    nan       |      5076.6 | -0.284795  |   0.406217 |\n",
            "| eaSimple 80 0.8 0.05            | cxUniformLow  | mutGaussianLow        | SelectionLow  |           0 |  nan        |       nan     |    nan       |      3248.3 | -0.268658  |   0.177522 |\n",
            "| eaMuPlusLambda 80 120 0.8 0.05  | cxUniformLow  | mutShuffleIndexesHigh | SelectionHigh |           0 |  nan        |       nan     |    nan       |      5076.9 | -0.266339  |   0.455365 |\n",
            "| eaSimple 80 0.8 0.05            | cxUniformHigh | mutGaussianHigh       | SelectionHigh |           0 |  nan        |       nan     |    nan       |      3251.9 | -0.266313  |   0.2383   |\n",
            "| eaSimple 80 0.8 0.05            | cxUniformHigh | mutShuffleIndexesHigh | SelectionHigh |           0 |  nan        |       nan     |    nan       |      3267.2 | -0.265839  |   0.23354  |\n",
            "| eaMuPlusLambda 80 120 0.8 0.05  | cxUniformHigh | mutShuffleIndexesLow  | SelectionLow  |           0 |  nan        |       nan     |    nan       |      5096.9 | -0.264619  |   0.39998  |\n",
            "| eaMuCommaLambda 80 120 0.8 0.05 | cxUniformLow  | mutGaussianLow        | SelectionLow  |           0 |  nan        |       nan     |    nan       |      5064.3 | -0.25862   |   0.401928 |\n",
            "| eaSimple 80 0.8 0.05            | cxUniformHigh | mutGaussianLow        | SelectionHigh |           0 |  nan        |       nan     |    nan       |      3268   | -0.225907  |   0.236148 |\n",
            "| eaMuCommaLambda 80 120 0.8 0.05 | cxUniformLow  | mutGaussianHigh       | SelectionLow  |           0 |  nan        |       nan     |    nan       |      5075   | -0.225488  |   0.400255 |\n",
            "| eaMuCommaLambda 80 120 0.8 0.05 | cxUniformHigh | mutGaussianLow        | SelectionHigh |           0 |  nan        |       nan     |    nan       |      5073.1 | -0.221654  |   0.460454 |\n",
            "| eaMuPlusLambda 80 120 0.8 0.05  | cxUniformLow  | mutShuffleIndexesLow  | SelectionLow  |           0 |  nan        |       nan     |    nan       |      5065.1 | -0.220674  |   0.397348 |\n",
            "| eaMuPlusLambda 80 120 0.8 0.05  | cxUniformHigh | mutGaussianLow        | SelectionHigh |           0 |  nan        |       nan     |    nan       |      5084.7 | -0.215014  |   0.465414 |\n",
            "| eaMuCommaLambda 80 120 0.8 0.05 | cxUniformHigh | mutGaussianLow        | SelectionLow  |           0 |  nan        |       nan     |    nan       |      5073.2 | -0.214456  |   0.399862 |\n",
            "| eaMuCommaLambda 80 120 0.8 0.05 | cxUniformLow  | mutGaussianLow        | SelectionHigh |           0 |  nan        |       nan     |    nan       |      5078.8 | -0.213768  |   0.459147 |\n",
            "| eaMuCommaLambda 80 120 0.8 0.05 | cxUniformLow  | mutGaussianHigh       | SelectionHigh |           0 |  nan        |       nan     |    nan       |      5090.9 | -0.208816  |   0.458929 |\n",
            "| eaMuPlusLambda 80 120 0.8 0.05  | cxUniformLow  | mutGaussianHigh       | SelectionHigh |           0 |  nan        |       nan     |    nan       |      5085   | -0.200236  |   0.460757 |\n",
            "| eaMuPlusLambda 80 120 0.8 0.05  | cxUniformLow  | mutShuffleIndexesHigh | SelectionLow  |           0 |  nan        |       nan     |    nan       |      5066.2 | -0.175298  |   0.39563  |\n",
            "| eaSimple 80 0.8 0.05            | cxUniformLow  | mutGaussianHigh       | SelectionLow  |           0 |  nan        |       nan     |    nan       |      3250.8 | -0.169533  |   0.179381 |\n",
            "| eaMuPlusLambda 80 120 0.8 0.05  | cxUniformLow  | mutGaussianHigh       | SelectionLow  |           0 |  nan        |       nan     |    nan       |      5072.2 | -0.135202  |   0.399945 |\n",
            "| eaSimple 80 0.8 0.05            | cxUniformLow  | mutGaussianHigh       | SelectionHigh |           0 |  nan        |       nan     |    nan       |      3256.4 | -0.0835213 |   0.235629 |\n",
            "| eaSimple 80 0.8 0.05            | cxUniformLow  | mutGaussianLow        | SelectionHigh |           0 |  nan        |       nan     |    nan       |      3266.1 | -0.0826471 |   0.240484 |\n",
            "+---------------------------------+---------------+-----------------------+---------------+-------------+-------------+---------------+--------------+-------------+------------+------------+\n"
          ],
          "name": "stdout"
        }
      ]
    },
    {
      "metadata": {
        "id": "hb5fKAPiHMBF",
        "colab_type": "text"
      },
      "cell_type": "markdown",
      "source": [
        "#### Τελική αναζήτηση και σχολιασμός\n",
        "\n",
        "Όσον αφορά το DELTA ακολουθήσαμε τις οδηγίες της εκφώνησης, δηλαδή, ξεκινώντας από τιμή 0.1 σταδιακά τη μειώναμε σε τάξη μεγέθους έως ότου οι καλύτεροι συνδυασμοί να έχουν ποσοστό επιτυχιών κοντά στη μονάδα και οι χειρότεροι στο μηδέν. Καταλήξαμε στην τιμή delta =  0.0005 η οποία καταφέρνει ικανοποιητικά να διαχωρίσει τους συνδυασμούς σε πολύ καλούς και πολύ κακούς αλλά όχι τόσο καλά όπως στο πρώτο μέρος της άσκησης.\n",
        "\n",
        "Παρακάτω παρουσιάζουμε ένα γράφημα όπου φαίνεται το πλήθος των συνδυασμών συναρτήσει των ποσοστών επιτυχίας."
      ]
    },
    {
      "metadata": {
        "id": "ZFiUDkwEHPC3",
        "colab_type": "code",
        "outputId": "c7f1866c-58aa-4248-87f9-ea50c545b34e",
        "colab": {
          "base_uri": "https://localhost:8080/",
          "height": 361
        }
      },
      "cell_type": "code",
      "source": [
        "succ_percent = [i / float(MAX_ROUNDS) for i in matrix_of_metrics[0]]\n",
        "percents = [i / float(MAX_ROUNDS) for i in range(0,MAX_ROUNDS+1)]\n",
        "freq = []\n",
        "for p in percents:\n",
        "  freq.append(succ_percent.count(p))\n",
        "\n",
        "import matplotlib.pyplot as plt\n",
        "plt.plot(percents, freq, 'bs')\n",
        "plt.axis([0, 1, min(freq), max(freq)])\n",
        "plt.xlabel('Success Percent')\n",
        "plt.ylabel('# Instances')\n",
        "plt.show()"
      ],
      "execution_count": 0,
      "outputs": [
        {
          "output_type": "display_data",
          "data": {
            "image/png": "[encoded data removed]",
            "text/plain": [
              "<Figure size 576x396 with 1 Axes>"
            ]
          },
          "metadata": {
            "tags": []
          }
        }
      ]
    },
    {
      "metadata": {
        "id": "FjSib67xHNPh",
        "colab_type": "text"
      },
      "cell_type": "markdown",
      "source": [
        "** Θεωρώντας ως δεύτερο βασικό κριτήριο το s.avg.evals δηλαδή ουσιαστικά το πόσο γρήγορα συγκλίνει ο αλγόριθμος κατά μέσο όρο έχουμε τους δυο καλύτερους συνδυασμούς που φαίνονται στον παρακάτω πίνακα. **"
      ]
    },
    {
      "metadata": {
        "id": "0RCTFPmpLpNU",
        "colab_type": "code",
        "outputId": "e7e931e6-4673-4be7-cebc-2bd3f93a652d",
        "colab": {
          "base_uri": "https://localhost:8080/",
          "height": 119
        }
      },
      "cell_type": "code",
      "source": [
        "print(tabulate(final_df.head(2), headers='keys', tablefmt='psql', showindex=\"never\"))"
      ],
      "execution_count": 0,
      "outputs": [
        {
          "output_type": "stream",
          "text": [
            "+---------------------------------+-------------+-----------------------+--------------+-------------+-------------+---------------+--------------+-------------+-----------+------------+\n",
            "| Strategy                        | Crossover   | Mutation              | Selection    |   Successes |   s.avg.min |   s.avg.evals |   s.avg.gens |   avg.evals |   avg.min |   avg.time |\n",
            "|---------------------------------+-------------+-----------------------+--------------+-------------+-------------+---------------+--------------+-------------+-----------+------------|\n",
            "| eaMuCommaLambda 80 120 0.8 0.05 | cxBlendLow  | mutShuffleIndexesLow  | SelectionLow |          10 |   -0.999768 |        1617.7 |         16   |      5079   |        -1 |   0.419287 |\n",
            "| eaMuPlusLambda 80 120 0.8 0.05  | cxBlendLow  | mutShuffleIndexesHigh | SelectionLow |          10 |   -0.999674 |        1629.2 |         16.2 |      5074.8 |        -1 |   0.413872 |\n",
            "+---------------------------------+-------------+-----------------------+--------------+-------------+-------------+---------------+--------------+-------------+-----------+------------+\n"
          ],
          "name": "stdout"
        }
      ]
    },
    {
      "metadata": {
        "id": "ZbJYxLzoL1Ou",
        "colab_type": "text"
      },
      "cell_type": "markdown",
      "source": [
        "Για την τελική βελτιστοποίηση λοιπόν θα κρατήσουμε τον συνδυασμό:\n",
        "\n",
        "\n",
        "\n",
        "*   eaMuCommaLambda\n",
        "*   cxBlendLow\n",
        "*   mutShuffleIndexesLow\n",
        "*   SelectionLow"
      ]
    },
    {
      "metadata": {
        "id": "mhMwFjR-L8uu",
        "colab_type": "text"
      },
      "cell_type": "markdown",
      "source": [
        "### Τελική βελτιστοποίηση"
      ]
    },
    {
      "metadata": {
        "id": "vN4vmSpKL-1o",
        "colab_type": "text"
      },
      "cell_type": "markdown",
      "source": [
        "#### Βελτιστοποίηση πιθανοτήτων διασταύρωσης και μετάλλαξης"
      ]
    },
    {
      "metadata": {
        "id": "oyG-_t9AMDqv",
        "colab_type": "code",
        "colab": {}
      },
      "cell_type": "code",
      "source": [
        "cxUniformLow = 0.1\n",
        "cxUniformHigh = 0.4\n",
        "cxBlendLow = 0.15\n",
        "cxBlendHigh = 0.45\n",
        "mutGaussianLow = 0.08\n",
        "mutGaussianHigh = 0.25\n",
        "mutShuffleIndexesLow = 0.06\n",
        "mutShuffleIndexesHigh = 0.3\n",
        "selectionLow = 4\n",
        "selectionHigh = 15\n",
        "\n",
        "\n",
        "\n",
        "POPSIZE = 80\n",
        "MAX_GENS = 60\n",
        "\n",
        "MAX_ROUNDS = 10\n",
        "\n",
        "goal = -1\n",
        "delta = 0.0005\n",
        "target = goal + delta\n",
        "\n",
        "\n",
        "fun_obj = []\n",
        "fun_obj.append(evalXinSheFun) \n",
        "fun_obj.append([-10,10]) \n",
        "fun_obj.append(2)\n",
        "fun_obj.append(feasibleXinSheFun) \n",
        "fun_obj.append(distanceXinSheFun) \n",
        "fun_obj.append(10) \n",
        "fun_obj.append(target)\n",
        "\n",
        "\n",
        "combo = [1,1,cxBlendLow,mutShuffleIndexesLow,selectionLow,2]"
      ],
      "execution_count": 0,
      "outputs": []
    },
    {
      "metadata": {
        "id": "Sw4CfT_NM26A",
        "colab_type": "text"
      },
      "cell_type": "markdown",
      "source": [
        "**Ξεκινάμε λοιπόν με αρχικό διάστημα το (0.05, 0.9) χωρίζοντας σε 5 διαστήματα  και στη συνέχεια μικραίνουμε τα διαστήματα βάσει των τιμών CXPB και ΜUTPB που βρίσκουμε**"
      ]
    },
    {
      "metadata": {
        "id": "BX9EW1dMM3ht",
        "colab_type": "code",
        "outputId": "f3b8d29e-be0b-4931-87df-cb2bfef5a694",
        "colab": {
          "base_uri": "https://localhost:8080/",
          "height": 1105
        }
      },
      "cell_type": "code",
      "source": [
        "CX_LIMITS = (0.05, 0.9, 5)\n",
        "MUT_LIMITS = (0.05, 0.9, 5)\n",
        "\n",
        "for i in range (0,4,1):\n",
        "  \n",
        "  print 'Searching CXPB in [ ' + str(CX_LIMITS[0]) + ', ' + str(CX_LIMITS[1]) + ' ] Interval ...'\n",
        "  print 'Searching MUTPB in [ ' + str(MUT_LIMITS[0]) + ', ' + str(MUT_LIMITS[1]) + ' ] Interval ...'\n",
        "  gs = grid_search(fun_obj, CX_LIMITS, MUT_LIMITS, MAX_ROUNDS, combo, POPSIZE, MAX_GENS)\n",
        "  \n",
        "  CXPB = gs[7]\n",
        "  MUTPB = gs[8]\n",
        "  \n",
        "  print '\\n'\n",
        "  print 'Best CXPB : ' + str(CXPB) + ', Best MUTPB : ' + str(MUTPB)\n",
        "  print '\\n'\n",
        "  print 'Successes : ' + str(gs[0])\n",
        "  print 's.avg.min : ' + str(gs[1])\n",
        "  print 's.avg.evals : ' + str(gs[2])\n",
        "  print 's.avg.gens : ' + str(gs[3])\n",
        "  print 'avg.evals : ' + str(gs[4])\n",
        "  print 'avg.min : ' + str(gs[5])\n",
        "  print 'avg.time : ' + str(gs[6])\n",
        "  print '\\n----------------------------'\n",
        "  \n",
        "  CX_LIMITS = ((0.05 + CXPB)/2, (0.9 + CXPB)/2, 5)\n",
        "  MUT_LIMITS = ((0.05 + MUTPB)/2, (0.9 + MUTPB)/2, 5)"
      ],
      "execution_count": 0,
      "outputs": [
        {
          "output_type": "stream",
          "text": [
            "Searching CXPB in [ 0.05, 0.9 ] Interval ...\n",
            "Searching MUTPB in [ 0.05, 0.9 ] Interval ...\n",
            "\n",
            "\n",
            "Best CXPB : 0.6875, Best MUTPB : 0.2625\n",
            "\n",
            "\n",
            "Successes : 10\n",
            "s.avg.min : -0.9996564564158387\n",
            "s.avg.evals : 1785.6\n",
            "s.avg.gens : 15.9\n",
            "avg.evals : 6808.5\n",
            "avg.min : -1.0\n",
            "avg.time : 0.49499373436\n",
            "\n",
            "----------------------------\n",
            "Searching CXPB in [ 0.36875, 0.79375 ] Interval ...\n",
            "Searching MUTPB in [ 0.15625, 0.58125 ] Interval ...\n",
            "\n",
            "\n",
            "Best CXPB : 0.79375, Best MUTPB : 0.15625\n",
            "\n",
            "\n",
            "Successes : 10\n",
            "s.avg.min : -0.9997060041140419\n",
            "s.avg.evals : 1695.7\n",
            "s.avg.gens : 15.2\n",
            "avg.evals : 6806.8\n",
            "avg.min : -1.0\n",
            "avg.time : 0.522004699707\n",
            "\n",
            "----------------------------\n",
            "Searching CXPB in [ 0.421875, 0.846875 ] Interval ...\n",
            "Searching MUTPB in [ 0.103125, 0.528125 ] Interval ...\n",
            "\n",
            "\n",
            "Best CXPB : 0.7406250000000001, Best MUTPB : 0.20937499999999998\n",
            "\n",
            "\n",
            "Successes : 10\n",
            "s.avg.min : -0.9996833147970516\n",
            "s.avg.evals : 1620.5\n",
            "s.avg.gens : 14.5\n",
            "avg.evals : 6798.7\n",
            "avg.min : -1.0\n",
            "avg.time : 0.512982368469\n",
            "\n",
            "----------------------------\n",
            "Searching CXPB in [ 0.39531250000000007, 0.8203125 ] Interval ...\n",
            "Searching MUTPB in [ 0.12968749999999998, 0.5546875 ] Interval ...\n",
            "\n",
            "\n",
            "Best CXPB : 0.7140625, Best MUTPB : 0.2359375\n",
            "\n",
            "\n",
            "Successes : 10\n",
            "s.avg.min : -0.9997237148786826\n",
            "s.avg.evals : 1656.7\n",
            "s.avg.gens : 14.8\n",
            "avg.evals : 6807.3\n",
            "avg.min : -1.0\n",
            "avg.time : 0.508042001724\n",
            "\n",
            "----------------------------\n"
          ],
          "name": "stdout"
        }
      ]
    },
    {
      "metadata": {
        "id": "v4G9UvMmOeee",
        "colab_type": "text"
      },
      "cell_type": "markdown",
      "source": [
        "#### Εύρεση βέλτιστης (ελάχιστης) τιμής της συνάρτησης με τον ΓΑ"
      ]
    },
    {
      "metadata": {
        "id": "imsI3_7iOhY6",
        "colab_type": "code",
        "outputId": "be577c4b-2dae-48f6-e198-0b953368981a",
        "colab": {
          "base_uri": "https://localhost:8080/",
          "height": 68
        }
      },
      "cell_type": "code",
      "source": [
        "POPSIZE = 200\n",
        "MAX_GENS = 150\n",
        "\n",
        "goal = -1\n",
        "delta = 0.0005\n",
        "target = goal + delta\n",
        "\n",
        "\n",
        "fun_obj = []\n",
        "fun_obj.append(evalXinSheFun) \n",
        "fun_obj.append([-10,10]) \n",
        "fun_obj.append(2)\n",
        "fun_obj.append(feasibleXinSheFun) \n",
        "fun_obj.append(distanceXinSheFun) \n",
        "fun_obj.append(10) \n",
        "fun_obj.append(target)\n",
        "\n",
        "\n",
        "CXPB = 0.75\n",
        "MUTPB = 0.2\n",
        "\n",
        "best_value, _, evaluations, _, _, _, total_time  = metrics_of_a_combination(fun_obj, 1, 1, 0.15, 0.06, 4, 1, POPSIZE, MAX_GENS, CXPB, MUTPB)\n",
        "\n",
        "print 'Bέλτιστη τιμή: ' + str(best_value)\n",
        "print 'Συνολικός αριθμός αποτιμήσεων: ' + str(evaluations)\n",
        "print 'Χρόνος εκτέλεσης: ' + str(total_time) + ' secs'"
      ],
      "execution_count": 0,
      "outputs": [
        {
          "output_type": "stream",
          "text": [
            "Bέλτιστη τιμή: -1.0\n",
            "Συνολικός αριθμός αποτιμήσεων: 42711\n",
            "Χρόνος εκτέλεσης: 3.2449491024 secs\n"
          ],
          "name": "stdout"
        }
      ]
    },
    {
      "metadata": {
        "id": "s78xH8V2SF4x",
        "colab_type": "text"
      },
      "cell_type": "markdown",
      "source": [
        "\n",
        "### Για D=1, 10, 20, 40 και μεγαλύτερες διαστάσεις\n",
        "\n",
        "Για τον βέλτιστο αλγόριθμο (που βρήκατε για τις 2 διαστάσεις) και για διαφορετικές τιμές/τάξεις μεγέθους D=1, 10, 20, 40 ή και περισσότερων διαστάσεων του πεδίου ορισμού (σταθερά MAX_GENS και MAX_ROUNDS>=10) τυπώστε πίνακα με: **αριθμό διαστάσεων**, **αριθμό επιτυχιών**, **μέσο ολικό ελάχιστο**, **μέσο αριθμό αποτιμήσεων** και **μέσο χρόνο** (προφανώς βασιστείτε στην αρχική βοηθητική συνάρτηση εκτύπωσης αποτελεσμάτων). \n",
        "\n",
        "Σημειώστε ότι οποιεσδήποτε ποινές για άτομα εκτός ορισμού καθώς και τo DELTA, προκειμένου να είναι αποτελεσματικά ως προς την κλιμάκωση των διαστάσεων, θα πρέπει να οριστούν εμπειρικά μεν, αλλά οπωσδήποτε συναρτήσει του πλήθους των διαστάσεων (μεγαλύτερες ποινές για μεγαλύτερες διαστάσεις, για το DELTA έχουν δοθεί οδηγίες σε προηγούμενο section).\n",
        "\n",
        "α) Σχολιάστε τα αποτελέσματα του πίνακα.\n",
        "\n",
        "β) Ποιες πιστεύετε είναι οι αιτίες του φαινομένου;\n",
        "\n",
        "γ) Για σταθερό αριθμό γενεών, πώς μπορούμε να βελτιώσουμε τα αποτελέσματα σε μεγάλες διαστάσεις ως προς το σκέλος της μέσης βέλτιστης τιμής; (Mπορεί να υπάρχουν περισσότερες προσεγγίσεις στο ίδιο πρόβλημα.)\n",
        "\n",
        "**Σημείωση:** όπως συνήθως συμβαίνει στα υπολογιστικά προβλήματα, μεγαλύτερες διαστάσεις εισόδου σημαίνουν και μεγαλύτερους χρόνους εκτέλεσης. Ταυτόχρονα, οι προς μελέτη συναρτήσεις όλων των ομάδων έχουν διαφορετικές ιδιότητες και βαθμούς δυσκολίας. Συνεπώς, είναι αδύνατον να δώσουμε γενική οδηγία του τί είναι μεγάλες ή μεγαλύτερες διαστάσεις που να ισχύει για όλες τις συναρτήσεις. Δίνουμε κάποιες ενδεικτικές τιμές αλλά μπορείτε να τις προσαρμόσετε (και προς τα κάτω αλλά κυρίως προς τα πάνω) ανάλογα με τους διαθέσιμους πόρους, τον αριθμό επαναλήψεων και του τί θεωρείτε λογικά πλαίσια χρόνου αναμονής."
      ]
    },
    {
      "metadata": {
        "id": "HAjbeqkKSDWN",
        "colab_type": "code",
        "colab": {}
      },
      "cell_type": "code",
      "source": [
        "POPSIZE = 100\n",
        "MAX_GENS = 12\n",
        "\n",
        "goal = -1\n",
        "delta = 0.005\n",
        "target = goal + delta\n",
        "\n",
        "\n",
        "fun_obj = []\n",
        "fun_obj.append(evalXinSheFun) \n",
        "fun_obj.append([-10,10]) \n",
        "fun_obj.append(2)\n",
        "fun_obj.append(feasibleXinSheFun) \n",
        "fun_obj.append(distanceXinSheFun) \n",
        "fun_obj.append(10) \n",
        "fun_obj.append(target)\n",
        "\n",
        "CXPB = 0.75\n",
        "MUTPB = 0.2\n",
        "\n",
        "\n",
        "\n",
        "MAX_ROUNDS = 20\n",
        "\n",
        "\n",
        "def metrics_of_dimensions(dimensions):\n",
        "\n",
        "\n",
        " \n",
        "  num_of_successes = [0.0]*len(dimensions)\n",
        "  avg_min_val = [0.0]*len(dimensions)\n",
        "  avg_evals = [0.0]*len(dimensions)\n",
        "  avg_time = [0.0]*len(dimensions)\n",
        "\n",
        "\n",
        "\n",
        "  j = 0\n",
        "  for dimension in dimensions:\n",
        "\n",
        "    fun_obj[2] = dimension\n",
        "    fun_obj[5] = 10*dimension # delta penalty  \n",
        "\n",
        "    print 'Dimensions : ' + str(dimension)\n",
        "\n",
        "    for r in range(0,MAX_ROUNDS,1):\n",
        "\n",
        "      min_val, success, evaluations, _, _, _, total_time  = metrics_of_a_combination(fun_obj, 1, 1, 0.15, 0.06, 4, 1, POPSIZE, MAX_GENS, CXPB, MUTPB)\n",
        "\n",
        "      num_of_successes[j] += success\n",
        "      avg_min_val[j] += min_val\n",
        "      avg_evals[j] += evaluations\n",
        "      avg_time[j] += total_time\n",
        "    \n",
        "    num_of_successes[j] = num_of_successes[j]/MAX_ROUNDS\n",
        "    avg_min_val[j] = avg_min_val[j]/MAX_ROUNDS\n",
        "    avg_evals[j] = avg_evals[j]/MAX_ROUNDS\n",
        "    avg_time[j] = avg_time[j]/MAX_ROUNDS\n",
        "    j += 1\n",
        "\n",
        "\n",
        "  data = {'Dimensions': dimensions, 'Successes %' : num_of_successes, 'avg.min': avg_min_val, 'avg.evals':avg_evals, 'avg.time': avg_time}\n",
        "\n",
        "  df = pd.DataFrame(data)\n",
        "  columnsTitles = ['Dimensions', 'Successes %', 'avg.min' , 'avg.evals', 'avg.time']\n",
        "  df = df.reindex(columns=columnsTitles)\n",
        "  final_df = df.sort_values(by=['Dimensions'])\n",
        "  print(tabulate(final_df, headers='keys', tablefmt='psql', showindex=\"never\"))\n",
        "    \n",
        "    \n",
        "    \n",
        "  \n",
        "  \n",
        "  \n",
        "  "
      ],
      "execution_count": 0,
      "outputs": []
    },
    {
      "metadata": {
        "id": "j7ImD12qhylG",
        "colab_type": "code",
        "outputId": "c54033ef-f175-4e6b-bfb3-083afccc8f27",
        "colab": {
          "base_uri": "https://localhost:8080/",
          "height": 221
        }
      },
      "cell_type": "code",
      "source": [
        "dimensions = [2,10,20,40] # Δεν μπορώ να έχω dimension 1 γιατί χρησιμοποιώ το mutShuffleIndexes που χρειάζεται τουλάχιστον δυο μεταβλητές\n",
        "\n",
        "metrics_of_dimensions(dimensions)\n"
      ],
      "execution_count": 0,
      "outputs": [
        {
          "output_type": "stream",
          "text": [
            "Dimensions : 2\n",
            "Dimensions : 10\n",
            "Dimensions : 20\n",
            "Dimensions : 40\n",
            "+--------------+---------------+--------------+-------------+------------+\n",
            "|   Dimensions |   Successes % |      avg.min |   avg.evals |   avg.time |\n",
            "|--------------+---------------+--------------+-------------+------------|\n",
            "|            2 |           0.9 | -0.996803    |     1663.75 |   0.127808 |\n",
            "|           10 |           0   |  6.96038e-05 |     1669.15 |   0.192867 |\n",
            "|           20 |           0   |  3.36686e-08 |     1667.75 |   0.286174 |\n",
            "|           40 |           0   |  2.79329e-15 |     1666.95 |   0.424231 |\n",
            "+--------------+---------------+--------------+-------------+------------+\n"
          ],
          "name": "stdout"
        }
      ]
    },
    {
      "metadata": {
        "id": "d2g_sKw3tFMd",
        "colab_type": "text"
      },
      "cell_type": "markdown",
      "source": [
        "Παρατηρούμε ότι μετά τις δύο διαστάσεις ο αλγόριθμος δεν βρίσκει ούτε μια φορά το **ολικό ελάχιστο -1**, αντ΄αυτού συγκλίνει στα **τοπικά ελάχιστα** της συνάρτησης που είναι το **μηδέν**. Αυτές αποτελούν τις αιτίες του φαινομένου καθώς ο αλγόριθμος θεωρεί ότι αποτελούν καλές λύσεις για να συνεχίσει στην αναζήτηση του ολικού ελαχίστου με αποτέλεσμα να κάνει κύκλους.\n",
        "\n",
        "Μελετώντας το **benchmarking** της συνάρτησης **XinSheYang04** (http://infinity77.net/global_optimization/test_functions.html) βλέπουμε ότι για **N = 2** και **random points (population) = 100 ** το **Overall Success % = 26.33 ** που εκδηλώνει ένα μεγάλο **hardness** και άρα για τα επόμενα ερωτήματα που ακολουθούν θα χρησιμοποιηθούν \"μικρές\" διαστάσεις."
      ]
    },
    {
      "metadata": {
        "id": "mJR1KQ286a_M",
        "colab_type": "text"
      },
      "cell_type": "markdown",
      "source": [
        "Για σταθερό αριθμό γενεών, πειραματιστήκαμε με τα CXPB, MUTPB και τις υπερπαραμέτρους αλλά καταλήξαμε στο ότι ο μόνος τρόπος με τον οποίο μπορούμε να βελτιώσουμε τα αποτελέσματα σε μεγάλες διαστάσεις ως προς το σκέλος της μέσης βέλτιστης τιμής είναι να αυξήσουμε το population με αποτέλεσμα να δώσουμε στον αλγόριθμο περισσότερα σημεία στο χώρο."
      ]
    },
    {
      "metadata": {
        "id": "FUY9TqR4bVwS",
        "colab_type": "code",
        "colab": {}
      },
      "cell_type": "code",
      "source": [
        "POPSIZE = 1000\n",
        "MAX_GENS = 30\n",
        "\n",
        "goal = -1\n",
        "delta = 0.05\n",
        "target = goal + delta\n",
        "\n",
        "\n",
        "fun_obj = []\n",
        "fun_obj.append(evalXinSheFun) \n",
        "fun_obj.append([-10,10]) \n",
        "fun_obj.append(2)\n",
        "fun_obj.append(feasibleXinSheFun) \n",
        "fun_obj.append(distanceXinSheFun) \n",
        "fun_obj.append(10) \n",
        "fun_obj.append(target)\n",
        "\n",
        "CXPB = 0.2\n",
        "MUTPB = 0.8\n",
        "\n",
        "MAX_ROUNDS = 10"
      ],
      "execution_count": 0,
      "outputs": []
    },
    {
      "metadata": {
        "id": "0MkybZI5bofR",
        "colab_type": "code",
        "outputId": "391344ab-3fdd-4db8-9f88-fd1527bed449",
        "colab": {
          "base_uri": "https://localhost:8080/",
          "height": 289
        }
      },
      "cell_type": "code",
      "source": [
        "dimensions = [2,3,4,5,6,7] # Δεν μπορώ να έχω dimension 1 γιατί χρησιμοποιώ το mutShuffleIndexes που χρειάζεται τουλάχιστον δυο μεταβλητές\n",
        "\n",
        "metrics_of_dimensions(dimensions)"
      ],
      "execution_count": 0,
      "outputs": [
        {
          "output_type": "stream",
          "text": [
            "Dimensions : 2\n",
            "Dimensions : 3\n",
            "Dimensions : 4\n",
            "Dimensions : 5\n",
            "Dimensions : 6\n",
            "Dimensions : 7\n",
            "+--------------+---------------+--------------+-------------+------------+\n",
            "|   Dimensions |   Successes % |      avg.min |   avg.evals |   avg.time |\n",
            "|--------------+---------------+--------------+-------------+------------|\n",
            "|            2 |           1   | -1           |       44500 |    2.78481 |\n",
            "|            3 |           1   | -0.99996     |       44500 |    3.02547 |\n",
            "|            4 |           0.1 | -0.0996254   |       44500 |    3.13733 |\n",
            "|            5 |           0   | -0.0518411   |       44500 |    3.22053 |\n",
            "|            6 |           0   |  9.3048e-06  |       44500 |    3.52238 |\n",
            "|            7 |           0   |  6.91683e-06 |       44500 |    3.67405 |\n",
            "+--------------+---------------+--------------+-------------+------------+\n"
          ],
          "name": "stdout"
        }
      ]
    },
    {
      "metadata": {
        "id": "D0W4sme2dzRB",
        "colab_type": "text"
      },
      "cell_type": "markdown",
      "source": [
        "### Βελτιστοποίηση σε μεγάλες διαστάσεις"
      ]
    },
    {
      "metadata": {
        "id": "5LKG_mqEd2n6",
        "colab_type": "text"
      },
      "cell_type": "markdown",
      "source": [
        "Επιλέγουμε ως διάσταση εισόδου την 3 και θα δείξουμε τη μεταβολή που έχει στις καλύτερες τιμές με διαφορετικό population size"
      ]
    },
    {
      "metadata": {
        "id": "RPUqNQpRd0Qe",
        "colab_type": "code",
        "outputId": "3fb5dcbe-bbdb-4e12-f27e-4db29d4cff8a",
        "colab": {
          "base_uri": "https://localhost:8080/",
          "height": 1088
        }
      },
      "cell_type": "code",
      "source": [
        "for POPSIZE in range(100,1000,100):\n",
        "  \n",
        "  print 'POPULATION SIZE: ' + str(POPSIZE)\n",
        "  metrics_of_dimensions([3])"
      ],
      "execution_count": 0,
      "outputs": [
        {
          "output_type": "stream",
          "text": [
            "POPULATION SIZE: 100\n",
            "Dimensions : 3\n",
            "+--------------+---------------+-----------+-------------+------------+\n",
            "|   Dimensions |   Successes % |   avg.min |   avg.evals |   avg.time |\n",
            "|--------------+---------------+-----------+-------------+------------|\n",
            "|            3 |           0.2 | -0.198591 |        4450 |   0.262876 |\n",
            "+--------------+---------------+-----------+-------------+------------+\n",
            "POPULATION SIZE: 200\n",
            "Dimensions : 3\n",
            "+--------------+---------------+-----------+-------------+------------+\n",
            "|   Dimensions |   Successes % |   avg.min |   avg.evals |   avg.time |\n",
            "|--------------+---------------+-----------+-------------+------------|\n",
            "|            3 |           0.3 | -0.484796 |        8900 |   0.523729 |\n",
            "+--------------+---------------+-----------+-------------+------------+\n",
            "POPULATION SIZE: 300\n",
            "Dimensions : 3\n",
            "+--------------+---------------+-----------+-------------+------------+\n",
            "|   Dimensions |   Successes % |   avg.min |   avg.evals |   avg.time |\n",
            "|--------------+---------------+-----------+-------------+------------|\n",
            "|            3 |           0.5 | -0.499799 |       13350 |   0.814872 |\n",
            "+--------------+---------------+-----------+-------------+------------+\n",
            "POPULATION SIZE: 400\n",
            "Dimensions : 3\n",
            "+--------------+---------------+-----------+-------------+------------+\n",
            "|   Dimensions |   Successes % |   avg.min |   avg.evals |   avg.time |\n",
            "|--------------+---------------+-----------+-------------+------------|\n",
            "|            3 |           0.4 | -0.435059 |       17800 |    1.14628 |\n",
            "+--------------+---------------+-----------+-------------+------------+\n",
            "POPULATION SIZE: 500\n",
            "Dimensions : 3\n",
            "+--------------+---------------+-----------+-------------+------------+\n",
            "|   Dimensions |   Successes % |   avg.min |   avg.evals |   avg.time |\n",
            "|--------------+---------------+-----------+-------------+------------|\n",
            "|            3 |           0.8 |  -0.85001 |       22250 |    1.38917 |\n",
            "+--------------+---------------+-----------+-------------+------------+\n",
            "POPULATION SIZE: 600\n",
            "Dimensions : 3\n",
            "+--------------+---------------+-----------+-------------+------------+\n",
            "|   Dimensions |   Successes % |   avg.min |   avg.evals |   avg.time |\n",
            "|--------------+---------------+-----------+-------------+------------|\n",
            "|            3 |           0.6 | -0.666591 |       26700 |    1.74876 |\n",
            "+--------------+---------------+-----------+-------------+------------+\n",
            "POPULATION SIZE: 700\n",
            "Dimensions : 3\n",
            "+--------------+---------------+-----------+-------------+------------+\n",
            "|   Dimensions |   Successes % |   avg.min |   avg.evals |   avg.time |\n",
            "|--------------+---------------+-----------+-------------+------------|\n",
            "|            3 |           0.5 | -0.597798 |       31150 |    2.05269 |\n",
            "+--------------+---------------+-----------+-------------+------------+\n",
            "POPULATION SIZE: 800\n",
            "Dimensions : 3\n",
            "+--------------+---------------+-----------+-------------+------------+\n",
            "|   Dimensions |   Successes % |   avg.min |   avg.evals |   avg.time |\n",
            "|--------------+---------------+-----------+-------------+------------|\n",
            "|            3 |           0.9 | -0.899943 |       35600 |    2.39128 |\n",
            "+--------------+---------------+-----------+-------------+------------+\n",
            "POPULATION SIZE: 900\n",
            "Dimensions : 3\n",
            "+--------------+---------------+-----------+-------------+------------+\n",
            "|   Dimensions |   Successes % |   avg.min |   avg.evals |   avg.time |\n",
            "|--------------+---------------+-----------+-------------+------------|\n",
            "|            3 |           0.8 | -0.799676 |       40050 |    2.71392 |\n",
            "+--------------+---------------+-----------+-------------+------------+\n"
          ],
          "name": "stdout"
        }
      ]
    },
    {
      "metadata": {
        "id": "Mn6HZEC7f4io",
        "colab_type": "text"
      },
      "cell_type": "markdown",
      "source": [
        "2. Βρείτε μια νέα -σταθερή- διάσταση, πιθανότατα μικρότερη από την προηγούμενη και ένα DELTA που να σας δίνουν 35% - 50% επιτυχίες. Μπορείτε να μειώσετε το DELTA στο μισό και να διπλασιάσετε το ποσοστό των επιτυχιών; Μπορείτε να ξαναμειώσετε στο μισό το DELTA και να αυξήσετε επιπρόσθετα το ποσοστό των επιτυχιών; Αν όχι, κατα πόσο κατ'ελάχιστον πρέπει να αυξήσετε τον αριθμό των γενεών για να πετύχετε σημαντική αύξηση των επιτυχιών;\n",
        "\n",
        "Επιλέγουμε την τρίτη διάσταση με POPSIZE = 300 και delta = 0.0005"
      ]
    },
    {
      "metadata": {
        "id": "l6Gyemabh71_",
        "colab_type": "code",
        "outputId": "bdc850cd-7c34-4fcf-c654-f438130afe79",
        "colab": {
          "base_uri": "https://localhost:8080/",
          "height": 119
        }
      },
      "cell_type": "code",
      "source": [
        "delta = 0.0005\n",
        "POPSIZE = 300\n",
        "MAX_GENS = 30\n",
        "MAX_ROUNDS = 50 # Χρειάστηκε να αυξήσουμε τα MAX ROUNDS για να μην παίζουν τα αποτελέσματα σε κάθε εκτέλεση του block\n",
        "\n",
        "metrics_of_dimensions([3])"
      ],
      "execution_count": 0,
      "outputs": [
        {
          "output_type": "stream",
          "text": [
            "Dimensions : 3\n",
            "+--------------+---------------+-----------+-------------+------------+\n",
            "|   Dimensions |   Successes % |   avg.min |   avg.evals |   avg.time |\n",
            "|--------------+---------------+-----------+-------------+------------|\n",
            "|            3 |          0.46 | -0.499179 |       13350 |   0.842304 |\n",
            "+--------------+---------------+-----------+-------------+------------+\n"
          ],
          "name": "stdout"
        }
      ]
    },
    {
      "metadata": {
        "id": "scqq4yLJlThS",
        "colab_type": "text"
      },
      "cell_type": "markdown",
      "source": [
        "Μειώνουμε το delta στο μισό"
      ]
    },
    {
      "metadata": {
        "id": "MjhZJdQ9gTPS",
        "colab_type": "code",
        "outputId": "ae836c18-35f4-4022-8eef-45b5dc248d3e",
        "colab": {
          "base_uri": "https://localhost:8080/",
          "height": 119
        }
      },
      "cell_type": "code",
      "source": [
        "delta = delta/2.0\n",
        "\n",
        "metrics_of_dimensions([3])"
      ],
      "execution_count": 0,
      "outputs": [
        {
          "output_type": "stream",
          "text": [
            "Dimensions : 3\n",
            "+--------------+---------------+-----------+-------------+------------+\n",
            "|   Dimensions |   Successes % |   avg.min |   avg.evals |   avg.time |\n",
            "|--------------+---------------+-----------+-------------+------------|\n",
            "|            3 |          0.42 | -0.466059 |       13350 |   0.834015 |\n",
            "+--------------+---------------+-----------+-------------+------------+\n"
          ],
          "name": "stdout"
        }
      ]
    },
    {
      "metadata": {
        "id": "jEkjLD-0hjCN",
        "colab_type": "text"
      },
      "cell_type": "markdown",
      "source": [
        "Αυξάνοντας σταδιακά στο παρακάτω block τα MAX_GENS το μέγιστο ποσοστό επιτυχιών που καταφέραμε ήταν 0.6 το οποίο στη συνέχεια παρέμενε ίδιο για MAX_GENS > 400"
      ]
    },
    {
      "metadata": {
        "id": "MMAOyLm2hid8",
        "colab_type": "code",
        "outputId": "31d7fa2d-2402-4778-a7a4-dcae0598d430",
        "colab": {
          "base_uri": "https://localhost:8080/",
          "height": 119
        }
      },
      "cell_type": "code",
      "source": [
        "MAX_GENS = 400\n",
        "metrics_of_dimensions([3])"
      ],
      "execution_count": 0,
      "outputs": [
        {
          "output_type": "stream",
          "text": [
            "Dimensions : 3\n",
            "+--------------+---------------+-----------+-------------+------------+\n",
            "|   Dimensions |   Successes % |   avg.min |   avg.evals |   avg.time |\n",
            "|--------------+---------------+-----------+-------------+------------|\n",
            "|            3 |           0.6 |  -0.61284 |      269850 |    16.6222 |\n",
            "+--------------+---------------+-----------+-------------+------------+\n"
          ],
          "name": "stdout"
        }
      ]
    }
  ]
}