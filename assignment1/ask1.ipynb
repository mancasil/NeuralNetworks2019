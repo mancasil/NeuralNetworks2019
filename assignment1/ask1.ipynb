{
  "nbformat": 4,
  "nbformat_minor": 0,
  "metadata": {
    "colab": {
      "name": "ask1.ipynb",
      "provenance": [],
      "collapsed_sections": []
    },
    "kernelspec": {
      "name": "python3",
      "display_name": "Python 3"
    }
  },
  "cells": [
    {
      "cell_type": "markdown",
      "metadata": {
        "id": "d1zkEBLVBJ6g",
        "colab_type": "text"
      },
      "source": [
        "#Α. Στοιχεία Ομάδας\n",
        "\n",
        "###Ομάδα Β51\n",
        "\n",
        "###Μάνκα Σύλβια Δήμητρα - 03113043\n",
        "\n",
        "###Μιάμης Χρήστος - 03113045"
      ]
    },
    {
      "cell_type": "markdown",
      "metadata": {
        "id": "kJKlVRTpCXQ-",
        "colab_type": "text"
      },
      "source": [
        "#Β. Εισαγωγή του dataset\n",
        "\n",
        "###Περιγραφή του dataset\n",
        "\n",
        "Το παρόν dataset έχει προκύψει από δεδομένα του Landsat Multi-Spectral-Scanner. Τα δεδομένα αυτά είναι δορυφορικές εικόνες οι οποίες έχουν τραβηχτεί σε 4 διαφορετικές φασματικές ζώνες.\n",
        "\n",
        "Έτσι το κάθε pixel της αρχικής εικόνας διαθέτει 4 τιμές χρώματος, μία σε κάθε φασματική ζώνη. Οι τιμές αυτές στο dataset μας έχουν μετατραπεί από 8-bit δυαδικές τιμές σε δεκαδικές, 0 αντιστοιχεί στο μαύρο και 255 στο λευκό.\n",
        "\n",
        "Το dataset που διαθέτουμε είναι ένα πολύ μικρό κομμάτι τέτοιων σκηνών, που αποτελείται από 82 x 100 pixels. Κάθε γραμμή του dataset αναφέρεται σε μία γειτονιά 3x3 pixels. Για το κάθε pixel δίνονται οι 4 διαφορετικοί χρωματικοί κωδικοί που αντιπροσωπεύουν την κάθε ζώνη φάσματος. Έτσι η γραμμή αποτελείται συνολικά απο 9x4=36 στοιχεία και ένα επιπλέον που αντιστοιχεί σε μία ετικέτα για να κατηγοριοποιήσουμε το κεντρικό pixel της γειτονιάς. Πιο συγκεκριμένα έχουμε τις εξής ετικέτες για το classification:\n",
        "\n",
        "| Αριθμός | Κλάση  |\n",
        "|-----|-------|\n",
        "| 1   | κόκκινο έδαφος  |\n",
        "| 2   | βαμβακοκαλλιέργεια  | \n",
        "| 3   | γκρι έδαφος  |\n",
        "| 4  | βρεγμένο γκρι έδαφος  |\n",
        "| 5   | έδαφος που έχει καλλιεργηθεί με λαχανικά|\n",
        "| 6   | ένας συνδυασμός όλων των κλάσεων|\n",
        "| 7  | πολύ βρεγμένο γκρι έδαφος  |\n",
        "\n",
        "\n",
        "\n",
        "  \n",
        " Στο dataset μας δεν εμφανίζεται πουθενά η κλάση 6 συνεπώς έχουμε συνολικά να αποφασίσουμε μεταξύ έξι κλάσεων.\n",
        " \n",
        " \n",
        "To dataset είναι χωρισμένο σε train(4435 δείγματα) και test data(2000 δείγματα). Το κάθε δείγμα αποτελείται από 36 αριθμητικά χαρακτηριστικά, και επιπλέον μία στήλη για την κατηγοριοποίηση. \n",
        "Δεν έχουμε μη διατεταγμένα χαρακτηριστικά, ούτε ετικέτες για τα ονόματα των χαρακτηριστικών. Επίσης δεν λείπουν τιμές"
      ]
    },
    {
      "cell_type": "markdown",
      "metadata": {
        "id": "OJhU9BCWgGkN",
        "colab_type": "text"
      },
      "source": [
        "###Εισαγωγή μέσω Pandas και CSV file\n",
        "\n",
        "Για την εισαγωγή του dataset χρησιμοποιήσαμε την συνάρτηση read_csv. Της δώσαμε σαν όρισμα το url για το train και test data και τα αποθηκεύσαμε σε δύο διαφορετικά  pandas. Επειδή τα dataset μας δεν ήταν διαχωρισμένα με comma όπως προβλέπεται από το csv δώσαμε όρισμα στην συνάρτηση read_csv sep=' ' ώστε να πραγματοποιεί τον διαχωρισμό των στοιχείων βάση των κενών."
      ]
    },
    {
      "cell_type": "code",
      "metadata": {
        "id": "BBZJT-5Del7O",
        "colab_type": "code",
        "outputId": "185b71d6-00b8-4b1d-dda4-45def88bf70b",
        "colab": {
          "base_uri": "https://localhost:8080/",
          "height": 194
        }
      },
      "source": [
        "!pip install --upgrade pip #upgrade pip package installer\n",
        "!pip install scikit-learn --upgrade #upgrade scikit-learn package\n",
        "!pip install numpy --upgrade #upgrade numpy package\n",
        "!pip install pandas --upgrade #upgrade pandas package"
      ],
      "execution_count": 0,
      "outputs": [
        {
          "output_type": "stream",
          "text": [
            "Requirement already up-to-date: pip in /usr/local/lib/python3.6/dist-packages (18.1)\n",
            "Requirement already up-to-date: scikit-learn in /usr/local/lib/python3.6/dist-packages (0.20.1)\n",
            "Requirement already satisfied, skipping upgrade: numpy>=1.8.2 in /usr/local/lib/python3.6/dist-packages (from scikit-learn) (1.15.4)\n",
            "Requirement already satisfied, skipping upgrade: scipy>=0.13.3 in /usr/local/lib/python3.6/dist-packages (from scikit-learn) (1.1.0)\n",
            "Requirement already up-to-date: numpy in /usr/local/lib/python3.6/dist-packages (1.15.4)\n",
            "Requirement already up-to-date: pandas in /usr/local/lib/python3.6/dist-packages (0.23.4)\n",
            "Requirement already satisfied, skipping upgrade: numpy>=1.9.0 in /usr/local/lib/python3.6/dist-packages (from pandas) (1.15.4)\n",
            "Requirement already satisfied, skipping upgrade: pytz>=2011k in /usr/local/lib/python3.6/dist-packages (from pandas) (2018.7)\n",
            "Requirement already satisfied, skipping upgrade: python-dateutil>=2.5.0 in /usr/local/lib/python3.6/dist-packages (from pandas) (2.5.3)\n",
            "Requirement already satisfied, skipping upgrade: six>=1.5 in /usr/local/lib/python3.6/dist-packages (from python-dateutil>=2.5.0->pandas) (1.11.0)\n"
          ],
          "name": "stdout"
        }
      ]
    },
    {
      "cell_type": "code",
      "metadata": {
        "id": "NKZa_zzyMV5O",
        "colab_type": "code",
        "colab": {}
      },
      "source": [
        "import warnings\n",
        "warnings.filterwarnings(\"ignore\")"
      ],
      "execution_count": 0,
      "outputs": []
    },
    {
      "cell_type": "code",
      "metadata": {
        "id": "EN0nS6CwekE-",
        "colab_type": "code",
        "outputId": "3b679338-504d-4d00-e2b1-1ec00c7c04e7",
        "colab": {
          "base_uri": "https://localhost:8080/",
          "height": 52
        }
      },
      "source": [
        "import pandas as pd\n",
        "trainData = pd.read_csv(\"http://archive.ics.uci.edu/ml/machine-learning-databases/statlog/satimage/sat.trn\",header=None, sep=' ')\n",
        "testData= pd.read_csv(\"http://archive.ics.uci.edu/ml/machine-learning-databases/statlog/satimage/sat.tst\",header=None, sep=' ')\n",
        "print(trainData.shape)\n",
        "print(testData.shape)\n"
      ],
      "execution_count": 0,
      "outputs": [
        {
          "output_type": "stream",
          "text": [
            "(4435, 37)\n",
            "(2000, 37)\n"
          ],
          "name": "stdout"
        }
      ]
    },
    {
      "cell_type": "markdown",
      "metadata": {
        "id": "xFzjFKVlla7P",
        "colab_type": "text"
      },
      "source": [
        "###Μετατροπή dataset σε συμβατό με scikit-learn\n",
        "\n",
        "Στο dataset μας έχουμε χωριστά το train και test set. Συνεπώς απαραίτητο είναι να τα ενώσουμε ώστε να κάνουμε τον χωρισμό 70%-30% που είναι το ζητούμενο.\n",
        "\n",
        "Επιπλέον είναι απαραίτητο να διαχωρίσουμε τα labels από τα features. \n",
        "\n",
        "Προτού δημιουργήσουμε τον πίνακα labels από την τελευταία στήλη του train και test dataset θα μετασχηματίσουμε τις ετικέτες ώστε το scikit να καταλαβαίνει την αναπαράσταση που χρησιμοποιούμε. \n",
        "\n",
        "Επιλέγουμε την αραιή αναπαράσταση κατά την οποία ο πίνακας των ετικετών έχει σχήμα (n samples, ετικέτα κλάσης). Στην αναπαράσταση αυτή ένα δείγμα της κλάσης 3 θα έχει ετικέτα '2'. Στο σημείο αυτό επίσης αφαιρούμε την κλάση 6 καθώς γνωρίζουμε από την περιγραφή του dataset ότι δεν εμφανίζεται πουθενά.\n",
        "\n",
        "Χρησιμοποιούμε το mapping:\n",
        "\n",
        "\n",
        "```\n",
        "mapping={'1':0,'2':1,'3':2,'4':3,'5':4,'7':5}\n",
        "```\n",
        "\n"
      ]
    },
    {
      "cell_type": "code",
      "metadata": {
        "id": "svaVhBH0l6T7",
        "colab_type": "code",
        "outputId": "6e72f697-11bf-44ba-cea9-93bf6201346b",
        "colab": {
          "base_uri": "https://localhost:8080/",
          "height": 52
        }
      },
      "source": [
        "import numpy as np\n",
        "\n",
        "\n",
        "\n",
        "#παίρνουμε τις πρώτες 35 στήλες που αντιστοιχούν στα features από τα δοσμένα trainData και testData\n",
        "features1=trainData.iloc[:,:36].values\n",
        "features2=testData.iloc[:,:36].values\n",
        "\n",
        "#δοκιμάσαμε να χρησιμοποιήσουμε μόνο τις στήλες 17-20 που αντιστοιχούν στο κεντρικό pixel για το οποίο γίνεται το classification\n",
        "#features1=trainData.iloc[:,17:21].values\n",
        "#features2=testData.iloc[:,17:21].values\n",
        "\n",
        "print(features1.shape)\n",
        "\n",
        "#παίρνουμε την τελευταία στήλη που αντιστοιχεί στην κλάση \n",
        "df_labels1=trainData.iloc[:,[36]]\n",
        "\n",
        "mapping = {1: 0, 2:1, 3:2, 4:3, 5:4, 7:5}\n",
        "\n",
        "labels1=trainData.iloc[:,[36]].replace(mapping).values\n",
        "labels2=testData.iloc[:,[36]].replace(mapping).values\n",
        "\n",
        "\n",
        "#με την μέθοδο concatenate ενώνουμε τα έτοιμα train και test sets τόσο στα features όσο και στα lebels\n",
        "#η επιλογή axis=0 ενώνει τους πίνακες διατηρώντας το μέγεθος των στηλών σταθερό ενώ για axis=None τις ενώνει σε μία ενιαία γραμμή\n",
        "features=np.concatenate((features1,features2),axis=0)\n",
        "labels=np.concatenate((labels1,labels2),axis=None)\n",
        "\n",
        "print((labels))\n",
        "##print((features))\n",
        "\n",
        "\n"
      ],
      "execution_count": 0,
      "outputs": [
        {
          "output_type": "stream",
          "text": [
            "(4435, 36)\n",
            "[2 2 2 ... 4 4 4]\n"
          ],
          "name": "stdout"
        }
      ]
    },
    {
      "cell_type": "markdown",
      "metadata": {
        "id": "VXWvsj5AYg3q",
        "colab_type": "text"
      },
      "source": [
        "###Υπολογισμός ποσοστών εμφάνισης των κλάσεων\n",
        "\n",
        "Υπολογίζουμε τις συχνότητες εμφάνισης της κάθε κλάσης με την συνάρτηση bincount και στην συνέχεια υπολογίζουμε το ποσοστό."
      ]
    },
    {
      "cell_type": "code",
      "metadata": {
        "id": "rNuzW2sWQgR8",
        "colab_type": "code",
        "outputId": "834b28de-4ecc-45ef-8113-d4b2efede35c",
        "colab": {
          "base_uri": "https://localhost:8080/",
          "height": 52
        }
      },
      "source": [
        "freq=np.bincount(labels)\n",
        "print(\"frequencies:\", np.bincount(labels))\n",
        "\n",
        "percentage=np.zeros((6,))\n",
        "#υπολογισμός ποσοστού από τις συχνότητες\n",
        "for i in range(0,6):\n",
        "    percentage[i]=(freq[i]*100.0)/len(labels)\n",
        "print(percentage)\n"
      ],
      "execution_count": 0,
      "outputs": [
        {
          "output_type": "stream",
          "text": [
            "frequencies: [1533  703 1358  626  707 1508]\n",
            "[23.82284382 10.92463092 21.1033411   9.72804973 10.98679099 23.43434343]\n"
          ],
          "name": "stdout"
        }
      ]
    },
    {
      "cell_type": "markdown",
      "metadata": {
        "id": "1VWY1IOBGlNW",
        "colab_type": "text"
      },
      "source": [
        "Από τα παραπάνω βλέπουμε ότι το train set δεν είναι ισορροπημένο και στο στάδιο της προεπεξεργασίας δεδομένων θα χρησιμοποιήσουμε την μέθοδο της υπερδειγματολειψίας ώστε να μην χάσουμε πληροφορία από τα δεδομένα της εκπαίδευσης.\n"
      ]
    },
    {
      "cell_type": "markdown",
      "metadata": {
        "id": "4BcMn0MClm-J",
        "colab_type": "text"
      },
      "source": [
        "###Χωρισμός σε train και test set"
      ]
    },
    {
      "cell_type": "code",
      "metadata": {
        "id": "Q841kJ0tlsP_",
        "colab_type": "code",
        "colab": {}
      },
      "source": [
        "from sklearn.model_selection import train_test_split\n",
        "\n",
        "# Split our data\n",
        "train, test, train_labels, test_labels = train_test_split(features, labels, random_state=78, test_size=0.30)"
      ],
      "execution_count": 0,
      "outputs": []
    },
    {
      "cell_type": "markdown",
      "metadata": {
        "id": "0yOZyRrXGxWd",
        "colab_type": "text"
      },
      "source": [
        "#Γ. Βaseline Classification\n",
        "\n",
        "###1.\n",
        "\n",
        "Στο σημείο αυτό κάνουμε απλή εκπαίδευση στους γνωστούς μας classifiers, dummy, gaussian naive bayes, knn και mlp.\n",
        "\n",
        "Για κάθε classifier αποθηκεύουμε σε πίνακα τις τιμές f1_micro και f1_macro, ώστε να τα απεικονίσουμε σε bar plot, και τυπώνουμε confusion matrix, f1_micro, f1_macro αλλά και classification report για να πάρουμε τις τιμές precision και recall\n",
        "\n"
      ]
    },
    {
      "cell_type": "markdown",
      "metadata": {
        "id": "JhIlN7G-LaS1",
        "colab_type": "text"
      },
      "source": [
        "###Dummy Classifiers\n",
        "\n",
        "Επειδή έχουμε multiclass δεδομένα θα εκπαιδεύσουμε συνολικά 9 ταξινομητές."
      ]
    },
    {
      "cell_type": "code",
      "metadata": {
        "id": "2lWsuNKML9D6",
        "colab_type": "code",
        "outputId": "c5777a23-32a4-48f6-c03d-3c9fddf5ce5f",
        "colab": {
          "base_uri": "https://localhost:8080/",
          "height": 4016
        }
      },
      "source": [
        "from sklearn.dummy import DummyClassifier\n",
        "\n",
        "from sklearn.metrics import classification_report\n",
        "from sklearn.metrics import precision_recall_fscore_support\n",
        "from sklearn.metrics import f1_score\n",
        "from sklearn.metrics import confusion_matrix\n",
        "from sklearn.metrics import accuracy_score\n",
        "\n",
        "\n",
        "#πίνακες που θα κρατάμε τις μετρικές για να τυπώσουμε τα plots\n",
        "f1_micro = {}\n",
        "f1_macro = {}\n",
        "\n",
        "dc_uniform = DummyClassifier(strategy=\"uniform\")\n",
        "dc_uniform.fit(train,train_labels)\n",
        "\n",
        "preds = dc_uniform.predict(test)\n",
        "\n",
        "print(\"Classification report Dummy uniform\")\n",
        "print(classification_report(test_labels,preds))\n",
        "\n",
        "\n",
        "f1_micro['D-Uni']=f1_score(test_labels,preds,average='micro')\n",
        "f1_macro['D-Uni']=f1_score(test_labels,preds,average='macro')\n",
        "\n",
        "print(\"F1 micro Dummy uniform\")\n",
        "print(f1_micro['D-Uni'])\n",
        "print(\"F1 macro Dummy uniform\")\n",
        "print(f1_macro['D-Uni'])\n",
        "\n",
        "\n",
        "print('Confusion Matrix for Dummy uniform')\n",
        "print(confusion_matrix(test_labels, preds))\n",
        "\n",
        "#####################\n",
        "\n",
        "dc_constant0 = DummyClassifier(strategy=\"constant\",constant=0)\n",
        "dc_constant0.fit(train,train_labels)\n",
        "\n",
        "preds = dc_constant0.predict(test)\n",
        "\n",
        "print(\"Classification report Dummy constant0\")\n",
        "print(classification_report(test_labels,preds))\n",
        "\n",
        "\n",
        "f1_micro['D-Con0']=f1_score(test_labels,preds,average='micro')\n",
        "f1_macro['D-Con0']=f1_score(test_labels,preds,average='macro')\n",
        "\n",
        "print(\"F1 micro Dummy constant0\")\n",
        "print(f1_micro['D-Con0'])\n",
        "print(\"F1 macro Dummy constant0\")\n",
        "print(f1_macro['D-Con0'])\n",
        "\n",
        "\n",
        "print('Confusion Matrix for Dummy constant0')\n",
        "print(confusion_matrix(test_labels, preds))\n",
        "\n",
        "#####################\n",
        "\n",
        "dc_constant1 = DummyClassifier(strategy=\"constant\",constant=1)\n",
        "dc_constant1.fit(train,train_labels)\n",
        "\n",
        "preds = dc_constant1.predict(test)\n",
        "\n",
        "print(\"Classification report Dummy constant1\")\n",
        "print(classification_report(test_labels,preds))\n",
        "\n",
        "f1_micro['D-Con1']=f1_score(test_labels,preds,average='micro')\n",
        "f1_macro['D-Con1']=f1_score(test_labels,preds,average='macro')\n",
        "\n",
        "print(\"F1 micro Dummy constant1\")\n",
        "print(f1_micro['D-Con1'])\n",
        "print(\"F1 macro Dummy constant1\")\n",
        "print(f1_macro['D-Con1'])\n",
        "\n",
        "\n",
        "print('Confusion Matrix for Dummy constant1')\n",
        "print(confusion_matrix(test_labels, preds))\n",
        "\n",
        "#####################\n",
        "\n",
        "dc_constant2 = DummyClassifier(strategy=\"constant\",constant=2)\n",
        "dc_constant2.fit(train,train_labels)\n",
        "\n",
        "preds = dc_constant2.predict(test)\n",
        "\n",
        "print(\"Classification report Dummy constant2\")\n",
        "print(classification_report(test_labels,preds))\n",
        "\n",
        "f1_micro['D-Con2']=f1_score(test_labels,preds,average='micro')\n",
        "f1_macro['D-Con2']=f1_score(test_labels,preds,average='macro')\n",
        "\n",
        "print(\"F1 micro Dummy constant2\")\n",
        "print(f1_micro['D-Con2'])\n",
        "print(\"F1 macro Dummy constant2\")\n",
        "print(f1_macro['D-Con2'])\n",
        "\n",
        "\n",
        "print('Confusion Matrix for Dummy constant2')\n",
        "print(confusion_matrix(test_labels, preds))\n",
        "\n",
        "#####################\n",
        "\n",
        "dc_constant3 = DummyClassifier(strategy=\"constant\",constant=3)\n",
        "dc_constant3.fit(train,train_labels)\n",
        "\n",
        "preds = dc_constant3.predict(test)\n",
        "\n",
        "print(\"Classification report Dummy constant3\")\n",
        "print(classification_report(test_labels,preds))\n",
        "\n",
        "f1_micro['D-Con3']=f1_score(test_labels,preds,average='micro')\n",
        "f1_macro['D-Con3']=f1_score(test_labels,preds,average='macro')\n",
        "\n",
        "print(\"F1 micro Dummy constant3\")\n",
        "print(f1_micro['D-Con3'])\n",
        "print(\"F1 macro Dummy constant3\")\n",
        "print(f1_macro['D-Con3'])\n",
        "\n",
        "\n",
        "print('Confusion Matrix for Dummy constant3')\n",
        "print(confusion_matrix(test_labels, preds))\n",
        "\n",
        "#####################\n",
        "\n",
        "dc_constant4 = DummyClassifier(strategy=\"constant\",constant=4)\n",
        "dc_constant4.fit(train,train_labels)\n",
        "\n",
        "preds = dc_constant4.predict(test)\n",
        "\n",
        "print(\"Classification report Dummy constant4\")\n",
        "print(classification_report(test_labels,preds))\n",
        "\n",
        "f1_micro['D-Con4']=f1_score(test_labels,preds,average='micro')\n",
        "f1_macro['D-Con4']=f1_score(test_labels,preds,average='macro')\n",
        "\n",
        "print(\"F1 micro Dummy constant4\")\n",
        "print(f1_micro['D-Con4'])\n",
        "print(\"F1 macro Dummy constant4\")\n",
        "print(f1_macro['D-Con4'])\n",
        "\n",
        "\n",
        "print('Confusion Matrix for Dummy constant4')\n",
        "print(confusion_matrix(test_labels, preds))\n",
        "\n",
        "#####################\n",
        "\n",
        "\n",
        "dc_constant5 = DummyClassifier(strategy=\"constant\",constant=5)\n",
        "dc_constant5.fit(train,train_labels)\n",
        "\n",
        "preds = dc_constant5.predict(test)\n",
        "\n",
        "print(\"Classification report Dummy constant5\")\n",
        "print(classification_report(test_labels,preds))\n",
        "\n",
        "f1_micro['D-Con5']=f1_score(test_labels,preds,average='micro')\n",
        "f1_macro['D-Con5']=f1_score(test_labels,preds,average='macro')\n",
        "\n",
        "print(\"F1 micro Dummy constant5\")\n",
        "print(f1_micro['D-Con5'])\n",
        "print(\"F1 macro Dummy constant5\")\n",
        "print(f1_macro['D-Con5'])\n",
        "\n",
        "\n",
        "print('Confusion Matrix for Dummy constant5')\n",
        "print(confusion_matrix(test_labels, preds))\n",
        "\n",
        "\n",
        "#####################\n",
        "\n",
        "\n",
        "dc_most_frequent = DummyClassifier(strategy=\"most_frequent\")\n",
        "dc_most_frequent.fit(train,train_labels)\n",
        "\n",
        "preds = dc_most_frequent.predict(test)\n",
        "\n",
        "print(\"Classification report Dummy most_frequent\")\n",
        "print(classification_report(test_labels,preds))\n",
        "\n",
        "f1_micro['D-mfreq']=f1_score(test_labels,preds,average='micro')\n",
        "f1_macro['D-mfreq']=f1_score(test_labels,preds,average='macro')\n",
        "\n",
        "print(\"F1 micro Dummy most_frequent\")\n",
        "print(f1_micro['D-mfreq'])\n",
        "print(\"F1 macro Dummy most_frequent\")\n",
        "print(f1_macro['D-mfreq'])\n",
        "\n",
        "\n",
        "print('Confusion Matrix for Dummy most_frequent')\n",
        "print(confusion_matrix(test_labels, preds))\n",
        "\n",
        "\n",
        "#####################\n",
        "\n",
        "dc_stratified = DummyClassifier(strategy=\"stratified\")\n",
        "dc_stratified.fit(train,train_labels)\n",
        "\n",
        "preds = dc_stratified.predict(test)\n",
        "\n",
        "print(\"Classification report Dummy stratified\")\n",
        "print(classification_report(test_labels,preds))\n",
        "\n",
        "f1_micro['D-strat']=f1_score(test_labels,preds,average='micro')\n",
        "f1_macro['D-strat']=f1_score(test_labels,preds,average='macro')\n",
        "\n",
        "print(\"F1 micro Dummy stratified\")\n",
        "print(f1_micro['D-strat'])\n",
        "print(\"F1 macro Dummy stratified\")\n",
        "print(f1_macro['D-strat'])\n",
        "\n",
        "\n",
        "print('Confusion Matrix for Dummy most_stratified')\n",
        "print(confusion_matrix(test_labels, preds))\n",
        "\n",
        "\n"
      ],
      "execution_count": 0,
      "outputs": [
        {
          "output_type": "stream",
          "text": [
            "Classification report Dummy uniform\n",
            "              precision    recall  f1-score   support\n",
            "\n",
            "           0       0.22      0.17      0.19       424\n",
            "           1       0.11      0.17      0.13       209\n",
            "           2       0.17      0.14      0.15       419\n",
            "           3       0.11      0.16      0.13       206\n",
            "           4       0.13      0.20      0.16       215\n",
            "           5       0.25      0.18      0.21       458\n",
            "\n",
            "   micro avg       0.17      0.17      0.17      1931\n",
            "   macro avg       0.17      0.17      0.16      1931\n",
            "weighted avg       0.18      0.17      0.17      1931\n",
            "\n",
            "F1 micro Dummy uniform\n",
            "0.16623511134127394\n",
            "F1 macro Dummy uniform\n",
            "0.16189055890324286\n",
            "Confusion Matrix for Dummy uniform\n",
            "[[70 70 92 56 64 72]\n",
            " [40 36 40 24 26 43]\n",
            " [76 72 57 69 78 67]\n",
            " [32 39 26 32 44 33]\n",
            " [26 37 39 30 43 40]\n",
            " [71 73 81 73 77 83]]\n",
            "Classification report Dummy constant0\n",
            "              precision    recall  f1-score   support\n",
            "\n",
            "           0       0.22      1.00      0.36       424\n",
            "           1       0.00      0.00      0.00       209\n",
            "           2       0.00      0.00      0.00       419\n",
            "           3       0.00      0.00      0.00       206\n",
            "           4       0.00      0.00      0.00       215\n",
            "           5       0.00      0.00      0.00       458\n",
            "\n",
            "   micro avg       0.22      0.22      0.22      1931\n",
            "   macro avg       0.04      0.17      0.06      1931\n",
            "weighted avg       0.05      0.22      0.08      1931\n",
            "\n",
            "F1 micro Dummy constant0\n",
            "0.2195753495598136\n",
            "F1 macro Dummy constant0\n",
            "0.0600141542816702\n",
            "Confusion Matrix for Dummy constant0\n",
            "[[424   0   0   0   0   0]\n",
            " [209   0   0   0   0   0]\n",
            " [419   0   0   0   0   0]\n",
            " [206   0   0   0   0   0]\n",
            " [215   0   0   0   0   0]\n",
            " [458   0   0   0   0   0]]\n",
            "Classification report Dummy constant1\n",
            "              precision    recall  f1-score   support\n",
            "\n",
            "           0       0.00      0.00      0.00       424\n",
            "           1       0.11      1.00      0.20       209\n",
            "           2       0.00      0.00      0.00       419\n",
            "           3       0.00      0.00      0.00       206\n",
            "           4       0.00      0.00      0.00       215\n",
            "           5       0.00      0.00      0.00       458\n",
            "\n",
            "   micro avg       0.11      0.11      0.11      1931\n",
            "   macro avg       0.02      0.17      0.03      1931\n",
            "weighted avg       0.01      0.11      0.02      1931\n",
            "\n",
            "F1 micro Dummy constant1\n",
            "0.108234075608493\n",
            "F1 macro Dummy constant1\n",
            "0.032554517133956386\n",
            "Confusion Matrix for Dummy constant1\n",
            "[[  0 424   0   0   0   0]\n",
            " [  0 209   0   0   0   0]\n",
            " [  0 419   0   0   0   0]\n",
            " [  0 206   0   0   0   0]\n",
            " [  0 215   0   0   0   0]\n",
            " [  0 458   0   0   0   0]]\n",
            "Classification report Dummy constant2\n",
            "              precision    recall  f1-score   support\n",
            "\n",
            "           0       0.00      0.00      0.00       424\n",
            "           1       0.00      0.00      0.00       209\n",
            "           2       0.22      1.00      0.36       419\n",
            "           3       0.00      0.00      0.00       206\n",
            "           4       0.00      0.00      0.00       215\n",
            "           5       0.00      0.00      0.00       458\n",
            "\n",
            "   micro avg       0.22      0.22      0.22      1931\n",
            "   macro avg       0.04      0.17      0.06      1931\n",
            "weighted avg       0.05      0.22      0.08      1931\n",
            "\n",
            "F1 micro Dummy constant2\n",
            "0.21698601760745725\n",
            "F1 macro Dummy constant2\n",
            "0.059432624113475184\n",
            "Confusion Matrix for Dummy constant2\n",
            "[[  0   0 424   0   0   0]\n",
            " [  0   0 209   0   0   0]\n",
            " [  0   0 419   0   0   0]\n",
            " [  0   0 206   0   0   0]\n",
            " [  0   0 215   0   0   0]\n",
            " [  0   0 458   0   0   0]]\n",
            "Classification report Dummy constant3\n",
            "              precision    recall  f1-score   support\n",
            "\n",
            "           0       0.00      0.00      0.00       424\n",
            "           1       0.00      0.00      0.00       209\n",
            "           2       0.00      0.00      0.00       419\n",
            "           3       0.11      1.00      0.19       206\n",
            "           4       0.00      0.00      0.00       215\n",
            "           5       0.00      0.00      0.00       458\n",
            "\n",
            "   micro avg       0.11      0.11      0.11      1931\n",
            "   macro avg       0.02      0.17      0.03      1931\n",
            "weighted avg       0.01      0.11      0.02      1931\n",
            "\n",
            "F1 micro Dummy constant3\n",
            "0.10668047643707923\n",
            "F1 macro Dummy constant3\n",
            "0.032132272656371856\n",
            "Confusion Matrix for Dummy constant3\n",
            "[[  0   0   0 424   0   0]\n",
            " [  0   0   0 209   0   0]\n",
            " [  0   0   0 419   0   0]\n",
            " [  0   0   0 206   0   0]\n",
            " [  0   0   0 215   0   0]\n",
            " [  0   0   0 458   0   0]]\n",
            "Classification report Dummy constant4\n",
            "              precision    recall  f1-score   support\n",
            "\n",
            "           0       0.00      0.00      0.00       424\n",
            "           1       0.00      0.00      0.00       209\n",
            "           2       0.00      0.00      0.00       419\n",
            "           3       0.00      0.00      0.00       206\n",
            "           4       0.11      1.00      0.20       215\n",
            "           5       0.00      0.00      0.00       458\n",
            "\n",
            "   micro avg       0.11      0.11      0.11      1931\n",
            "   macro avg       0.02      0.17      0.03      1931\n",
            "weighted avg       0.01      0.11      0.02      1931\n",
            "\n",
            "F1 micro Dummy constant4\n",
            "0.11134127395132055\n",
            "F1 macro Dummy constant4\n",
            "0.03339546442994718\n",
            "Confusion Matrix for Dummy constant4\n",
            "[[  0   0   0   0 424   0]\n",
            " [  0   0   0   0 209   0]\n",
            " [  0   0   0   0 419   0]\n",
            " [  0   0   0   0 206   0]\n",
            " [  0   0   0   0 215   0]\n",
            " [  0   0   0   0 458   0]]\n",
            "Classification report Dummy constant5\n",
            "              precision    recall  f1-score   support\n",
            "\n",
            "           0       0.00      0.00      0.00       424\n",
            "           1       0.00      0.00      0.00       209\n",
            "           2       0.00      0.00      0.00       419\n",
            "           3       0.00      0.00      0.00       206\n",
            "           4       0.00      0.00      0.00       215\n",
            "           5       0.24      1.00      0.38       458\n",
            "\n",
            "   micro avg       0.24      0.24      0.24      1931\n",
            "   macro avg       0.04      0.17      0.06      1931\n",
            "weighted avg       0.06      0.24      0.09      1931\n",
            "\n",
            "F1 micro Dummy constant5\n",
            "0.23718280683583634\n",
            "F1 macro Dummy constant5\n",
            "0.06390400446490861\n",
            "Confusion Matrix for Dummy constant5\n",
            "[[  0   0   0   0   0 424]\n",
            " [  0   0   0   0   0 209]\n",
            " [  0   0   0   0   0 419]\n",
            " [  0   0   0   0   0 206]\n",
            " [  0   0   0   0   0 215]\n",
            " [  0   0   0   0   0 458]]\n",
            "Classification report Dummy most_frequent\n",
            "              precision    recall  f1-score   support\n",
            "\n",
            "           0       0.22      1.00      0.36       424\n",
            "           1       0.00      0.00      0.00       209\n",
            "           2       0.00      0.00      0.00       419\n",
            "           3       0.00      0.00      0.00       206\n",
            "           4       0.00      0.00      0.00       215\n",
            "           5       0.00      0.00      0.00       458\n",
            "\n",
            "   micro avg       0.22      0.22      0.22      1931\n",
            "   macro avg       0.04      0.17      0.06      1931\n",
            "weighted avg       0.05      0.22      0.08      1931\n",
            "\n",
            "F1 micro Dummy most_frequent\n",
            "0.2195753495598136\n",
            "F1 macro Dummy most_frequent\n",
            "0.0600141542816702\n",
            "Confusion Matrix for Dummy most_frequent\n",
            "[[424   0   0   0   0   0]\n",
            " [209   0   0   0   0   0]\n",
            " [419   0   0   0   0   0]\n",
            " [206   0   0   0   0   0]\n",
            " [215   0   0   0   0   0]\n",
            " [458   0   0   0   0   0]]\n",
            "Classification report Dummy stratified\n",
            "              precision    recall  f1-score   support\n",
            "\n",
            "           0       0.24      0.25      0.25       424\n",
            "           1       0.10      0.11      0.10       209\n",
            "           2       0.19      0.19      0.19       419\n",
            "           3       0.10      0.09      0.09       206\n",
            "           4       0.09      0.08      0.09       215\n",
            "           5       0.22      0.21      0.21       458\n",
            "\n",
            "   micro avg       0.18      0.18      0.18      1931\n",
            "   macro avg       0.16      0.16      0.16      1931\n",
            "weighted avg       0.18      0.18      0.18      1931\n",
            "\n",
            "F1 micro Dummy stratified\n",
            "0.17711030554117038\n",
            "F1 macro Dummy stratified\n",
            "0.15524887045638638\n",
            "Confusion Matrix for Dummy most_stratified\n",
            "[[108  46 102  34  45  89]\n",
            " [ 45  23  38  13  30  60]\n",
            " [108  54  80  38  45  94]\n",
            " [ 41  26  44  18  25  52]\n",
            " [ 44  30  49  24  18  50]\n",
            " [108  52 116  52  35  95]]\n"
          ],
          "name": "stdout"
        }
      ]
    },
    {
      "cell_type": "markdown",
      "metadata": {
        "id": "Q2tINsXC-1PK",
        "colab_type": "text"
      },
      "source": [
        "Οι επιδόσεις των dummy ταξινομητών, δεδομένου ότι έχουμ multiclass δεδομένα, είναι πολύ χαμηλές."
      ]
    },
    {
      "cell_type": "markdown",
      "metadata": {
        "id": "5MsLFbwlUqhW",
        "colab_type": "text"
      },
      "source": [
        "###Gaussian Naive Bayes\n",
        "\n"
      ]
    },
    {
      "cell_type": "code",
      "metadata": {
        "id": "J3h5cjURVNT_",
        "colab_type": "code",
        "outputId": "2901e96a-ae10-46f8-b9c6-1af1b1e2e6e1",
        "colab": {
          "base_uri": "https://localhost:8080/",
          "height": 461
        }
      },
      "source": [
        "from sklearn.naive_bayes import GaussianNB\n",
        "\n",
        "\n",
        "gnb = GaussianNB()\n",
        "gnb.fit(train,train_labels)\n",
        "\n",
        "preds = gnb.predict(test)\n",
        "\n",
        "print(\"Classification report Gaussian Naive Bayes\")\n",
        "print(classification_report(test_labels,preds))\n",
        "\n",
        "f1_micro['GNB']=f1_score(test_labels,preds,average='micro')\n",
        "f1_macro['GNB']=f1_score(test_labels,preds,average='macro')\n",
        "\n",
        "print(\"F1 micro GNB\")\n",
        "print(f1_micro['GNB'])\n",
        "print(\"F1 macro GNB\")\n",
        "print(f1_macro['GNB'])\n",
        "\n",
        "print('Confusion Matrix for non-optimized GNB')\n",
        "print(confusion_matrix(test_labels, preds))\n",
        "\n"
      ],
      "execution_count": 0,
      "outputs": [
        {
          "output_type": "stream",
          "text": [
            "Classification report Gaussian Naive Bayes\n",
            "              precision    recall  f1-score   support\n",
            "\n",
            "           0       0.90      0.81      0.86       424\n",
            "           1       0.99      0.91      0.95       209\n",
            "           2       0.90      0.90      0.90       419\n",
            "           3       0.51      0.66      0.57       206\n",
            "           4       0.60      0.73      0.66       215\n",
            "           5       0.84      0.76      0.80       458\n",
            "\n",
            "   micro avg       0.80      0.80      0.80      1931\n",
            "   macro avg       0.79      0.79      0.79      1931\n",
            "weighted avg       0.82      0.80      0.81      1931\n",
            "\n",
            "F1 micro GNB\n",
            "0.8026929052304506\n",
            "F1 macro GNB\n",
            "0.7883561570049515\n",
            "Confusion Matrix for non-optimized GNB\n",
            "[[345   0  11   0  68   0]\n",
            " [  6 190   0   2  10   1]\n",
            " [  5   0 378  35   1   0]\n",
            " [  3   0  31 135   3  34]\n",
            " [ 22   2   0   6 156  29]\n",
            " [  1   0   2  88  21 346]]\n"
          ],
          "name": "stdout"
        }
      ]
    },
    {
      "cell_type": "markdown",
      "metadata": {
        "id": "sWP4-cQj_EnH",
        "colab_type": "text"
      },
      "source": [
        "Ο Gaussian Bayes estimator πετυχαίνει, χωρίς καμία βελτιστοποίηση τιμή f1_micro=0,803 και f1_macro=0,788."
      ]
    },
    {
      "cell_type": "markdown",
      "metadata": {
        "id": "06hJ7m1CXGtf",
        "colab_type": "text"
      },
      "source": [
        "###ΚΝΝ"
      ]
    },
    {
      "cell_type": "code",
      "metadata": {
        "id": "BQo4rZ-LXIk4",
        "colab_type": "code",
        "outputId": "6739ba1d-dcf8-497b-fd71-8f5566ed57b3",
        "colab": {
          "base_uri": "https://localhost:8080/",
          "height": 461
        }
      },
      "source": [
        "from sklearn import neighbors\n",
        "\n",
        "clf = neighbors.KNeighborsClassifier() \n",
        "clf.fit(train, train_labels)\n",
        "\n",
        "preds = clf.predict(test)\n",
        "\n",
        "\n",
        "print(\"Classification report K nearest neighbors\")\n",
        "print(classification_report(test_labels,preds))\n",
        "\n",
        "f1_micro['kΝΝ']=f1_score(test_labels,preds,average='micro')\n",
        "f1_macro['kΝΝ']=f1_score(test_labels,preds,average='macro')\n",
        "\n",
        "\n",
        "print(\"F1 micro KNN\")\n",
        "print(f1_micro['kΝΝ'])\n",
        "print(\"F1 macro KNN\")\n",
        "print(f1_macro['kΝΝ'])\n",
        "\n",
        "print('Confusion Matrix for non-optimized kNN')\n",
        "print(confusion_matrix(test_labels, preds))\n",
        "\n",
        "\n"
      ],
      "execution_count": 0,
      "outputs": [
        {
          "output_type": "stream",
          "text": [
            "Classification report K nearest neighbors\n",
            "              precision    recall  f1-score   support\n",
            "\n",
            "           0       0.98      0.99      0.98       424\n",
            "           1       0.97      0.98      0.98       209\n",
            "           2       0.90      0.96      0.93       419\n",
            "           3       0.75      0.71      0.73       206\n",
            "           4       0.89      0.87      0.88       215\n",
            "           5       0.92      0.88      0.90       458\n",
            "\n",
            "   micro avg       0.91      0.91      0.91      1931\n",
            "   macro avg       0.90      0.90      0.90      1931\n",
            "weighted avg       0.91      0.91      0.91      1931\n",
            "\n",
            "F1 micro KNN\n",
            "0.9129984464008286\n",
            "F1 macro KNN\n",
            "0.8993868231447459\n",
            "Confusion Matrix for non-optimized kNN\n",
            "[[420   0   3   0   1   0]\n",
            " [  0 205   0   2   2   0]\n",
            " [  2   0 401  14   0   2]\n",
            " [  0   1  37 147   4  17]\n",
            " [  8   4   0   3 186  14]\n",
            " [  0   1   7  30  16 404]]\n"
          ],
          "name": "stdout"
        }
      ]
    },
    {
      "cell_type": "markdown",
      "metadata": {
        "id": "iecwW5I8VqsI",
        "colab_type": "text"
      },
      "source": [
        "Ο knn estimator έχει καλές επιδόσεις το οποίο είναι αναμενόμενο αν λάβουμε υπόψιν το γεγονός ότι τα δεδομένα μας είναι διακριτά.\n",
        "f1_micro=0.913\n",
        "f1_macro=0.899"
      ]
    },
    {
      "cell_type": "markdown",
      "metadata": {
        "id": "7vQPre6H61lM",
        "colab_type": "text"
      },
      "source": [
        "###MLP"
      ]
    },
    {
      "cell_type": "code",
      "metadata": {
        "id": "dPci8aT_64PX",
        "colab_type": "code",
        "outputId": "89abce41-729b-4d79-b880-aec8c0b66d2f",
        "colab": {
          "base_uri": "https://localhost:8080/",
          "height": 461
        }
      },
      "source": [
        "from sklearn.neural_network import MLPClassifier\n",
        "\n",
        "clf = MLPClassifier(random_state=42)\n",
        "\n",
        "clf.fit(train,train_labels)\n",
        "\n",
        "preds = clf.predict(test)\n",
        "print(\"Classification report MLP\")\n",
        "print(classification_report(test_labels,preds))\n",
        "\n",
        "f1_micro['MLP']=f1_score(test_labels,preds,average='micro')\n",
        "f1_macro['MLP']=f1_score(test_labels,preds,average='macro')\n",
        "\n",
        "print(\"F1 micro MLP\")\n",
        "print(f1_micro['MLP'])\n",
        "print(\"F1 macro MLP\")\n",
        "print(f1_macro['MLP'])\n",
        "\n",
        "\n",
        "print('Confusion Matrix for MLP')\n",
        "print(confusion_matrix(test_labels, preds))\n",
        "\n",
        "\n"
      ],
      "execution_count": 0,
      "outputs": [
        {
          "output_type": "stream",
          "text": [
            "Classification report MLP\n",
            "              precision    recall  f1-score   support\n",
            "\n",
            "           0       0.96      0.97      0.97       424\n",
            "           1       0.95      0.97      0.96       209\n",
            "           2       0.78      0.68      0.73       419\n",
            "           3       0.50      0.06      0.10       206\n",
            "           4       0.84      0.76      0.80       215\n",
            "           5       0.59      0.91      0.72       458\n",
            "\n",
            "   micro avg       0.77      0.77      0.77      1931\n",
            "   macro avg       0.77      0.72      0.71      1931\n",
            "weighted avg       0.77      0.77      0.74      1931\n",
            "\n",
            "F1 micro MLP\n",
            "0.7726566545831176\n",
            "F1 macro MLP\n",
            "0.7114640190354926\n",
            "Confusion Matrix for MLP\n",
            "[[411   0   6   0   7   0]\n",
            " [  0 202   0   1   6   0]\n",
            " [  4   1 285  10   1 118]\n",
            " [  0   3  53  12   0 138]\n",
            " [ 12   7   2   0 163  31]\n",
            " [  0   0  20   1  18 419]]\n"
          ],
          "name": "stdout"
        }
      ]
    },
    {
      "cell_type": "markdown",
      "metadata": {
        "id": "OwvzGIcN_6pU",
        "colab_type": "text"
      },
      "source": [
        "Ο mlp estimator με default παραμέτρους δεν τόσο καλή επίδοση, στο στάδιο της βελτιστοποιήσης θα θέσουμε τις παραμέτρους του έτσι ώστε να ανταπεξέρχονται καλύτερα στις ανάγκες του προβλήματος μας.\n",
        "f1_micro=0.773\n",
        "f1_macro=0.712"
      ]
    },
    {
      "cell_type": "markdown",
      "metadata": {
        "id": "6NgJ466bbbgz",
        "colab_type": "text"
      },
      "source": [
        "###2.\n",
        "Με τον παρακάτω κώδικα τυπώνουμε το plot με όλες τις τιμές των f1_micro και f1_macro των ταξινομητών που μελετάμε.\n"
      ]
    },
    {
      "cell_type": "code",
      "metadata": {
        "id": "JHdftoVzdISc",
        "colab_type": "code",
        "outputId": "0e2e53fa-e45b-41a7-9a14-bf0ce4bd3bce",
        "colab": {
          "base_uri": "https://localhost:8080/",
          "height": 705
        }
      },
      "source": [
        "# Κάνουμε import την matplotplib\n",
        "import matplotlib.pyplot as plt\n",
        "\n",
        "plt.title('F1_micro average scores')\n",
        "plt.bar(range(len(f1_micro)), list(f1_micro.values()), align='center')\n",
        "plt.xticks(range(len(f1_micro)), list(f1_micro.keys()))\n",
        "\n",
        "\n",
        "plt.show()\n",
        "\n",
        "plt.title('F1_macro average scores')\n",
        "plt.bar(range(len(f1_macro)), list(f1_macro.values()), align='center')\n",
        "plt.xticks(range(len(f1_macro)), list(f1_macro.keys()))\n",
        "\n",
        "\n",
        "plt.show()\n",
        "\n"
      ],
      "execution_count": 0,
      "outputs": [
        {
          "output_type": "display_data",
          "data": {
            "image/png": "[encoded data removed]",
            "text/plain": [
              "<matplotlib.figure.Figure at 0x7f5c3e2e6fd0>"
            ]
          },
          "metadata": {
            "tags": []
          }
        },
        {
          "output_type": "display_data",
          "data": {
            "image/png": "[encoded data removed]",
            "text/plain": [
              "<matplotlib.figure.Figure at 0x7f5c3aea6f60>"
            ]
          },
          "metadata": {
            "tags": []
          }
        }
      ]
    },
    {
      "cell_type": "markdown",
      "metadata": {
        "id": "RejqeuWl_Dff",
        "colab_type": "text"
      },
      "source": [
        "###3. Σχολιασμοί\n",
        "\n",
        "\n",
        "1.   O most frequent Classifier έχει προφανώς ίδια metrics με τον constant 0 καθώς η κλάση 0 είναι η πιο συχνή\n",
        "2.   Όσον αφορά τον Uniform Classifier δίνει αποτέλεσμα κοντά στο 0.16 αφού παράγει predictions με 100/6 = 16.6%. Αν δεν βάλουμε random_state τότε σε κάθε execution θα παίζει η τιμή του.\n",
        "3. Τα macro scores είναι πιο μικρά από τα micro καθώς τα macro δεν λαμβάνουν υπόψιν τους την ανισορροπία των κλάσεων\n",
        "4. O KNN έδωσε πολύ ικανοποιητικό score καθώς τα features και τα labels είναι διακριτά.\n",
        "\n",
        "5. Όσον αφορά τις τιμές για τα confusion matrices των Constant και Most Frequent τα f1-scores είναι ill-defined καθώς τα True Positives είναι 0 και άρα τα Precision και Recall είναι κι αυτά 0.\n",
        "\n",
        "\n",
        "**Στην περίπτωση του dataset μας δεν μας απασχολεί να δώσουμε παραπάνω σημασία στο precision ή στο recall καθώς όλες οι κλάσεις μας είναι το ίδιο σημαντικές, δηλα΄δή όσο μας απασχολεί πχ να μην ταξινομήσουμε το 0 στο 5 άλλο τόσο μας απασχολεί να μην ταξινομήσουμε το 5 στο 0. Επειδή γενικά υπάρχει trade off ανάμεσα σε precision και recall, θέλουμε πάνω κάτω να είναι τα ίδια**"
      ]
    },
    {
      "cell_type": "markdown",
      "metadata": {
        "id": "dpfSh3SWFh29",
        "colab_type": "text"
      },
      "source": [
        "#Δ. Βελτιστοποίηση ταξινομητών\n",
        "\n",
        " "
      ]
    },
    {
      "cell_type": "markdown",
      "metadata": {
        "id": "hL4uzOQoUAEf",
        "colab_type": "text"
      },
      "source": [
        "###1."
      ]
    },
    {
      "cell_type": "markdown",
      "metadata": {
        "id": "XyIDQt9hAYGo",
        "colab_type": "text"
      },
      "source": [
        "##Προεπεξεργασία Δεδομένων\n",
        "\n",
        "Θα αναφέρουμε τις βασικές στρατηγικές προεπεξεργασίας δεδομένων που θα χρησιμοποιήσουμε στο pipeline και θα τις αρχικοποιήσουμε"
      ]
    },
    {
      "cell_type": "markdown",
      "metadata": {
        "id": "pyIqfp1iA6iA",
        "colab_type": "text"
      },
      "source": [
        "###Επιλογή Χαρακτηριστικών -Selector\n",
        "\n",
        "Το dataset μας αποτελείται συνολικά από 36 χαρακτηριστικά που έχουν όλα το ίδιο πεδίο τιμών και αντιπροσωπέυουν όλα χρωμετικές τιμές των γειτονικών καθώς και του υπό εξέταση pixel.  Το να αφαιρεθέι κάποιο από τα χαρακτηριστικά δεν έχει κάποια λογική ερμηνεία, καθώς σε μία εικόνα όλα τα γειτονικά pixel είναι εξίσου πιθανό να προσφέρουν σημαντική πληροφορία. Αυτό μπορούμε να το διαπιστώσουμε και μελετώντας τον πίνανα με τις διακυμάνσεις.\n"
      ]
    },
    {
      "cell_type": "code",
      "metadata": {
        "id": "5Cs4uNzHDjkp",
        "colab_type": "code",
        "outputId": "837fa225-58bb-4895-a863-897a4457353c",
        "colab": {
          "base_uri": "https://localhost:8080/",
          "height": 54
        }
      },
      "source": [
        "train_variance = train.var(axis=0)\n",
        "print(sorted(train_variance))\n"
      ],
      "execution_count": 0,
      "outputs": [
        {
          "output_type": "stream",
          "text": [
            "[177.3865196596509, 179.48027444127052, 179.88936832150807, 180.94769283431643, 181.98707207960248, 182.35147423722808, 183.77556869717404, 183.94950763126778, 185.2571840128671, 276.8808250471662, 277.3073839634158, 277.3632468790312, 278.2708103947078, 279.0042257681341, 279.267707370438, 280.96226188523167, 281.2549742640463, 281.8368191664653, 357.29032684386885, 357.4293155935597, 358.18812723009773, 359.267301968012, 359.606440170412, 360.6657472812782, 361.032210119522, 362.09828282694764, 364.0302511838675, 515.563797987739, 515.7489975360359, 517.4614886925051, 521.8733399401807, 522.3598118033608, 524.1339038182795, 524.6989085979209, 524.8412600581611, 525.0377781423396]\n"
          ],
          "name": "stdout"
        }
      ]
    },
    {
      "cell_type": "markdown",
      "metadata": {
        "id": "yOtJ5EhzDwEW",
        "colab_type": "text"
      },
      "source": [
        "Η μικρότερη τιμή είναι περίπου 177 και η μεγαλύτερη 525. Παρόλο που δεν φαίνεται σωστή απόφαση να χρησιμοποιήσουμε selection θα το διαπιστώσουμε και πειραματικά δοκιμάζοντας να το συμπεριλάβουμε στα στάδια του pipeline. Επιλέγονται δύο μέθοδοι, η variance threshold και η select K best. Για την variance Threshold επιλέγουμε κατώφλι 200 ενώ για την παράμετρο K του δέυτερου selector θα δοκιμάσουμε διάφορες τιμές."
      ]
    },
    {
      "cell_type": "code",
      "metadata": {
        "id": "A0E-xNzdFRei",
        "colab_type": "code",
        "colab": {}
      },
      "source": [
        "from sklearn.feature_selection import mutual_info_classif, SelectKBest\n",
        "from sklearn.feature_selection import VarianceThreshold\n",
        "\n",
        "\n",
        "selector = VarianceThreshold(threshold=200)\n",
        "#selector = SelectKBest(k=10)\n"
      ],
      "execution_count": 0,
      "outputs": []
    },
    {
      "cell_type": "markdown",
      "metadata": {
        "id": "2eypBWbcBAi5",
        "colab_type": "text"
      },
      "source": [
        "###Εξισορρόπηση μη ισσοροπημένων datasets -Sampler\n",
        "\n",
        "Όπως είδαμε και στην ανάλυση των δεδομένων έχουμε μη ισσοροπημένο dataset.\n",
        "Στην αναζήτηση της βέλτιστης αρχιτεκτονικής δοκιμάζονται ο RandomOverSampler καθώς και ο RandomUnderSampler.\n"
      ]
    },
    {
      "cell_type": "code",
      "metadata": {
        "id": "R7RCugXwBVwF",
        "colab_type": "code",
        "outputId": "bdd9b1e7-6fe6-4141-a5a5-696230c52fbf",
        "colab": {
          "base_uri": "https://localhost:8080/",
          "height": 87
        }
      },
      "source": [
        "!pip install -U imbalanced-learn"
      ],
      "execution_count": 0,
      "outputs": [
        {
          "output_type": "stream",
          "text": [
            "Requirement already up-to-date: imbalanced-learn in /usr/local/lib/python3.6/dist-packages (0.4.3)\n",
            "Requirement already satisfied, skipping upgrade: scipy>=0.13.3 in /usr/local/lib/python3.6/dist-packages (from imbalanced-learn) (1.1.0)\n",
            "Requirement already satisfied, skipping upgrade: scikit-learn>=0.20 in /usr/local/lib/python3.6/dist-packages (from imbalanced-learn) (0.20.1)\n",
            "Requirement already satisfied, skipping upgrade: numpy>=1.8.2 in /usr/local/lib/python3.6/dist-packages (from imbalanced-learn) (1.15.4)\n"
          ],
          "name": "stdout"
        }
      ]
    },
    {
      "cell_type": "code",
      "metadata": {
        "id": "MpjQ52okBZud",
        "colab_type": "code",
        "colab": {}
      },
      "source": [
        "from imblearn.over_sampling import RandomOverSampler\n",
        "from sklearn.preprocessing import MultiLabelBinarizer\n",
        "from imblearn.under_sampling import RandomUnderSampler\n",
        "\n",
        "# αρχικοποίηση του RandomOverSampler\n",
        "ros = RandomOverSampler(random_state=0)\n"
      ],
      "execution_count": 0,
      "outputs": []
    },
    {
      "cell_type": "markdown",
      "metadata": {
        "id": "osczDevIoBj3",
        "colab_type": "text"
      },
      "source": [
        "###Κανονικοποίηση Χαρακτηριστικών - Scaler\n",
        "\n",
        "Τα χαρακτηριστικά μας αντιπροσωπεύουν τιμές χρωματών και το ευρός τους είναι από 0 έως 255. Για τον λόγο αυτό περιμένουμε ότι η κανονικοποιήση των χαρακτηριστικών να μην επηρεάζει ιδιαίτερα το αποτέλεσμα, ή και να έχει αρνητική επίδραση στην επίδοση του ταξινομητή. Θα δοκιμάσουμε τον StandardScaler και τον MinMaxScaler."
      ]
    },
    {
      "cell_type": "code",
      "metadata": {
        "id": "nx-C4vpxjTln",
        "colab_type": "code",
        "colab": {}
      },
      "source": [
        "from sklearn.preprocessing import StandardScaler\n",
        "from sklearn.preprocessing import MinMaxScaler\n",
        "\n",
        "scaler = StandardScaler()\n",
        "#scaler = MinMaxScaler()"
      ],
      "execution_count": 0,
      "outputs": []
    },
    {
      "cell_type": "markdown",
      "metadata": {
        "id": "tOlqHByg-nS3",
        "colab_type": "text"
      },
      "source": [
        "###Μείωση της διαστατικότητας με εξαγωγή χαρακτηριστικών - PCA\n",
        "\n",
        "Η μέθοδος PCA είναι πολύ χρήσιμη καθώς \n",
        "\n",
        "\n"
      ]
    },
    {
      "cell_type": "code",
      "metadata": {
        "id": "2Q9PRVTGIQ9T",
        "colab_type": "code",
        "colab": {}
      },
      "source": [
        "from sklearn.decomposition import PCA\n",
        "\n",
        "pca = PCA()"
      ],
      "execution_count": 0,
      "outputs": []
    },
    {
      "cell_type": "markdown",
      "metadata": {
        "id": "q0UnueP2IiI0",
        "colab_type": "text"
      },
      "source": [
        "##Ταξινομητές\n",
        "\n",
        "Τώρα που έχουμε αρχικοποιήσει όλα τα στάδια που θα χρησιμοποιήσουμε στο pipeline θα αναζητήσουμε την βέλτιστη αρχιτεκτονική των μετασχηματιστών και τιμές των παραμέτρων."
      ]
    },
    {
      "cell_type": "code",
      "metadata": {
        "id": "tQhxD84cISNH",
        "colab_type": "code",
        "colab": {}
      },
      "source": [
        "import time\n",
        "\n",
        "#πίνακες που θα κρατάμε τις μετρικές για να τυπώσουμε τα plots\n",
        "f1_micro_opt = {}\n",
        "f1_macro_opt = {}\n",
        "\n",
        "time_micro={}\n",
        "time_macro={}"
      ],
      "execution_count": 0,
      "outputs": []
    },
    {
      "cell_type": "markdown",
      "metadata": {
        "id": "z3STidrQLSwy",
        "colab_type": "text"
      },
      "source": [
        "###Gaussian Naive Bayes"
      ]
    },
    {
      "cell_type": "code",
      "metadata": {
        "id": "luJU8_YBWDvN",
        "colab_type": "code",
        "colab": {}
      },
      "source": [
        "from sklearn.naive_bayes import GaussianNB\n",
        "from imblearn.pipeline import Pipeline\n",
        "from sklearn.model_selection import GridSearchCV\n",
        "from sklearn.model_selection import cross_val_score\n",
        "\n",
        "\n"
      ],
      "execution_count": 0,
      "outputs": []
    },
    {
      "cell_type": "code",
      "metadata": {
        "id": "KNYXeqamjTte",
        "colab_type": "code",
        "outputId": "e5d7f313-7255-4dc3-a181-38941d1146cb",
        "colab": {
          "base_uri": "https://localhost:8080/",
          "height": 196
        }
      },
      "source": [
        "#scaler = StandardScaler()\n",
        "scaler = MinMaxScaler()\n",
        "selector = VarianceThreshold()\n",
        "#ros = RandomOverSampler(random_state=0)\n",
        "ros=RandomUnderSampler(random_state=0)\n",
        "cv_scores = []\n",
        "\n",
        "n_comp=[11,13,15,17,19,21]\n",
        "\n",
        "pca = PCA()\n",
        "\n",
        "gnb = GaussianNB()\n",
        "pipe = Pipeline(steps=[('gnb', gnb)])\n",
        "\n",
        "scores = cross_val_score(pipe, train, train_labels, cv=5, scoring='f1_micro')\n",
        "cv_scores.append(scores.mean())\n",
        "\n",
        "pipe = Pipeline(steps=[('pca', pca), ('gnb', gnb)])\n",
        "\n",
        "estimator = GridSearchCV(pipe, dict(pca__n_components=n_comp), cv=5,scoring='f1_micro', n_jobs=1)\n",
        "estimator.fit(train,train_labels)\n",
        "print(estimator.best_params_)\n",
        "print(estimator.best_score_)\n",
        "cv_scores.append(estimator.best_score_)\n",
        "\n",
        "pipe = Pipeline(steps=[('sampler', ros), ('gnb', gnb)])\n",
        "\n",
        "scores = cross_val_score(pipe, train, train_labels, cv=5, scoring='f1_micro')\n",
        "cv_scores.append(scores.mean())\n",
        "\n",
        "pipe = Pipeline(steps=[ ('sampler', ros), ('pca', pca), ('gnb', gnb)])\n",
        "\n",
        "estimator = GridSearchCV(pipe, dict(pca__n_components=n_comp), cv=5,scoring='f1_micro', n_jobs=1)\n",
        "estimator.fit(train,train_labels)\n",
        "print(estimator.best_params_)\n",
        "print(estimator.best_score_)\n",
        "cv_scores.append(estimator.best_score_)\n",
        "\n",
        "pipe = Pipeline(steps=[('scaler', scaler), ('gnb', gnb)])\n",
        "\n",
        "scores = cross_val_score(pipe, train, train_labels, cv=5, scoring='f1_micro')\n",
        "cv_scores.append(scores.mean())\n",
        "\n",
        "pipe = Pipeline(steps=[('scaler', scaler), ('pca', pca), ('gnb', gnb)])\n",
        "\n",
        "estimator = GridSearchCV(pipe, dict(pca__n_components=n_comp), cv=5,scoring='f1_micro', n_jobs=1)\n",
        "estimator.fit(train,train_labels)\n",
        "print(estimator.best_params_)\n",
        "print(estimator.best_score_)\n",
        "cv_scores.append(estimator.best_score_)\n",
        "\n",
        "pipe = Pipeline(steps=[('scaler', scaler), ('sampler', ros), ('gnb', gnb)])\n",
        "\n",
        "scores = cross_val_score(pipe, train, train_labels, cv=5, scoring='f1_micro')\n",
        "cv_scores.append(scores.mean())\n",
        "\n",
        "pipe = Pipeline(steps=[('scaler', scaler), ('sampler', ros), ('pca', pca), ('gnb', gnb)])\n",
        "\n",
        "estimator = GridSearchCV(pipe, dict(pca__n_components=n_comp), cv=5,scoring='f1_micro', n_jobs=1)\n",
        "estimator.fit(train,train_labels)\n",
        "print(estimator.best_params_)\n",
        "print(estimator.best_score_)\n",
        "cv_scores.append(estimator.best_score_)\n",
        "\n",
        "\n",
        "print(cv_scores)\n",
        "\n"
      ],
      "execution_count": 0,
      "outputs": [
        {
          "output_type": "stream",
          "text": [
            "{'pca__n_components': 19}\n",
            "0.8339253996447602\n",
            "{'pca__n_components': 17}\n",
            "0.8536856127886323\n",
            "{'pca__n_components': 19}\n",
            "0.8394760213143873\n",
            "{'pca__n_components': 13}\n",
            "0.8441385435168739\n",
            "[0.7950585464586692, 0.8339253996447602, 0.7932842183531644, 0.8536856127886323, 0.7950585464586692, 0.8394760213143873, 0.7932842183531644, 0.8441385435168739]\n"
          ],
          "name": "stdout"
        }
      ]
    },
    {
      "cell_type": "markdown",
      "metadata": {
        "id": "qLgiBAM2b4EL",
        "colab_type": "text"
      },
      "source": [
        "Στον ταξινομητή αυτόν δεν έχουμε υπερπαραμέτρους να βελτιστοποιήσουμε συνεπώς γίνεται χρήση της GridsearchCV μόνο για την παράμετρο n_components του pca. Για να βρούμε τον βέλτιστο συνδυασμό σταδίων προεπεξεργασίας τα δοκιμάζουμε όλους τους συνδυασμούς pipeline που έχουμε στην διαθεσή μας. Επιλέγουμε να μην δοκιμάσουμε κανένα selector καθώς όλα τα χαρακτηριστικά έχουν πολύ κοντινά variances και να αφαιρέσουμε κάποια από αυτά δεν φαίνεται σωστή επιλογή. Κάναμε ορισμένες μετρήσεις και πράγματι ο selector πάντα έριχνε τις επιδόσεις.\n",
        "\n",
        "Έχουμε τα στάδια scaler (δοκιμάζουμε πρώτα τον Standard (1) και έπειτα τον MinMax(2)), sampler, και pca. \n",
        "\n",
        "Δοκιμάζουμε όλους τους συνδυασμούς για τα στάδια προεπεξεργασίας και τα αποθηκεύουμε σε έναν πίνακα. Για κάθε συνδυασμό αντιστοιχεί ένα index στον πίνακα σύμφωνα με την κωδικοποίηση:\n",
        "\n",
        "\n",
        "|Scaler | Sampler | PCA  | \n",
        "|-----|-------|-------------|\n",
        "|0|0|0| \n",
        "|0|0|1|\n",
        "|0|1|0|\n",
        "|0|1|1|\n",
        "|1|0|0|\n",
        "|1|0|1|\n",
        "|1|1|0|\n",
        "|1|1|1|\n",
        "\n",
        "Πήραμε τα εξής αποτελέσματα για την μετρική f1_micro:\n",
        "\n",
        "micro StandardScaler\n",
        "[0.7950585464586692, 0.83348134991119[n=17], 0.7932842183531644, 0.8532415630550622[n=17], 0.7950585464586692, 0.8370337477797514[n=19], 0.7932842183531644, 0.8392539964476021[n=13]]\n",
        "\n",
        "micro MinMaxScaler\n",
        "[0.7950585464586692, 0.83348134991119[n=17], 0.7932842183531644, 0.852797513321492[n=17], 0.7950585464586692, 0.8396980461811723[n=21], 0.7932842183531644, 0.8443605683836589[n=13]]\n",
        "\n",
        "Για το κάθε αποτέλεσμα στον πίνακα έχουμε σημειώσει για ποιά τιμή n_comp του PCA την πήραμε.\n",
        "\n",
        "***Τα καλύτερα αποτελέσματα για f1_micro τα παίρνουμε με αρχιτεκτονική: OverSampler και PCA(17)***\n",
        "\n",
        "Επαναλαμβάνουμε την διαδικασία για f1_macro.\n",
        "\n",
        "\n",
        "macro Standard\n",
        "[0.7753699330928873, 0.7782949013261041[n=19], 0.7743806271818945, 0.820937794748363[n=17], 0.7753699330928873, 0.7787878438358593[n=19], 0.7743806271818945, 0.8033767857537292[n=13]]\n",
        "\n",
        "macro MinMax\n",
        "[0.7753699330928873, 0.7777658350901553[n=19], 0.7743806271818945, 0.8205602020351909[n=17], 0.7753699330928873, 0.7980031658589034[n=13], 0.7743806271818945, 0.8168063811502061[n=13]]\n",
        "\n",
        "***Παρατηρούμε ότι την καλύτερη επίδοση και ως προς f1_macro την παίρνουμε πάλι για OverSampler και PCA(17).***\n",
        "\n",
        "\n",
        "\n",
        "\n"
      ]
    },
    {
      "cell_type": "code",
      "metadata": {
        "id": "XDGBQIs4omlL",
        "colab_type": "code",
        "outputId": "ec3bf590-29c4-46e0-83ad-20c87c7de8f3",
        "colab": {
          "base_uri": "https://localhost:8080/",
          "height": 425
        }
      },
      "source": [
        "\n",
        "ros = RandomOverSampler(random_state=0)\n",
        "pca=PCA(17)\n",
        "\n",
        "pipe = Pipeline(steps=[ ('sampler', ros), ('pca', pca), ('gnb', gnb)])\n",
        "start_time = time.time()\n",
        "pipe.fit(train,train_labels)\n",
        "preds = pipe.predict(test)\n",
        "time_micro['GNB']=time.time() - start_time\n",
        "time_macro['GNB']=time_micro['GNB']\n",
        "print(f1_score(test_labels,preds,average='micro'))\n",
        "f1_micro_opt['GNB']=(f1_score(test_labels,preds,average='micro'))\n",
        "\n",
        "\n",
        "print(f1_score(test_labels,preds,average='macro'))\n",
        "f1_macro_opt['GNB']=(f1_score(test_labels,preds,average='macro'))\n",
        "\n",
        "#τυπώνουμε ένα classification report και confusion matrix καθώς η αρχιτεκτονική για f1-micro και f1-macro ταυτίζονται\n",
        "print(\"Classification report for optimized GNB\")\n",
        "print(classification_report(test_labels,preds))\n",
        "print('Confusion Matrix for optimized GNB')\n",
        "print(confusion_matrix(test_labels, preds))\n"
      ],
      "execution_count": 0,
      "outputs": [
        {
          "output_type": "stream",
          "text": [
            "0.84774728120145\n",
            "0.8220451047055054\n",
            "Classification report for optimized GNB\n",
            "              precision    recall  f1-score   support\n",
            "\n",
            "           0       0.98      0.96      0.97       424\n",
            "           1       0.89      1.00      0.94       209\n",
            "           2       0.87      0.91      0.89       419\n",
            "           3       0.54      0.50      0.52       206\n",
            "           4       0.79      0.79      0.79       215\n",
            "           5       0.84      0.80      0.82       458\n",
            "\n",
            "   micro avg       0.85      0.85      0.85      1931\n",
            "   macro avg       0.82      0.83      0.82      1931\n",
            "weighted avg       0.85      0.85      0.85      1931\n",
            "\n",
            "Confusion Matrix for optimized GNB\n",
            "[[405   3   4   2   9   1]\n",
            " [  0 208   0   0   1   0]\n",
            " [  2   3 382  28   3   1]\n",
            " [  0   9  48 104   3  42]\n",
            " [  5   7   0   8 170  25]\n",
            " [  0   3   7  50  30 368]]\n"
          ],
          "name": "stdout"
        }
      ]
    },
    {
      "cell_type": "markdown",
      "metadata": {
        "id": "v7IqJrC3ydxZ",
        "colab_type": "text"
      },
      "source": [
        "###KNN\n",
        "\n",
        "Για τον αλγόριθμο αυτό πρέπει να βελτιστοποιήσουμε τις παραμέτρους n_neighbors, metric, weights.\n",
        "Για το n_neighbors δοκιμάζουμε τιμές 5,7,9,11,13, metric: minkowski και η παράμετρος p να παίρνει τιμές 1,2,3. Η minkowski με p=1 είναι η manhattan, με p=2 είναι η euclidean. Για τα weights βάζουμε τιμές distance και uniform. \n",
        "Κάνουμε χρήση της gridsearchCV για την εύρεση του βέλτιστου πλέγματος για κάθε δυνατή αρχιτεκτονική.\n",
        "\n",
        "Ως προς την αρχιτεκτονική δοκιμάζουμε πάλι 2 διαφορετικούς scalers και 2 διαφορετικούς samplers για τους 8 συνδυασμούς scaler, sampler,pca. \n",
        "Στην αναζήτηση πλέγματος προσθέτουμε επίσης την παράμετρο pca components.\n",
        "\n",
        "Ανάλογα με την αρχιτεκτονική, αλλάζουν οι βέλτιστες παράμετροι. Όταν μία παράμετρος προκύπτει στα ακρά του διαστήματος επαναλαμβάνουμε την μέτρηση με νέες τιμές στην παράμετρο ώστε να είμαστε βέβαιοι ότι βρήκαμε την βέλτιστη τιμή παραμέτρου.\n",
        "\n",
        "Δουλέψαμε λοιπόν με τον παρακάτω κώδικα κάνοντας εξαντλητική ανάζητηση σε όλες τις αρχιτεκτονικές.\n",
        "\n",
        "\n",
        "\n",
        "\n"
      ]
    },
    {
      "cell_type": "code",
      "metadata": {
        "id": "KMxjvbQ0Hv4q",
        "colab_type": "code",
        "colab": {}
      },
      "source": [
        "from sklearn import neighbors\n",
        "\n",
        "#scaler = StandardScaler()\n",
        "scaler = MinMaxScaler()\n",
        "\n",
        "ros = RandomOverSampler(random_state=0)\n",
        "#ros=RandomUnderSampler(random_state=0)\n",
        "\n",
        "\n",
        "clf = neighbors.KNeighborsClassifier(n_jobs=-1)\n",
        "\n",
        "\n",
        "pca = PCA()\n",
        "\n",
        "#scaler = StandardScaler()\n",
        "scaler = MinMaxScaler()\n",
        "\n",
        "ros = RandomOverSampler(random_state=0)\n",
        "\n",
        "n_comp=[11,13,15,17,19,21,23]\n",
        "k=[1,3,5,7,9,11,13,15]\n",
        "p=[1,2,3]\n",
        "metric=['minkowski']\n",
        "weights=['uniform','distance']\n",
        "\n",
        "\n",
        "\n",
        "pipe = Pipeline(steps=[('scaler', scaler),('sampler',ros),('pca',pca),('kNN', clf)], memory = 'tmp') \n",
        "\n",
        "estimator = GridSearchCV(pipe, dict(pca__n_components=n_comp,kNN__p=p,kNN__n_neighbors=k,kNN__weights=weights,kNN__metric=metric), cv=5,scoring='f1_macro', n_jobs=1)\n",
        "estimator.fit(train,train_labels)\n",
        "print(estimator.best_params_)\n",
        "print(estimator.best_score_)\n",
        "\n",
        "\n"
      ],
      "execution_count": 0,
      "outputs": []
    },
    {
      "cell_type": "markdown",
      "metadata": {
        "id": "8szI_jXZuGbK",
        "colab_type": "text"
      },
      "source": [
        "Για κάθε pipeline κρατήσαμε την βέλτιστη τιμή f1_micro και τις βέλτιστες υπερπαραμέτρους. \n",
        "Οι μετρήσεις είναι οι εξής:\n",
        "\n",
        "0:Κανένα στάδιο προεπεξεργασίας\n",
        "{'kNN__metric': 'minkowski', 'kNN__n_neighbors': 3, 'kNN__p': 1, 'kNN__weights': 'distance'}\n",
        "0.9063055062166963\n",
        "\n",
        "1:PCA\n",
        "{'kNN__metric': 'minkowski', 'kNN__n_neighbors': 3, 'kNN__p': 1, 'kNN__weights': 'distance', 'pca__n_components': 15}\n",
        "0.9096358792184724\n",
        "\n",
        "2:OverSampler\n",
        "{'kNN__metric': 'minkowski', 'kNN__n_neighbors': 9, 'kNN__p': 1, 'kNN__weights': 'distance'}\n",
        "0.8932060390763765\n",
        "\n",
        "\n",
        "2:UnderSampler\n",
        "{'kNN__metric': 'minkowski', 'kNN__n_neighbors': 9, 'kNN__p': 1, 'kNN__weights': 'distance'}\n",
        "0.8932060390763765\n",
        "\n",
        "3:OverSampler, PCA\n",
        "{'kNN__metric': 'minkowski', 'kNN__n_neighbors': 1, 'kNN__p': 2, 'kNN__weights': 'uniform', 'pca__n_components': 15}\n",
        "0.9043072824156305\n",
        "\n",
        "3:UnderSampler, PCA\n",
        "{'kNN__metric': 'minkowski', 'kNN__n_neighbors': 5, 'kNN__p': 1, 'kNN__weights': 'distance', 'pca__n_components': 15}\n",
        "0.8898756660746003\n",
        "\n",
        "4:StandardScaler\n",
        "{'kNN__metric': 'minkowski', 'kNN__n_neighbors': 3, 'kNN__p': 1, 'kNN__weights': 'uniform'}\n",
        "0.9063055062166963\n",
        "\n",
        "4:MinMaxScaler\n",
        "{'kNN__metric': 'minkowski', 'kNN__n_neighbors': 5, 'kNN__p': 1, 'kNN__weights': 'distance'}\n",
        "0.9047513321492007\n",
        "\n",
        "5:StandardScaler,PCA\n",
        "{'kNN__metric': 'minkowski', 'kNN__n_neighbors': 3, 'kNN__p': 1, 'kNN__weights': 'distance', 'pca__n_components': 19}\n",
        "0.9091918294849023\n",
        "\n",
        "5:MinMaxScaler, PCA\n",
        "{'kNN__metric': 'minkowski', 'kNN__n_neighbors': 3, 'kNN__p': 2, 'kNN__weights': 'uniform', 'pca__n_components': 15}\n",
        "0.9094138543516874\n",
        "\n",
        "6:StandardScaler, OverSampler\n",
        "{'kNN__metric': 'minkowski', 'kNN__n_neighbors': 7, 'kNN__p': 1, 'kNN__weights': 'distance'}\n",
        "0.8874333925399644\n",
        "\n",
        "6.StandardScaler, UnderSampler\n",
        "{'kNN__metric': 'minkowski', 'kNN__n_neighbors': 7, 'kNN__p': 1, 'kNN__weights': 'distance'}\n",
        "0.8874333925399644\n",
        "\n",
        "6:MinMaxScaler, OverSampler\n",
        "{'kNN__metric': 'minkowski', 'kNN__n_neighbors': 9, 'kNN__p': 1, 'kNN__weights': 'distance'}\n",
        "0.8940941385435168\n",
        "\n",
        "6:MinMaxScaler, UnderSampler\n",
        "{'kNN__metric': 'minkowski', 'kNN__n_neighbors': 7, 'kNN__p': 1, 'kNN__weights': 'distance'}\n",
        "0.8874333925399644\n",
        "\n",
        "7:StandardScaler, OverSampler, PCA\n",
        "{'kNN__metric': 'minkowski', 'kNN__n_neighbors': 11, 'kNN__p': 1, 'kNN__weights': 'distance', 'pca__n_components': 13}\n",
        "0.8936500888099467\n",
        "\n",
        "7:StandardScaler, UnderSampler,PCA\n",
        "{'kNN__metric': 'minkowski', 'kNN__n_neighbors': 5, 'kNN__p': 2, 'kNN__weights': 'distance', 'pca__n_components': 19}\n",
        "0.8923179396092362\n",
        "\n",
        "7:MinMaxScaler, OverSampler,PCA\n",
        "{'kNN__metric': 'minkowski', 'kNN__n_neighbors': 9, 'kNN__p': 2, 'kNN__weights': 'distance', 'pca__n_components': 15}\n",
        "0.8894316163410302\n",
        "\n",
        "7:MinMaxScaler, UnderSampler,PCA\n",
        "s{'kNN__metric': 'minkowski', 'kNN__n_neighbors': 9, 'kNN__p': 2, 'kNN__weights': 'distance', 'pca__n_components': 15}\n",
        "0.8894316163410302\n",
        "\n",
        "***To βέλτιστο αποτέλεσμα ως προς f1_micro το παίρνουμε με αρχιτεκτονική: PCA(15), estimator,\n",
        "για k=3, minkowski με p=1, weights: distance.***\n",
        "\n",
        "Αυτό που παρατηρούμε είναι ότι έχουμε πολύ μικρές μεταβολές στην επίδοση από αρχιτεκτονική σε αρχιτεκτονική.\n",
        "\n",
        "Παρατηρούμε ότι σε όλες τις περιπτώσεις ο OverSampler έδωσε ίδια ή καλύτερα αποτελέσματα από τον UnderSampler, ενώ για τους scalers δεν μπορούμε να βγάλουμε κάποιο συμπέρασμα.Για τον λόγο αυτό για το f1_macro δεν θα ασχοληθούμε με τον UnderSampler.\n",
        "\n",
        "0:\n",
        "{'kNN__metric': 'minkowski', 'kNN__n_neighbors': 5, 'kNN__p': 2, 'kNN__weights': 'distance'}\n",
        "0.8839504647590436\n",
        "\n",
        "1:PCA\n",
        "{'kNN__metric': 'minkowski', 'kNN__n_neighbors': 5, 'kNN__p': 1, 'kNN__weights': 'distance', 'pca__n_components': 15}\n",
        "0.8896222535237469\n",
        "\n",
        "2:\n",
        "{'kNN__metric': 'minkowski', 'kNN__n_neighbors': 1, 'kNN__p': 1, 'kNN__weights': 'uniform'}\n",
        "0.884279234681473\n",
        "\n",
        "3:RandomOverSampler, PCA\n",
        "{'kNN__metric': 'minkowski', 'kNN__n_neighbors': 11, 'kNN__p': 1, 'kNN__weights': 'distance', 'pca__n_components': 17}\n",
        "0.8826814516268267\n",
        "\n",
        "4:StandardScaler\n",
        "{'kNN__metric': 'minkowski', 'kNN__n_neighbors': 5, 'kNN__p': 1, 'kNN__weights': 'distance'}\n",
        "0.8853990167479344\n",
        "\n",
        "4:MinMaxScaler\n",
        "{'kNN__metric': 'minkowski', 'kNN__n_neighbors': 1, 'kNN__p': 1, 'kNN__weights': 'uniform'}\n",
        "0.8860615781064177\n",
        "\n",
        "5:StandardScaler,PCA\n",
        "{'kNN__metric': 'minkowski', 'kNN__n_neighbors': 3, 'kNN__p': 2, 'kNN__weights': 'uniform', 'pca__n_components': 15}\n",
        "0.8913308193599334\n",
        "\n",
        "5:MinMaxScaler,PCA\n",
        "{'kNN__metric': 'minkowski', 'kNN__n_neighbors': 3, 'kNN__p': 1, 'kNN__weights': 'distance', 'pca__n_components': 17}\n",
        "0.89202110137818\n",
        "\n",
        "\n",
        "6:MinMax\n",
        "{'kNN__metric': 'minkowski', 'kNN__n_neighbors': 1, 'kNN__p': 1, 'kNN__weights': 'uniform'}\n",
        "0.8860615781064177\n",
        "\n",
        "\n",
        "6:Standard\n",
        "{'kNN__metric': 'minkowski', 'kNN__n_neighbors': 1, 'kNN__p': 1, 'kNN__weights': 'uniform'}\n",
        "0.8879828001745423\n",
        "\n",
        "7:StandardScaler,Sampler,PCA\n",
        "{'kNN__metric': 'minkowski', 'kNN__n_neighbors': 1, 'kNN__p': 1, 'kNN__weights': 'uniform', 'pca__n_components': 19}\n",
        "0.8913247954203573\n",
        "\n",
        "\n",
        "7:MinMaxScaler,Sampler,PCA\n",
        "{'kNN__metric': 'minkowski', 'kNN__n_neighbors': 1, 'kNN__p': 1, 'kNN__weights': 'uniform', 'pca__n_components': 17}\n",
        "0.8928541603025623\n",
        "\n",
        "***To βέλτιστο αποτέλεσμα ως προς f1_macro το παίρνουμε με αρχιτεκτονική: MinMaxScaler, Sampler, PCA(17), estimator,\n",
        "για k=1, minkowski με p=1, weights: uniform***\n"
      ]
    },
    {
      "cell_type": "markdown",
      "metadata": {
        "id": "cx11inr2O8uy",
        "colab_type": "text"
      },
      "source": [
        "Για τις βέλτιστες αρχιτεκτονικές θα υπολογίσουμε τον συνολικό χρόνο που παίρνει το fit και το predict στο test set, αλλά και τις τελικές τιμές f1_micro και f1_macro που προκύπτουν στο test set."
      ]
    },
    {
      "cell_type": "code",
      "metadata": {
        "id": "80olecBuO7uz",
        "colab_type": "code",
        "outputId": "4a586f75-bed3-4bc8-dd6b-bc109778e591",
        "colab": {
          "base_uri": "https://localhost:8080/",
          "height": 798
        }
      },
      "source": [
        "pca=PCA(15)\n",
        "clf = neighbors.KNeighborsClassifier(n_neighbors=3,weights='distance',p=1,metric='minkowski',n_jobs=-1)\n",
        "\n",
        "pipe = Pipeline(steps=[('pca',pca),('kNN', clf)], memory = 'tmp') \n",
        "start_time = time.time()\n",
        "pipe.fit(train,train_labels)\n",
        "preds = pipe.predict(test)\n",
        "time_micro['KNN']=time.time() - start_time\n",
        "print(f1_score(test_labels,preds,average='micro'))\n",
        "f1_micro_opt['KNN']=(f1_score(test_labels,preds,average='micro'))\n",
        "\n",
        "print(\"Classification report for optimized(f1-micro) KNN\")\n",
        "print(classification_report(test_labels,preds))\n",
        "print('Confusion Matrix for optimized (f1-micro) KNN')\n",
        "print(confusion_matrix(test_labels, preds))\n",
        "\n",
        "scaler = MinMaxScaler()\n",
        "ros = RandomOverSampler(random_state=0)\n",
        "pca=PCA(17)\n",
        "clf = neighbors.KNeighborsClassifier(n_neighbors=3,weights='uniform',p=1,metric='minkowski',n_jobs=-1)\n",
        "\n",
        "pipe = Pipeline(steps=[('scaler',scaler),('sampler',ros),('pca',pca),('kNN', clf)], memory = 'tmp') \n",
        "start_time = time.time()\n",
        "pipe.fit(train,train_labels)\n",
        "preds = pipe.predict(test)\n",
        "time_macro['KNN']=time.time() - start_time\n",
        "print(f1_score(test_labels,preds,average='macro'))\n",
        "f1_macro_opt['KNN']=(f1_score(test_labels,preds,average='macro'))\n",
        "\n",
        "print(\"Classification report for optimized(f1-macro) KNN\")\n",
        "print(classification_report(test_labels,preds))\n",
        "print('Confusion Matrix for optimized (f1-macro) KNN')\n",
        "print(confusion_matrix(test_labels, preds))\n",
        "\n",
        "\n"
      ],
      "execution_count": 0,
      "outputs": [
        {
          "output_type": "stream",
          "text": [
            "0.9083376488865874\n",
            "Classification report for optimized(f1-micro) KNN\n",
            "              precision    recall  f1-score   support\n",
            "\n",
            "           0       0.98      0.99      0.98       424\n",
            "           1       0.97      0.98      0.97       209\n",
            "           2       0.89      0.94      0.91       419\n",
            "           3       0.74      0.70      0.72       206\n",
            "           4       0.91      0.86      0.89       215\n",
            "           5       0.91      0.89      0.90       458\n",
            "\n",
            "   micro avg       0.91      0.91      0.91      1931\n",
            "   macro avg       0.90      0.89      0.90      1931\n",
            "weighted avg       0.91      0.91      0.91      1931\n",
            "\n",
            "Confusion Matrix for optimized (f1-micro) KNN\n",
            "[[419   0   4   0   1   0]\n",
            " [  1 205   0   1   2   0]\n",
            " [  2   2 393  17   0   5]\n",
            " [  0   1  37 145   4  19]\n",
            " [  7   3   1   3 185  16]\n",
            " [  0   1   8  31  11 407]]\n",
            "0.8783734085691509\n",
            "Classification report for optimized(f1-macro) KNN\n",
            "              precision    recall  f1-score   support\n",
            "\n",
            "           0       0.99      0.98      0.98       424\n",
            "           1       0.97      0.98      0.97       209\n",
            "           2       0.90      0.88      0.89       419\n",
            "           3       0.61      0.77      0.68       206\n",
            "           4       0.85      0.90      0.88       215\n",
            "           5       0.93      0.82      0.87       458\n",
            "\n",
            "   micro avg       0.89      0.89      0.89      1931\n",
            "   macro avg       0.87      0.89      0.88      1931\n",
            "weighted avg       0.90      0.89      0.89      1931\n",
            "\n",
            "Confusion Matrix for optimized (f1-macro) KNN\n",
            "[[414   0   5   0   5   0]\n",
            " [  0 205   0   1   3   0]\n",
            " [  2   2 368  40   3   4]\n",
            " [  0   1  30 158   4  13]\n",
            " [  4   3   0   4 194  10]\n",
            " [  0   1   7  56  19 375]]\n"
          ],
          "name": "stdout"
        }
      ]
    },
    {
      "cell_type": "markdown",
      "metadata": {
        "id": "905R0qUmXyM1",
        "colab_type": "text"
      },
      "source": [
        "### MLP\n",
        "Για το optimization του MLP, επειδή οι παράμετροι είναι πάρα πολλές και ο συνδυασμός τους απαγορευτικός, για να μειώσουμε τους συνδυασμούς θα ακολουθήσουμε την εξής στρατηγική:\n",
        "Θα βρούμε πρώτα ποια στρατηγική θα ακολουθήσουμε για το preprocessing για έναν MLP με default παραμέτρους και στη συνέχεια γι αυτό το preprocessing θα βελτιώσουμε τις παραμέτρους του MLP.\n",
        "\n",
        "Στον παρακάτω κώδικα, ουσιαστικά για κάθε βήμα του preprocessing χρησιμοποιούμε διάφορες επιλογές.\n",
        "Για παράδειγμα στο στάδιο του feature selection χρησιμοποιούμε τον SelectKBest με παραμέτρους [15,20,30],\n",
        "για scaling χρησιμοποιούμε τον MinMaxScaler και τον StandardScaler(),\n",
        "για sampling χρησιμοποιούμε τον RandomOverSampler και τον RandomUnderSampler,\n",
        "και τέλος για feature extraction χρησιμοποιούμε PCA.\n",
        "\n",
        "ΠΡΟΣΟΧΗ !!!\n",
        "Στις λίστες με τα βήματα βάζουμε και το 0 που σημαίνει ότι αυτό το βήμα τις προεπεξεργασίας θα παραληφθεί.\n",
        "Για παράδειγμα έχουμε selectors = [0, SelectKBest()] που σημαίνει ότι τη μία φορά δε θα κάνουμε καθόλου επιλογή χαρακτηριστικών από το train set και την επόμενη θα χρησιμοποιήσουμε τον SelectKBest.\n",
        "\n",
        "Επειδή το παρακάτω block code χρειάζεται αρκετή ώρα για να τρέξει, στο επόμενο markdown block έχουμε αποθηκεύσει την έξοδό του καλού κακού."
      ]
    },
    {
      "cell_type": "code",
      "metadata": {
        "id": "ZZnG4UHcjTxE",
        "colab_type": "code",
        "colab": {}
      },
      "source": [
        "from sklearn.neural_network import MLPClassifier\n",
        "from sklearn.preprocessing import StandardScaler, MinMaxScaler\n",
        "from sklearn.feature_selection import SelectKBest\n",
        "from sklearn.metrics import classification_report\n",
        "from imblearn.over_sampling import RandomOverSampler\n",
        "from imblearn.under_sampling import RandomUnderSampler\n",
        "\n",
        "clf = MLPClassifier()\n",
        "\n",
        "select_k = [15,20,30]\n",
        "n_components = [5,8,12]\n",
        "\n",
        "selectors = [0, SelectKBest()]\n",
        "scalers = [0, MinMaxScaler(), StandardScaler()]\n",
        "samplers = [0, RandomOverSampler(random_state = 100), RandomUnderSampler(random_state = 100)]\n",
        "extractors = [0, PCA()]\n",
        "\n",
        "\n",
        "steps = []\n",
        "dictionary = {}\n",
        "best_score = 0.0\n",
        "\n",
        "\n",
        "for selector in selectors:\n",
        "    if selector != 0:\n",
        "        s1 = [('selector', selector)]\n",
        "        dictionary['selector__k'] = select_k\n",
        "    else:\n",
        "        s1 = []\n",
        "        dictionary.pop('selector__k', None)\n",
        "        \n",
        "    for scaler in scalers:\n",
        "        if scaler != 0:\n",
        "            s2 = [('scaler', scaler)]\n",
        "        else:\n",
        "            s2 = []\n",
        "        \n",
        "        for sampler in samplers:\n",
        "            if sampler != 0:\n",
        "                s3 = [('sampler', sampler)]\n",
        "            else:\n",
        "                s3 = []\n",
        "            \n",
        "            for pca in extractors:\n",
        "                if pca != 0:\n",
        "                    s4 = [('pca', pca)]\n",
        "                    dictionary['pca__n_components'] = n_components\n",
        "                else:\n",
        "                    s4 = []\n",
        "                    dictionary.pop('pca__n_components', None)\n",
        "                \n",
        "                s5 = [('mlp',clf)]\n",
        "                steps = s1 + s2 + s3 + s4 + s5\n",
        "\n",
        "                #print(steps)                \n",
        "                #print(dictionary)\n",
        "                \n",
        "                pipe = Pipeline(steps)\n",
        "                estimator = GridSearchCV(pipe, dictionary, cv=5, n_jobs=-1)\n",
        "                \n",
        "                estimator.fit(train, train_labels)\n",
        "                \n",
        "                estimator_score = estimator.best_score_\n",
        "                \n",
        "                if estimator_score > best_score:\n",
        "                    best_score = estimator_score\n",
        "                    best_params = estimator.best_params_\n",
        "                    best_steps = steps\n",
        "                    \n",
        "                \n",
        "                \n",
        "print(best_score)\n",
        "print(best_params)\n",
        "print(best_steps)\n"
      ],
      "execution_count": 0,
      "outputs": []
    },
    {
      "cell_type": "markdown",
      "metadata": {
        "id": "_sXgO2jDLlWg",
        "colab_type": "text"
      },
      "source": [
        "Το παραπάνω block κώδικα τύπωσε τα εξής αποτελέσματα:"
      ]
    },
    {
      "cell_type": "markdown",
      "metadata": {
        "id": "-mfDKAyqLoW4",
        "colab_type": "text"
      },
      "source": [
        "0.9058614564831261\n"
      ]
    },
    {
      "cell_type": "markdown",
      "metadata": {
        "id": "y_t9rUYILtjI",
        "colab_type": "text"
      },
      "source": [
        "{'pca__n_components': 12}\n"
      ]
    },
    {
      "cell_type": "markdown",
      "metadata": {
        "id": "HggCOpIzLv3n",
        "colab_type": "text"
      },
      "source": [
        "[('scaler', StandardScaler(copy=True, with_mean=True, with_std=True)), ('sampler', RandomOverSampler(random_state=100, ratio=None, return_indices=False,\n",
        "         sampling_strategy='auto')), ('pca', PCA(copy=True, iterated_power='auto', n_components=None, random_state=None,\n",
        "  svd_solver='auto', tol=0.0, whiten=False)), ('mlp', MLPClassifier(activation='relu', alpha=0.0001, batch_size='auto', beta_1=0.9,\n",
        "       beta_2=0.999, early_stopping=False, epsilon=1e-08,\n",
        "       hidden_layer_sizes=(100,), learning_rate='constant',\n",
        "       learning_rate_init=0.001, max_iter=200, momentum=0.9,\n",
        "       n_iter_no_change=10, nesterovs_momentum=True, power_t=0.5,\n",
        "       random_state=None, shuffle=True, solver='adam', tol=0.0001,\n",
        "       validation_fraction=0.1, verbose=False, warm_start=False))]"
      ]
    },
    {
      "cell_type": "markdown",
      "metadata": {
        "id": "TH-gP9SELxR9",
        "colab_type": "text"
      },
      "source": [
        "Παρατηρούμε ότι δεν επιλέχθηκε να γίνει SelectKBest που σημαίνει ότι όλα τα χαρακτηριστικά μας είναι εξίσου σημαντικά.\n",
        "Για scaler επιλέχθηκε ο StandardScaler, για sampler ο RandomOverSampler και τέλος επιλέχθηκε να γίνει PCA με καλύτερη παράμετρο τις 12 κύριες συνιστώσες.\n",
        "\n",
        "Βάσει λοιπόν αυτών των αποτελεσμάτων θα κάνουμε τώρα optimize στις παραμέτρους του MLP."
      ]
    },
    {
      "cell_type": "code",
      "metadata": {
        "id": "GKSyyilza63u",
        "colab_type": "code",
        "colab": {}
      },
      "source": [
        "steps = [('scaler',  StandardScaler() ), ('sampler', RandomOverSampler(random_state = 100) ), ('pca', PCA(n_components = 12)), ('mlp', MLPClassifier())]\n",
        "\n",
        "dictionary = {}\n",
        "dictionary['mlp__hidden_layer_sizes'] = [(70,), (100,), (150,)]\n",
        "dictionary['mlp__activation'] = ['logistic', 'tanh', 'relu']\n",
        "dictionary['mlp__solver'] = ['lbfgs', 'sgd', 'adam']\n",
        "dictionary['mlp__max_iter'] = [190, 200, 240]\n",
        "dictionary['mlp__learning_rate'] = ['constant', 'invscaling', 'adaptive']\n",
        "dictionary['mlp__alpha'] = [0.0001, 0.001, 0.01]\n"
      ],
      "execution_count": 0,
      "outputs": []
    },
    {
      "cell_type": "code",
      "metadata": {
        "id": "ZLOpf0OWL_2N",
        "colab_type": "code",
        "colab": {}
      },
      "source": [
        "pipe = Pipeline(steps)\n",
        "estimator = GridSearchCV(pipe, dictionary, cv=5,scoring='f1_micro', n_jobs=-1)\n",
        "\n",
        "\n",
        "estimator.fit(train, train_labels)\n",
        "                \n",
        "estimator.best_score_\n",
        "\n",
        "estimator.best_params_\n",
        "           \n",
        "print('F1-Micro')\n",
        "print(estimator.best_score_)\n",
        "print(estimator.best_params_)"
      ],
      "execution_count": 0,
      "outputs": []
    },
    {
      "cell_type": "markdown",
      "metadata": {
        "id": "ZEPs1-OcMDo9",
        "colab_type": "text"
      },
      "source": [
        "Το προηγούμενο block έδωσε έξοδο:\n",
        "\n",
        "F1-Micro\n",
        "0.9078596802841918\n",
        "{'mlp__activation': 'tanh', 'mlp__alpha': 0.0001, 'mlp__hidden_layer_sizes': (150,), 'mlp__solver': 'adam', 'mlp__learning_rate': 'constant', 'mlp__max_iter': 240}"
      ]
    },
    {
      "cell_type": "markdown",
      "metadata": {
        "id": "SncTQJt5MKX7",
        "colab_type": "text"
      },
      "source": [
        "Παρατηρούμε ότι δεν υπάρχει ιδιαίτερη βελτίωση όταν πειράζουμε τους παραμέτρους του MLP. Πιο σημαντικό απ' ότι φαίνεται είναι τα στάδια της προεπεξεργασίας"
      ]
    },
    {
      "cell_type": "code",
      "metadata": {
        "id": "dbumDp5MMGKY",
        "colab_type": "code",
        "colab": {}
      },
      "source": [
        "pipe = Pipeline(steps)\n",
        "estimator = GridSearchCV(pipe, dictionary, cv=5,scoring='f1_macro', n_jobs=-1)\n",
        "\n",
        "\n",
        "estimator.fit(train, train_labels)\n",
        "                \n",
        "estimator.best_score_\n",
        "\n",
        "estimator.best_params_\n",
        "           \n",
        "print('F1-Macro')\n",
        "print(estimator.best_score_)\n",
        "print(estimator.best_params_)"
      ],
      "execution_count": 0,
      "outputs": []
    },
    {
      "cell_type": "markdown",
      "metadata": {
        "id": "LG6ja27Ja7Qe",
        "colab_type": "text"
      },
      "source": [
        "F1-Macro\n",
        "0.8955178235107117\n",
        "{'mlp__activation': 'relu', 'mlp__alpha': 0.0001, 'mlp__hidden_layer_sizes': (150,), 'mlp__solver': 'adam', 'mlp__learning_rate': 'constant', 'mlp__max_iter': 240}"
      ]
    },
    {
      "cell_type": "code",
      "metadata": {
        "id": "BcPwygjmXpjN",
        "colab_type": "code",
        "outputId": "c6b03eeb-0f84-480a-95d1-d9e54f66d945",
        "colab": {
          "base_uri": "https://localhost:8080/",
          "height": 1190
        }
      },
      "source": [
        "from sklearn.metrics import f1_score\n",
        "\n",
        "mlp_micro = MLPClassifier(activation='tanh', alpha=0.0001, hidden_layer_sizes=(150,), learning_rate='constant', max_iter=240, solver='adam')\n",
        "mlp_macro = MLPClassifier(activation='relu', alpha=0.0001, hidden_layer_sizes=(100,), learning_rate='constant', max_iter=200, solver='adam')\n",
        "\n",
        "\n",
        "\n",
        "pipe = Pipeline(steps=[('scaler', StandardScaler()),('sampler', RandomOverSampler(random_state=100)), ('pca', PCA(n_components = 12)), ('mlp',mlp_micro)], memory = 'tmp') \n",
        "\n",
        "start_time = time.time()\n",
        "pipe.fit(train,train_labels)\n",
        "preds = pipe.predict(test)\n",
        "\n",
        "t = (time.time() - start_time)\n",
        "\n",
        "time_micro['MLP'] = t\n",
        "\n",
        "print('Total time :', t)\n",
        "\n",
        "print('Classification report for Optimal MLP Micro\\n')\n",
        "print(classification_report(test_labels, preds))\n",
        "\n",
        "\n",
        "f1_micro1 = f1_score(test_labels, preds, average='micro')\n",
        "f1_micro_opt['MLP']=f1_micro1\n",
        "print('f1-micro :', f1_micro1)\n",
        "print('\\n\\n')\n",
        "\n",
        "print('Confusion Matrix\\n')\n",
        "print(confusion_matrix(test_labels, preds), '\\n')\n",
        "\n",
        "acc = 100*accuracy_score(test_labels, preds)\n",
        "print('Accuracy percentage is %.2f %% \\n' % acc)\n",
        "print('- - - - - - - - - - - - - - - - - - - - - - - - - -\\n')\n",
        "\n",
        "\n",
        "\n",
        "pipe = Pipeline(steps=[('scaler', StandardScaler()),('sampler', RandomOverSampler(random_state=100)), ('pca', PCA(n_components = 12)), ('mlp',mlp_macro)], memory = 'tmp') \n",
        "\n",
        "start_time = time.time()\n",
        "pipe.fit(train,train_labels)\n",
        "preds = pipe.predict(test)\n",
        "\n",
        "t = (time.time() - start_time)\n",
        "\n",
        "time_macro['MLP'] = t\n",
        "\n",
        "print('Total time :', t)\n",
        "\n",
        "print('Classification report for Optimal MLP Macro\\n')\n",
        "print(classification_report(test_labels, preds))\n",
        "\n",
        "\n",
        "f1_macro1 = f1_score(test_labels, preds, average='macro')\n",
        "f1_macro_opt['MLP']=f1_macro1\n",
        "print('f1-macro :', f1_macro1)\n",
        "print('\\n\\n')\n",
        "\n",
        "print('Confusion Matrix\\n')\n",
        "print(confusion_matrix(test_labels, preds), '\\n')\n",
        "\n",
        "acc = 100*accuracy_score(test_labels, preds)\n",
        "print('Accuracy percentage is %.2f %% \\n' % acc)\n",
        "print('- - - - - - - - - - - - - - - - - - - - - - - - - -\\n')"
      ],
      "execution_count": 0,
      "outputs": [
        {
          "output_type": "stream",
          "text": [
            "Total time : 22.203887224197388\n",
            "Classification report for Optimal MLP Micro\n",
            "\n",
            "              precision    recall  f1-score   support\n",
            "\n",
            "           0       0.98      0.99      0.98       424\n",
            "           1       0.98      0.99      0.99       209\n",
            "           2       0.90      0.92      0.91       419\n",
            "           3       0.69      0.75      0.72       206\n",
            "           4       0.86      0.89      0.87       215\n",
            "           5       0.93      0.85      0.89       458\n",
            "\n",
            "   micro avg       0.90      0.90      0.90      1931\n",
            "   macro avg       0.89      0.90      0.89      1931\n",
            "weighted avg       0.91      0.90      0.90      1931\n",
            "\n",
            "f1-micro : 0.9041947177628172\n",
            "\n",
            "\n",
            "\n",
            "Confusion Matrix\n",
            "\n",
            "[[418   0   5   0   1   0]\n",
            " [  0 207   0   0   2   0]\n",
            " [  0   0 385  28   0   6]\n",
            " [  2   0  31 154   5  14]\n",
            " [  5   4   0   3 192  11]\n",
            " [  0   0   6  38  24 390]] \n",
            "\n",
            "Accuracy percentage is 90.42 % \n",
            "\n",
            "- - - - - - - - - - - - - - - - - - - - - - - - - -\n",
            "\n",
            "Total time : 6.695791959762573\n",
            "Classification report for Optimal MLP Macro\n",
            "\n",
            "              precision    recall  f1-score   support\n",
            "\n",
            "           0       0.99      0.98      0.99       424\n",
            "           1       0.97      0.99      0.98       209\n",
            "           2       0.91      0.92      0.91       419\n",
            "           3       0.68      0.73      0.71       206\n",
            "           4       0.84      0.90      0.87       215\n",
            "           5       0.91      0.84      0.87       458\n",
            "\n",
            "   micro avg       0.90      0.90      0.90      1931\n",
            "   macro avg       0.88      0.89      0.89      1931\n",
            "weighted avg       0.90      0.90      0.90      1931\n",
            "\n",
            "f1-macro : 0.8875091920439352\n",
            "\n",
            "\n",
            "\n",
            "Confusion Matrix\n",
            "\n",
            "[[417   0   3   0   4   0]\n",
            " [  0 206   0   1   2   0]\n",
            " [  1   0 384  27   0   7]\n",
            " [  0   1  31 151   3  20]\n",
            " [  3   5   1   2 194  10]\n",
            " [  0   0   4  41  29 384]] \n",
            "\n",
            "Accuracy percentage is 89.90 % \n",
            "\n",
            "- - - - - - - - - - - - - - - - - - - - - - - - - -\n",
            "\n"
          ],
          "name": "stdout"
        }
      ]
    },
    {
      "cell_type": "markdown",
      "metadata": {
        "id": "FNRdOlCGRNur",
        "colab_type": "text"
      },
      "source": [
        "###2. Πίνακες με χρόνους εκτέλεσης\n",
        "\n",
        "Αφού βρήκαμε την βέλτιστη αρχιτεκτονική  και τις βέλτιστες υπερπαραμέτρους για τους εκτιμητές Gaussian Naive Bayes, KNN και MLP ως προς μετρικές f1-micro και f1-macro, τις εφαρμόσαμε ώστε να εκπαιδεύσουμε τους ταξινομητές και να κάνουμε predict στα test δεδομένα. Μετρήσαμε τον συνολικό χρόνο που χρειάστηκε ο κάθε εκτιμητής για το fit και το predict. \n",
        "Επειδή όμως για κάθε μετρική μπορεί να προκύψουν διαφορετική αρχιτεκτονική και υπερπαράμετροι πήραμε χρόνο για τον βέλτιστο εκτιμητή ως προς f1-micro και ως προς f1-macro."
      ]
    },
    {
      "cell_type": "code",
      "metadata": {
        "id": "4WRssXz_aTe-",
        "colab_type": "code",
        "outputId": "a9fdbe9a-a4d0-4d73-fa28-f6c8c7721237",
        "colab": {
          "base_uri": "https://localhost:8080/",
          "height": 194
        }
      },
      "source": [
        "\n",
        "names={'GNB','KNN','MLP'}\n",
        "df_times = pd.DataFrame([time_micro], columns = names)\n",
        "df_times.rename(index={0:'Time'} , inplace=True)\n",
        "\n",
        "print('EXECUTION TIME (F1-MICRO OPTIMIZATION) (ms)\\n')\n",
        "print(df_times)\n",
        "\n",
        "print('\\n')\n",
        "names={'GNB','KNN','MLP'}\n",
        "df_times = pd.DataFrame([time_macro], columns = names)\n",
        "df_times.rename(index={0:'Time'} , inplace=True)\n",
        "\n",
        "print('EXECUTION TIME (F1-MACRO OPTIMIZATION) (ms)\\n')\n",
        "print(df_times)"
      ],
      "execution_count": 0,
      "outputs": [
        {
          "output_type": "stream",
          "text": [
            "EXECUTION TIME (F1-MICRO OPTIMIZATION) (ms)\n",
            "\n",
            "           GNB      KNN        MLP\n",
            "Time  0.118339  0.22711  22.203887\n",
            "\n",
            "\n",
            "EXECUTION TIME (F1-MACRO OPTIMIZATION) (ms)\n",
            "\n",
            "           GNB       KNN       MLP\n",
            "Time  0.118339  0.238163  6.695792\n"
          ],
          "name": "stdout"
        }
      ]
    },
    {
      "cell_type": "markdown",
      "metadata": {
        "id": "k3bWvjz5SvKr",
        "colab_type": "text"
      },
      "source": [
        "###3.Διαγράμματα f1-micro και f1-macro\n",
        "\n",
        "Όπως ακριβώς και στο Γ2. τώρα τυπώνουμε τις μετρικές με τους βελτιστοποιημένους εκτιμητές.\n",
        "\n"
      ]
    },
    {
      "cell_type": "code",
      "metadata": {
        "id": "Z0lnBgo5TFem",
        "colab_type": "code",
        "outputId": "9d47a2d9-ed15-4b4f-a46c-7aa6636559ef",
        "colab": {
          "base_uri": "https://localhost:8080/",
          "height": 705
        }
      },
      "source": [
        "# Κάνουμε import την matplotplib\n",
        "import matplotlib.pyplot as plt\n",
        "\n",
        "plt.title('F1_micro average scores')\n",
        "plt.bar(range(len(f1_micro_opt)), list(f1_micro_opt.values()), align='center')\n",
        "plt.xticks(range(len(f1_micro_opt)), list(f1_micro_opt.keys()))\n",
        "\n",
        "\n",
        "plt.show()\n",
        "\n",
        "plt.title('F1_macro average scores')\n",
        "plt.bar(range(len(f1_macro_opt)), list(f1_macro_opt.values()), align='center')\n",
        "plt.xticks(range(len(f1_macro_opt)), list(f1_macro_opt.keys()))\n",
        "\n",
        "\n",
        "plt.show()"
      ],
      "execution_count": 0,
      "outputs": [
        {
          "output_type": "display_data",
          "data": {
            "image/png": "[encoded data removed]",
            "text/plain": [
              "<matplotlib.figure.Figure at 0x7f5c3737ef60>"
            ]
          },
          "metadata": {
            "tags": []
          }
        },
        {
          "output_type": "display_data",
          "data": {
            "image/png": "[encoded data removed]",
            "text/plain": [
              "<matplotlib.figure.Figure at 0x7f5c3e302208>"
            ]
          },
          "metadata": {
            "tags": []
          }
        }
      ]
    },
    {
      "cell_type": "markdown",
      "metadata": {
        "id": "nKPA-XqZTc7C",
        "colab_type": "text"
      },
      "source": [
        "###4. Μεταβολή επίδοσης\n",
        "\n",
        "Στο σημείο αυτό συγκρίνουμε τις μετρικές που πήραμε στο Γ. με αυτές που πήραμε από τους βελτιστοποιημένους εκτιμητές."
      ]
    },
    {
      "cell_type": "code",
      "metadata": {
        "id": "9MKIRImBTu6s",
        "colab_type": "code",
        "outputId": "5a46162c-8bc6-4110-86e4-2740834aeaf3",
        "colab": {
          "base_uri": "https://localhost:8080/",
          "height": 443
        }
      },
      "source": [
        "f1={}\n",
        "f2={}\n",
        "\n",
        "f1['GNB']=f1_micro['GNB']\n",
        "f1['KNN']=f1_micro['kΝΝ']\n",
        "f1['MLP']=f1_micro['MLP']\n",
        "\n",
        "f2['GNB']=f1_macro['GNB']\n",
        "f2['KNN']=f1_macro['kΝΝ']\n",
        "f2['MLP']=f1_macro['MLP']\n",
        "\n",
        "names={'GNB','KNN','MLP'}\n",
        "df_times = pd.DataFrame([f1], columns = names)\n",
        "df_times.rename(index={0:'f1-micro'} , inplace=True)\n",
        "\n",
        "\n",
        "print('f1-micro for non optimized estimators\\n')\n",
        "print(df_times)\n",
        "print('\\n')\n",
        "\n",
        "df_times = pd.DataFrame([f2], columns = names)\n",
        "df_times.rename(index={0:'f1-macro'} , inplace=True)\n",
        "\n",
        "print('f1-macro for non-optimized estimators\\n')\n",
        "print(df_times)\n",
        "print('\\n')\n",
        "\n",
        "\n",
        "names={'GNB','KNN','MLP'}\n",
        "\n",
        "df_times = pd.DataFrame([f1_micro_opt], columns = names)\n",
        "df_times.rename(index={0:'f1-micro'} , inplace=True)\n",
        "\n",
        "print('f1-micro for optimized estimators\\n')\n",
        "print(df_times)\n",
        "print('\\n')\n",
        "\n",
        "\n",
        "df_times = pd.DataFrame([f1_macro_opt], columns = names)\n",
        "df_times.rename(index={0:'f1-macro'} , inplace=True)\n",
        "\n",
        "print('f1-macro for optimized estimators\\n')\n",
        "print(df_times)\n",
        "print('\\n')\n",
        "\n",
        "\n",
        "\n"
      ],
      "execution_count": 0,
      "outputs": [
        {
          "output_type": "stream",
          "text": [
            "f1-micro for non optimized estimators\n",
            "\n",
            "               GNB       KNN       MLP\n",
            "f1-micro  0.802693  0.912998  0.772657\n",
            "\n",
            "\n",
            "f1-macro for non-optimized estimators\n",
            "\n",
            "               GNB       KNN       MLP\n",
            "f1-macro  0.788356  0.899387  0.711464\n",
            "\n",
            "\n",
            "f1-micro for optimized estimators\n",
            "\n",
            "               GNB       KNN       MLP\n",
            "f1-micro  0.847747  0.908338  0.904195\n",
            "\n",
            "\n",
            "f1-macro for optimized estimators\n",
            "\n",
            "               GNB       KNN       MLP\n",
            "f1-macro  0.822045  0.878373  0.887509\n",
            "\n",
            "\n"
          ],
          "name": "stdout"
        }
      ]
    },
    {
      "cell_type": "markdown",
      "metadata": {
        "id": "AgIQX5EnTt4J",
        "colab_type": "text"
      },
      "source": [
        "###5. Σχολιασμός Αποτελεσμάτων\n",
        "Παρατηρούμε ότι όλοι οι ταξινομητές έδωσαν καλύτερα αποτελέσματα όταν έγινε το optimization κάτι το οποίο ήταν αναμενόμενο. \n",
        "Μάλιστα, την σημαντικότερη βελτίωση την είχε ο MLP. \n",
        "Ο KNN ήταν αυτός που έδωσε τα καλύτερα αποτελέσματα και με default παραμέτρους αλλά και με optimized preprocessing που είναι λογικό καθώς ο χώρος των χαρακτηριστικών μας είναι διακριτός. \n",
        "Επίσης παρατηρήσαμε ότι αυτό που βελτίωνε τα αποτελέσματα δεν ήταν τόσο οι παράμετροι των ταξινομητών όσο τα στάδια της προεπεξεργασίας\n",
        "και οι μέθοδοι / παράμετροι που χρησιμοποιήθηκαν γι' αυτήν.\n",
        "Τα macro scores είναι πιο μικρά από τα micro καθώς τα macro δεν λαμβάνουν υπόψιν τους την ανισορροπία των κλάσεων.\n",
        "Επίσης όσον αφορά τα confusion matrices, παρατηρούμε μια ομοιομορφία όσον αφορά τα false positives και true negatives κάτι το οποίο είναι επιθυμητό καθώς δείχνει ότι δεν υπάρχει bias στο prediction των ταξινομητών μας (gaussian, knn και mlp).\n",
        "Τέλος, οι χρόνοι για fit και predict των optimized classifiers είναι αισθητά μεγαλύτεροι με τον MLP να δίνει αρκετά μεγάλο χρόνο."
      ]
    }
  ]
}
